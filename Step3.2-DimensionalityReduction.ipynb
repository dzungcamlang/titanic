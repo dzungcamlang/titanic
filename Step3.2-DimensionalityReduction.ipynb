{
 "cells": [
  {
   "cell_type": "code",
   "execution_count": 1,
   "metadata": {
    "collapsed": false
   },
   "outputs": [
    {
     "name": "stderr",
     "output_type": "stream",
     "text": [
      "Vendor:  Continuum Analytics, Inc.\n",
      "Package: mkl\n",
      "Message: trial mode expires in 29 days\n"
     ]
    }
   ],
   "source": [
    "import pylab as plt\n",
    "%matplotlib inline\n",
    "import numpy as np\n",
    "import pandas as pd\n",
    "import math\n",
    "\n",
    "from featureEngineering2 import feature_engineering\n",
    "\n",
    "df=pd.read_csv('data/train.csv', sep=',')\n",
    "\n",
    "df_f = feature_engineering(df)\n",
    "\n",
    "df_d = feature_engineering(df, get_dummies=True)"
   ]
  },
  {
   "cell_type": "code",
   "execution_count": 2,
   "metadata": {
    "collapsed": false
   },
   "outputs": [
    {
     "data": {
      "text/html": [
       "<div>\n",
       "<table border=\"1\" class=\"dataframe\">\n",
       "  <thead>\n",
       "    <tr style=\"text-align: right;\">\n",
       "      <th></th>\n",
       "      <th>Age_</th>\n",
       "      <th>Age_b</th>\n",
       "      <th>HasAge</th>\n",
       "      <th>Sex</th>\n",
       "      <th>Pclass</th>\n",
       "      <th>Fare_</th>\n",
       "      <th>HasFare</th>\n",
       "      <th>Title_</th>\n",
       "      <th>Embarked_</th>\n",
       "      <th>Cabin_</th>\n",
       "      <th>SibSp_</th>\n",
       "      <th>Parch_</th>\n",
       "    </tr>\n",
       "  </thead>\n",
       "  <tbody>\n",
       "    <tr>\n",
       "      <th>0</th>\n",
       "      <td>22</td>\n",
       "      <td>5</td>\n",
       "      <td>1</td>\n",
       "      <td>male</td>\n",
       "      <td>3</td>\n",
       "      <td>7.250</td>\n",
       "      <td>1</td>\n",
       "      <td>Mr</td>\n",
       "      <td>S</td>\n",
       "      <td>X</td>\n",
       "      <td>1</td>\n",
       "      <td>0</td>\n",
       "    </tr>\n",
       "    <tr>\n",
       "      <th>1</th>\n",
       "      <td>38</td>\n",
       "      <td>9</td>\n",
       "      <td>1</td>\n",
       "      <td>female</td>\n",
       "      <td>1</td>\n",
       "      <td>40.000</td>\n",
       "      <td>1</td>\n",
       "      <td>Mrs</td>\n",
       "      <td>C</td>\n",
       "      <td>C</td>\n",
       "      <td>1</td>\n",
       "      <td>0</td>\n",
       "    </tr>\n",
       "    <tr>\n",
       "      <th>2</th>\n",
       "      <td>26</td>\n",
       "      <td>6</td>\n",
       "      <td>1</td>\n",
       "      <td>female</td>\n",
       "      <td>3</td>\n",
       "      <td>7.925</td>\n",
       "      <td>1</td>\n",
       "      <td>Miss</td>\n",
       "      <td>S</td>\n",
       "      <td>X</td>\n",
       "      <td>0</td>\n",
       "      <td>0</td>\n",
       "    </tr>\n",
       "    <tr>\n",
       "      <th>3</th>\n",
       "      <td>35</td>\n",
       "      <td>9</td>\n",
       "      <td>1</td>\n",
       "      <td>female</td>\n",
       "      <td>1</td>\n",
       "      <td>40.000</td>\n",
       "      <td>1</td>\n",
       "      <td>Mrs</td>\n",
       "      <td>S</td>\n",
       "      <td>C</td>\n",
       "      <td>1</td>\n",
       "      <td>0</td>\n",
       "    </tr>\n",
       "    <tr>\n",
       "      <th>4</th>\n",
       "      <td>35</td>\n",
       "      <td>9</td>\n",
       "      <td>1</td>\n",
       "      <td>male</td>\n",
       "      <td>3</td>\n",
       "      <td>8.050</td>\n",
       "      <td>1</td>\n",
       "      <td>Mr</td>\n",
       "      <td>S</td>\n",
       "      <td>X</td>\n",
       "      <td>0</td>\n",
       "      <td>0</td>\n",
       "    </tr>\n",
       "  </tbody>\n",
       "</table>\n",
       "</div>"
      ],
      "text/plain": [
       "   Age_  Age_b  HasAge     Sex  Pclass   Fare_  HasFare Title_ Embarked_  \\\n",
       "0    22      5       1    male       3   7.250        1     Mr         S   \n",
       "1    38      9       1  female       1  40.000        1    Mrs         C   \n",
       "2    26      6       1  female       3   7.925        1   Miss         S   \n",
       "3    35      9       1  female       1  40.000        1    Mrs         S   \n",
       "4    35      9       1    male       3   8.050        1     Mr         S   \n",
       "\n",
       "  Cabin_  SibSp_  Parch_  \n",
       "0      X       1       0  \n",
       "1      C       1       0  \n",
       "2      X       0       0  \n",
       "3      C       1       0  \n",
       "4      X       0       0  "
      ]
     },
     "execution_count": 2,
     "metadata": {},
     "output_type": "execute_result"
    }
   ],
   "source": [
    "df_f.head()"
   ]
  },
  {
   "cell_type": "code",
   "execution_count": 3,
   "metadata": {
    "collapsed": false
   },
   "outputs": [
    {
     "data": {
      "text/html": [
       "<div>\n",
       "<table border=\"1\" class=\"dataframe\">\n",
       "  <thead>\n",
       "    <tr style=\"text-align: right;\">\n",
       "      <th></th>\n",
       "      <th>Age_</th>\n",
       "      <th>Age_b</th>\n",
       "      <th>HasAge</th>\n",
       "      <th>Pclass</th>\n",
       "      <th>Fare_</th>\n",
       "      <th>HasFare</th>\n",
       "      <th>SibSp_</th>\n",
       "      <th>Parch_</th>\n",
       "      <th>Sex_female</th>\n",
       "      <th>Sex_male</th>\n",
       "      <th>...</th>\n",
       "      <th>Embarked__X</th>\n",
       "      <th>Cabin__A</th>\n",
       "      <th>Cabin__B</th>\n",
       "      <th>Cabin__C</th>\n",
       "      <th>Cabin__D</th>\n",
       "      <th>Cabin__E</th>\n",
       "      <th>Cabin__F</th>\n",
       "      <th>Cabin__G</th>\n",
       "      <th>Cabin__T</th>\n",
       "      <th>Cabin__X</th>\n",
       "    </tr>\n",
       "  </thead>\n",
       "  <tbody>\n",
       "    <tr>\n",
       "      <th>0</th>\n",
       "      <td>22</td>\n",
       "      <td>5</td>\n",
       "      <td>1</td>\n",
       "      <td>3</td>\n",
       "      <td>7.250</td>\n",
       "      <td>1</td>\n",
       "      <td>1</td>\n",
       "      <td>0</td>\n",
       "      <td>0</td>\n",
       "      <td>1</td>\n",
       "      <td>...</td>\n",
       "      <td>0</td>\n",
       "      <td>0</td>\n",
       "      <td>0</td>\n",
       "      <td>0</td>\n",
       "      <td>0</td>\n",
       "      <td>0</td>\n",
       "      <td>0</td>\n",
       "      <td>0</td>\n",
       "      <td>0</td>\n",
       "      <td>1</td>\n",
       "    </tr>\n",
       "    <tr>\n",
       "      <th>1</th>\n",
       "      <td>38</td>\n",
       "      <td>9</td>\n",
       "      <td>1</td>\n",
       "      <td>1</td>\n",
       "      <td>40.000</td>\n",
       "      <td>1</td>\n",
       "      <td>1</td>\n",
       "      <td>0</td>\n",
       "      <td>1</td>\n",
       "      <td>0</td>\n",
       "      <td>...</td>\n",
       "      <td>0</td>\n",
       "      <td>0</td>\n",
       "      <td>0</td>\n",
       "      <td>1</td>\n",
       "      <td>0</td>\n",
       "      <td>0</td>\n",
       "      <td>0</td>\n",
       "      <td>0</td>\n",
       "      <td>0</td>\n",
       "      <td>0</td>\n",
       "    </tr>\n",
       "    <tr>\n",
       "      <th>2</th>\n",
       "      <td>26</td>\n",
       "      <td>6</td>\n",
       "      <td>1</td>\n",
       "      <td>3</td>\n",
       "      <td>7.925</td>\n",
       "      <td>1</td>\n",
       "      <td>0</td>\n",
       "      <td>0</td>\n",
       "      <td>1</td>\n",
       "      <td>0</td>\n",
       "      <td>...</td>\n",
       "      <td>0</td>\n",
       "      <td>0</td>\n",
       "      <td>0</td>\n",
       "      <td>0</td>\n",
       "      <td>0</td>\n",
       "      <td>0</td>\n",
       "      <td>0</td>\n",
       "      <td>0</td>\n",
       "      <td>0</td>\n",
       "      <td>1</td>\n",
       "    </tr>\n",
       "    <tr>\n",
       "      <th>3</th>\n",
       "      <td>35</td>\n",
       "      <td>9</td>\n",
       "      <td>1</td>\n",
       "      <td>1</td>\n",
       "      <td>40.000</td>\n",
       "      <td>1</td>\n",
       "      <td>1</td>\n",
       "      <td>0</td>\n",
       "      <td>1</td>\n",
       "      <td>0</td>\n",
       "      <td>...</td>\n",
       "      <td>0</td>\n",
       "      <td>0</td>\n",
       "      <td>0</td>\n",
       "      <td>1</td>\n",
       "      <td>0</td>\n",
       "      <td>0</td>\n",
       "      <td>0</td>\n",
       "      <td>0</td>\n",
       "      <td>0</td>\n",
       "      <td>0</td>\n",
       "    </tr>\n",
       "    <tr>\n",
       "      <th>4</th>\n",
       "      <td>35</td>\n",
       "      <td>9</td>\n",
       "      <td>1</td>\n",
       "      <td>3</td>\n",
       "      <td>8.050</td>\n",
       "      <td>1</td>\n",
       "      <td>0</td>\n",
       "      <td>0</td>\n",
       "      <td>0</td>\n",
       "      <td>1</td>\n",
       "      <td>...</td>\n",
       "      <td>0</td>\n",
       "      <td>0</td>\n",
       "      <td>0</td>\n",
       "      <td>0</td>\n",
       "      <td>0</td>\n",
       "      <td>0</td>\n",
       "      <td>0</td>\n",
       "      <td>0</td>\n",
       "      <td>0</td>\n",
       "      <td>1</td>\n",
       "    </tr>\n",
       "  </tbody>\n",
       "</table>\n",
       "<p>5 rows × 40 columns</p>\n",
       "</div>"
      ],
      "text/plain": [
       "   Age_  Age_b  HasAge  Pclass   Fare_  HasFare  SibSp_  Parch_  Sex_female  \\\n",
       "0    22      5       1       3   7.250        1       1       0           0   \n",
       "1    38      9       1       1  40.000        1       1       0           1   \n",
       "2    26      6       1       3   7.925        1       0       0           1   \n",
       "3    35      9       1       1  40.000        1       1       0           1   \n",
       "4    35      9       1       3   8.050        1       0       0           0   \n",
       "\n",
       "   Sex_male    ...     Embarked__X  Cabin__A  Cabin__B  Cabin__C  Cabin__D  \\\n",
       "0         1    ...               0         0         0         0         0   \n",
       "1         0    ...               0         0         0         1         0   \n",
       "2         0    ...               0         0         0         0         0   \n",
       "3         0    ...               0         0         0         1         0   \n",
       "4         1    ...               0         0         0         0         0   \n",
       "\n",
       "   Cabin__E  Cabin__F  Cabin__G  Cabin__T  Cabin__X  \n",
       "0         0         0         0         0         1  \n",
       "1         0         0         0         0         0  \n",
       "2         0         0         0         0         1  \n",
       "3         0         0         0         0         0  \n",
       "4         0         0         0         0         1  \n",
       "\n",
       "[5 rows x 40 columns]"
      ]
     },
     "execution_count": 3,
     "metadata": {},
     "output_type": "execute_result"
    }
   ],
   "source": [
    "df_d.head()"
   ]
  },
  {
   "cell_type": "markdown",
   "metadata": {},
   "source": [
    "## Train, test split and StandarScaler"
   ]
  },
  {
   "cell_type": "code",
   "execution_count": 4,
   "metadata": {
    "collapsed": true
   },
   "outputs": [],
   "source": [
    "from sklearn.cross_validation import train_test_split\n",
    "from sklearn.preprocessing import StandardScaler\n",
    "\n",
    "X, y = df_d.iloc[:].values, df['Survived'].values\n",
    "\n",
    "X_train, X_test, y_train, y_test = train_test_split(X, y, test_size=0.3, random_state=0)\n",
    "\n",
    "stdsc = StandardScaler()\n",
    "\n",
    "X_train_std = stdsc.fit_transform(X_train)\n",
    "X_test_std = stdsc.transform(X_test)"
   ]
  },
  {
   "cell_type": "markdown",
   "metadata": {},
   "source": [
    "## Eigenvalues and Eigenvectors"
   ]
  },
  {
   "cell_type": "code",
   "execution_count": 8,
   "metadata": {
    "collapsed": false
   },
   "outputs": [
    {
     "name": "stdout",
     "output_type": "stream",
     "text": [
      "\n",
      "Eigenvalues \n",
      "[  4.38236837e+00   3.53803311e+00   2.38276031e+00   1.98572544e+00\n",
      "   8.22455179e-03   1.26329577e-01   1.51956481e+00   3.19054784e-01\n",
      "   4.67448381e-01   5.12972509e-01   5.99834031e-01   1.35342934e+00\n",
      "   1.30303887e+00   1.28425382e+00   6.61073038e-01   7.17977653e-01\n",
      "   7.73796397e-01   1.14872452e+00   8.99489794e-01   9.13737528e-01\n",
      "   1.05570703e+00   9.75913611e-01   1.04359042e+00   1.02803891e+00\n",
      "   1.02371242e+00   1.01405229e+00   9.97476416e-01   1.00989728e+00\n",
      "   1.00154552e+00   1.00621486e+00   1.00389223e+00   1.84711045e-15\n",
      "   1.98485191e-15   6.90266875e-16  -2.18376695e-16   1.08568440e-18\n",
      "   0.00000000e+00   0.00000000e+00   0.00000000e+00   0.00000000e+00]\n"
     ]
    }
   ],
   "source": [
    "# calculate the covariance matrix:\n",
    "cov_mat = np.cov(X_train_std.T)\n",
    "eigen_vals, eigen_vecs = np.linalg.eig(cov_mat) # eigendecomposition\n",
    "\n",
    "print('\\nEigenvalues \\n%s' % eigen_vals)"
   ]
  },
  {
   "cell_type": "code",
   "execution_count": 9,
   "metadata": {
    "collapsed": false
   },
   "outputs": [
    {
     "data": {
      "text/plain": [
       "(40,)"
      ]
     },
     "execution_count": 9,
     "metadata": {},
     "output_type": "execute_result"
    }
   ],
   "source": [
    "eigen_vals.shape"
   ]
  },
  {
   "cell_type": "code",
   "execution_count": 10,
   "metadata": {
    "collapsed": false
   },
   "outputs": [
    {
     "data": {
      "text/plain": [
       "(40, 40)"
      ]
     },
     "execution_count": 10,
     "metadata": {},
     "output_type": "execute_result"
    }
   ],
   "source": [
    "eigen_vecs.shape # eigenvectors (principal components)"
   ]
  },
  {
   "cell_type": "markdown",
   "metadata": {},
   "source": [
    "## Total and explained variance\n",
    "\n",
    "### We want to select the subset of the eigenvectors (principal components) that contains most of the information (variance)\n",
    "\n",
    "Since the eigenvalues define the magnitude of the eigenvectors, we have to sort the eigenvalues by decreasing magnitude.\n",
    "\n",
    "Firstly we use [cumsum] function to calculate the cumulative sum of explained variance, which we will plot via matplotlib's step function:"
   ]
  },
  {
   "cell_type": "code",
   "execution_count": 11,
   "metadata": {
    "collapsed": true
   },
   "outputs": [],
   "source": [
    "tot = sum(eigen_vals)\n",
    "var_exp = [(i / tot) for i in sorted(eigen_vals, reverse=True)]\n",
    "cum_var_exp = np.cumsum(var_exp)"
   ]
  },
  {
   "cell_type": "code",
   "execution_count": 13,
   "metadata": {
    "collapsed": false
   },
   "outputs": [
    {
     "data": {
      "image/png": "[encoded data removed]",
      "text/plain": [
       "<matplotlib.figure.Figure at 0x116864ed0>"
      ]
     },
     "metadata": {},
     "output_type": "display_data"
    }
   ],
   "source": [
    "plt.bar(range(1, 41), var_exp, alpha=0.5, align='center',\n",
    "        label='individual explained variance')\n",
    "plt.step(range(1, 41), cum_var_exp, where='mid',\n",
    "         label='cumulative explained variance')\n",
    "plt.ylabel('Explained variance ratio')\n",
    "plt.xlabel('Principal components')\n",
    "plt.legend(loc='best')\n",
    "plt.tight_layout()\n",
    "# plt.savefig('./figures/pca1.png', dpi=300)\n",
    "plt.show()"
   ]
  },
  {
   "cell_type": "markdown",
   "metadata": {},
   "source": [
    "The resulting plot indicates that the first principal component alone accounts for 12% to 13% of the variance. \n",
    "\n",
    "We shall remind ourselvs that PCA is an unsupervised method, which means that information about the class labels is ignored."
   ]
  },
  {
   "cell_type": "markdown",
   "metadata": {},
   "source": [
    "## Feature transformation"
   ]
  },
  {
   "cell_type": "markdown",
   "metadata": {},
   "source": [
    "We start by sorting the eigenpairs by decreasing order of the eigenvalues:"
   ]
  },
  {
   "cell_type": "code",
   "execution_count": 40,
   "metadata": {
    "collapsed": false
   },
   "outputs": [],
   "source": [
    "# Make a list of (eigenvalue, eigenvector) tuples\n",
    "eigen_pairs = [(np.abs(eigen_vals[i]), eigen_vecs[:,i]) for i in range(len(eigen_vals))]\n",
    "\n",
    "# Sort the (eigenvalue, eigenvector) tuples from high to low\n",
    "eigen_pairs.sort(reverse=True,key=lambda x: x[0])"
   ]
  },
  {
   "cell_type": "code",
   "execution_count": 42,
   "metadata": {
    "collapsed": false,
    "scrolled": true
   },
   "outputs": [
    {
     "data": {
      "text/plain": [
       "[(4.3823683741847024,\n",
       "  array([-0.01271662, -0.01143947, -0.06464792,  0.2619574 , -0.31763248,\n",
       "          0.        , -0.14427873, -0.17856924, -0.39946567,  0.39946567,\n",
       "         -0.02268595,  0.        ,  0.        , -0.00781941,  0.        ,\n",
       "         -0.03793256, -0.01799936, -0.00855681, -0.2362444 , -0.05952516,\n",
       "         -0.04313994,  0.39365639, -0.25272547, -0.00858811,  0.01849596,\n",
       "         -0.01808744, -0.03678245, -0.12561619,  0.02692625,  0.098774  ,\n",
       "         -0.06748209, -0.01610831, -0.16695903, -0.14597055, -0.10753625,\n",
       "         -0.06271184, -0.03042815, -0.03441438,  0.00285659,  0.26783574])),\n",
       " (3.5380331110554764,\n",
       "  array([-0.39912285, -0.39724602, -0.07957365,  0.34929237, -0.18009927,\n",
       "          0.        ,  0.18287497,  0.17199466,  0.18019033, -0.18019033,\n",
       "         -0.0642158 ,  0.        ,  0.        , -0.02980965,  0.        ,\n",
       "         -0.0479605 , -0.07055981,  0.17745042,  0.2322619 , -0.02821675,\n",
       "         -0.0192435 , -0.22776014, -0.00417735,  0.01276165, -0.01649039,\n",
       "         -0.06054482, -0.02471664, -0.10999559,  0.12812042,  0.01790454,\n",
       "         -0.05164602, -0.15656192, -0.11782223, -0.15738551, -0.1353966 ,\n",
       "         -0.13214052,  0.03151254,  0.04711613, -0.04666481,  0.32064953])),\n",
       " (2.3827603085474727,\n",
       "  array([ 0.22575796,  0.22324535, -0.23007132,  0.13651604, -0.28487573,\n",
       "          0.        , -0.31420391, -0.28666975,  0.22582057, -0.22582057,\n",
       "         -0.02490234,  0.        ,  0.        , -0.0281042 ,  0.        ,\n",
       "          0.01623383, -0.02706195, -0.39550693,  0.20465356,  0.0051635 ,\n",
       "          0.00752958, -0.03924487,  0.07100547,  0.0208806 ,  0.0415343 ,\n",
       "         -0.01117304, -0.01035489,  0.11203987,  0.31947538, -0.30928176,\n",
       "          0.05205945, -0.0491358 , -0.03402191, -0.10616552, -0.01377951,\n",
       "         -0.02776177, -0.07206726, -0.00998874, -0.02029285,  0.13897113])),\n",
       " (1.9857254358022445,\n",
       "  array([-0.21604565, -0.22016436, -0.17860387, -0.05714369,  0.09616796,\n",
       "          0.        ,  0.01429174, -0.0124745 , -0.15137955,  0.15137955,\n",
       "         -0.04189335,  0.        ,  0.        ,  0.00759121,  0.        ,\n",
       "          0.09640363, -0.02708451,  0.19454354,  0.00757579,  0.13747596,\n",
       "          0.09886048,  0.05975117, -0.25193043, -0.0516247 , -0.02787433,\n",
       "          0.12187757, -0.01867129,  0.47817221,  0.21630371, -0.54856579,\n",
       "         -0.00633301,  0.17868186,  0.09536966,  0.08680674, -0.03671281,\n",
       "         -0.07848387,  0.04698541, -0.05230671, -0.02418151, -0.11023427])),\n",
       " (1.5195648089733202,\n",
       "  array([ 0.20456041,  0.20281735, -0.22656311,  0.06920742,  0.10351166,\n",
       "          0.        ,  0.32276611,  0.19710372, -0.01362138,  0.01362138,\n",
       "         -0.06668646,  0.        ,  0.        ,  0.10857691,  0.        ,\n",
       "          0.1361145 , -0.10701433,  0.09859684, -0.21658948, -0.15659459,\n",
       "         -0.21180908, -0.04369167,  0.29048618, -0.03993993,  0.029656  ,\n",
       "          0.1420425 , -0.21173925,  0.03572364,  0.16382712, -0.11082473,\n",
       "         -0.20126569,  0.16019096, -0.47777984,  0.10358959,  0.0982644 ,\n",
       "         -0.04267477, -0.04709046, -0.07508581, -0.01550528,  0.12503688])),\n",
       " (1.353429340032966,\n",
       "  array([ 0.09290219,  0.09543381, -0.17397626,  0.00780499,  0.09470892,\n",
       "          0.        ,  0.14644576,  0.10392995, -0.08732493,  0.08732493,\n",
       "          0.16846366,  0.        ,  0.        ,  0.17353204,  0.        ,\n",
       "         -0.40066717,  0.13187866,  0.08955113, -0.14964695,  0.06137584,\n",
       "          0.03744923,  0.01241742,  0.08775704, -0.07414565,  0.05810416,\n",
       "         -0.35738499,  0.02893598, -0.0325741 ,  0.23832024, -0.14180363,\n",
       "          0.12124155, -0.53670429,  0.1624657 ,  0.21233328, -0.014195  ,\n",
       "         -0.06560856, -0.03821591, -0.13415832,  0.00537397,  0.04449491])),\n",
       " (1.3030388722157249,\n",
       "  array([ 0.15265349,  0.15219198, -0.12612674,  0.05148038,  0.04905863,\n",
       "          0.        ,  0.15808765,  0.09426864, -0.03837652,  0.03837652,\n",
       "          0.35348614,  0.        ,  0.        ,  0.08242133,  0.        ,\n",
       "          0.19146873,  0.0950573 ,  0.15833799,  0.03651401, -0.19076043,\n",
       "          0.037968  , -0.11933151, -0.10639122, -0.02550963,  0.12553026,\n",
       "          0.2148688 ,  0.17466574, -0.26290962,  0.24529884,  0.0296215 ,\n",
       "          0.28760078,  0.27110771,  0.32008234, -0.27492506, -0.22555824,\n",
       "         -0.07643559,  0.01652976, -0.10474425,  0.00376185,  0.05500907])),\n",
       " (1.2842538182807059,\n",
       "  array([ 0.03321338,  0.02808796,  0.14398342,  0.11281916, -0.00323481,\n",
       "          0.        ,  0.01357522,  0.12227179,  0.02011076, -0.02011076,\n",
       "          0.08872544,  0.        ,  0.        , -0.18434949,  0.        ,\n",
       "          0.05310853, -0.11386981, -0.03454177, -0.32121435,  0.08464207,\n",
       "          0.18838754,  0.02935993,  0.34198553,  0.02645333, -0.03610696,\n",
       "          0.0413688 ,  0.05024463,  0.31426709, -0.31579816, -0.08302739,\n",
       "          0.14256362, -0.02190502,  0.20313568, -0.21820376,  0.0392294 ,\n",
       "         -0.37400495, -0.28195088, -0.01439449, -0.07823176,  0.2786753 ])),\n",
       " (1.1487245208073698,\n",
       "  array([ 0.00881537,  0.0115082 , -0.08990461,  0.02203792,  0.01802987,\n",
       "          0.        ,  0.00207783,  0.05510164, -0.02870668,  0.02870668,\n",
       "          0.05920419,  0.        ,  0.        , -0.32401772,  0.        ,\n",
       "         -0.13552822, -0.33703246,  0.13470164, -0.03566808, -0.27307221,\n",
       "          0.06921964,  0.06775261,  0.06891166, -0.12474888, -0.08341374,\n",
       "         -0.10185515, -0.01103952,  0.04094279,  0.06401762, -0.08856612,\n",
       "          0.09450522, -0.10426898,  0.01736767, -0.45239556,  0.4003099 ,\n",
       "          0.33418814,  0.27252407,  0.01165762,  0.04197874, -0.13469077])),\n",
       " (1.0557070255946943,\n",
       "  array([-0.01050121, -0.00852796,  0.25950474, -0.09359118,  0.04272835,\n",
       "          0.        ,  0.06481506, -0.10035899, -0.0040066 ,  0.0040066 ,\n",
       "         -0.07226793,  0.        ,  0.        ,  0.32976996,  0.        ,\n",
       "         -0.01173253, -0.29968904,  0.05226828,  0.1034462 , -0.01571541,\n",
       "          0.1577509 , -0.08391653, -0.16164028,  0.216106  ,  0.41575782,\n",
       "          0.00155334, -0.00348116,  0.04915642, -0.00635825, -0.02874201,\n",
       "         -0.07217477, -0.07008283, -0.04489345, -0.16221393,  0.1470689 ,\n",
       "          0.21344626, -0.32494736, -0.42880687,  0.01156535,  0.11762402])),\n",
       " (1.0435904221659575,\n",
       "  array([  6.55525103e-03,   1.17992630e-02,  -1.45565643e-01,\n",
       "          -6.41072740e-03,   1.04008848e-01,   0.00000000e+00,\n",
       "           1.26817037e-01,   3.07233138e-02,   3.65210745e-02,\n",
       "          -3.65210745e-02,   1.46046194e-01,   0.00000000e+00,\n",
       "           0.00000000e+00,  -1.74334167e-02,   0.00000000e+00,\n",
       "           6.79946702e-02,  -1.98281176e-01,  -1.19708288e-01,\n",
       "           1.55826116e-01,  -2.22522688e-03,  -4.36352777e-02,\n",
       "           1.32933847e-01,  -1.24948263e-01,  -8.63931442e-02,\n",
       "          -6.77634729e-01,  -8.11554872e-02,   4.60561172e-02,\n",
       "           1.34935129e-02,  -8.59137900e-02,   4.83577411e-02,\n",
       "          -3.38357335e-02,   5.43598455e-04,   1.87151140e-02,\n",
       "           4.28172886e-02,  -1.90370598e-01,   2.28707504e-01,\n",
       "          -3.48560552e-01,  -3.16962006e-01,   5.83779006e-02,\n",
       "           7.86965486e-02])),\n",
       " (1.0280389094027091,\n",
       "  array([ 0.01976755,  0.01664758,  0.07592324, -0.00369404,  0.01198054,\n",
       "          0.        ,  0.03189682,  0.05053244, -0.00735848,  0.00735848,\n",
       "          0.34060819,  0.        ,  0.        ,  0.07254437,  0.        ,\n",
       "         -0.03425314,  0.07834596, -0.12992168,  0.26973263, -0.13421621,\n",
       "         -0.08781333,  0.02882232, -0.2690157 , -0.0505794 , -0.0906679 ,\n",
       "          0.01889131, -0.05015089,  0.02809012, -0.03555129,  0.02963229,\n",
       "         -0.23981219, -0.01658267, -0.00752315, -0.00893646,  0.51932037,\n",
       "         -0.53000925,  0.04281283, -0.07331597,  0.20064156,  0.00327674])),\n",
       " (1.023712419014607,\n",
       "  array([ -4.65565159e-02,  -4.30895064e-02,  -1.17280377e-01,\n",
       "          -3.88354441e-02,   2.17989445e-02,   0.00000000e+00,\n",
       "           5.11226571e-03,  -1.35979252e-01,   2.07078082e-02,\n",
       "          -2.07078082e-02,  -5.11266201e-01,   0.00000000e+00,\n",
       "           0.00000000e+00,   1.76410267e-01,   0.00000000e+00,\n",
       "           9.33017963e-02,   1.67039803e-02,   2.71802016e-02,\n",
       "          -1.21893923e-01,  -1.27533703e-01,  -1.41844059e-02,\n",
       "           2.15160657e-02,   1.00736078e-01,   1.79036550e-01,\n",
       "          -2.26847461e-01,  -8.31098221e-02,   4.96134467e-01,\n",
       "          -9.90653184e-02,   4.58385038e-02,   3.28771057e-02,\n",
       "           1.74226499e-01,   4.29922191e-02,   1.48574583e-02,\n",
       "          -4.79495806e-04,   1.93193857e-01,  -2.59298453e-01,\n",
       "           1.97101502e-01,  -2.87047167e-01,   9.31637102e-02,\n",
       "          -1.47375963e-02])),\n",
       " (1.0140522927600064,\n",
       "  array([-0.03409873, -0.03953026,  0.05161345, -0.00965974,  0.02630216,\n",
       "          0.        , -0.00131217,  0.01295482, -0.02687652,  0.02687652,\n",
       "         -0.20039334,  0.        ,  0.        ,  0.42058097,  0.        ,\n",
       "         -0.20177081, -0.20351544, -0.07267792,  0.03375742, -0.17813295,\n",
       "          0.09994939,  0.03101723,  0.00777282, -0.44145821, -0.06778596,\n",
       "          0.21064172,  0.0746029 , -0.03934643,  0.04753818, -0.02093053,\n",
       "          0.18652332,  0.01910538,  0.01418235, -0.01165582,  0.04889185,\n",
       "         -0.02800487, -0.29593565,  0.47807632,  0.18758947, -0.01469259])),\n",
       " (1.0098972786574902,\n",
       "  array([ -1.76598109e-03,  -5.30857634e-03,  -1.07088501e-01,\n",
       "           1.84991095e-03,  -2.09944873e-03,   0.00000000e+00,\n",
       "          -5.07332820e-03,   1.22375953e-02,   1.24937198e-02,\n",
       "          -1.24937198e-02,   1.95629693e-01,   0.00000000e+00,\n",
       "           0.00000000e+00,   5.66423151e-02,   0.00000000e+00,\n",
       "           1.55015898e-01,  -7.97586128e-02,  -2.96688859e-02,\n",
       "          -1.19057166e-01,   4.22427703e-03,   2.56274560e-01,\n",
       "          -1.09516165e-02,   4.79288729e-02,  -7.56969856e-02,\n",
       "           7.44439240e-02,  -1.62223641e-01,   5.66357510e-01,\n",
       "           4.25766235e-04,   8.16930480e-02,   2.62025678e-02,\n",
       "          -6.20689698e-01,   6.13985393e-03,   8.23983108e-03,\n",
       "          -1.16838548e-02,  -1.65983355e-02,   7.94387748e-02,\n",
       "          -4.15641875e-02,   2.23917866e-01,  -1.48955858e-01,\n",
       "          -3.34639414e-02])),\n",
       " (1.0062148594951625,\n",
       "  array([  5.57132933e-03,   6.41913029e-03,   1.55180956e-02,\n",
       "           3.44632331e-03,   1.82695184e-02,   0.00000000e+00,\n",
       "          -1.73008325e-02,   2.46976332e-02,   1.05116097e-02,\n",
       "          -1.05116097e-02,   9.14560232e-02,   0.00000000e+00,\n",
       "           0.00000000e+00,  -3.96741801e-02,   0.00000000e+00,\n",
       "           2.82768716e-01,  -3.65426937e-01,   1.90046612e-02,\n",
       "          -4.74764098e-02,   3.46762539e-01,  -3.01225685e-01,\n",
       "           1.94554836e-02,   9.92863619e-03,  -4.95644204e-02,\n",
       "           1.86743031e-01,  -2.96573336e-01,   8.56375877e-02,\n",
       "          -1.71364172e-02,   2.31067007e-02,  -1.18149269e-02,\n",
       "           9.01827510e-02,   5.19472044e-04,  -8.59143540e-03,\n",
       "           5.59125383e-03,  -1.15877759e-01,  -6.10477043e-02,\n",
       "           6.49303315e-02,   9.55685802e-02,   6.23178850e-01,\n",
       "          -4.90808968e-03])),\n",
       " (1.0038922270062725,\n",
       "  array([  3.20684769e-03,   3.98616730e-03,   1.50281094e-02,\n",
       "           5.35901139e-03,  -1.54185941e-02,   0.00000000e+00,\n",
       "           5.50677446e-03,  -5.28432013e-03,   3.25889047e-03,\n",
       "          -3.25889047e-03,  -4.32368052e-02,   0.00000000e+00,\n",
       "           0.00000000e+00,   1.83584075e-01,   0.00000000e+00,\n",
       "           4.14219294e-01,   1.46566028e-01,   3.51347684e-03,\n",
       "          -3.12461656e-02,  -2.88620742e-01,   5.32732023e-01,\n",
       "           4.81796735e-03,   1.48606016e-02,   7.71529863e-02,\n",
       "          -1.05412035e-01,  -4.16051664e-01,  -3.98070580e-01,\n",
       "           2.36841165e-03,   3.26874127e-03,  -6.89941721e-03,\n",
       "           2.15449279e-02,  -3.69048314e-03,  -3.15726063e-04,\n",
       "          -2.45217769e-03,  -5.55391618e-02,  -1.40592313e-02,\n",
       "           6.08772573e-02,   1.02332492e-01,   1.88790932e-01,\n",
       "          -1.25977110e-02])),\n",
       " (1.0015455179503698,\n",
       "  array([ -8.21469492e-03,  -8.01831056e-03,   6.80136591e-02,\n",
       "          -7.01537155e-03,   1.34457951e-02,   0.00000000e+00,\n",
       "           1.32853889e-02,   8.04669628e-03,  -6.39642843e-03,\n",
       "           6.39642843e-03,  -1.86952122e-01,   0.00000000e+00,\n",
       "           0.00000000e+00,  -1.61374320e-01,   0.00000000e+00,\n",
       "           3.27055817e-01,   2.01788617e-01,   5.23908920e-03,\n",
       "           1.06704905e-01,  -4.67104722e-02,  -1.93343577e-01,\n",
       "           1.37586756e-02,  -7.01621023e-02,  -6.39044406e-01,\n",
       "           2.15793025e-01,  -3.13888014e-01,   5.13232553e-02,\n",
       "           5.40489716e-03,  -3.99226041e-02,   7.89308694e-03,\n",
       "           1.03999784e-01,   1.99206677e-03,   4.42402655e-03,\n",
       "           2.41853844e-03,   1.26712289e-01,   2.62181009e-04,\n",
       "          -1.70955649e-01,  -1.75439476e-01,  -2.89931849e-01,\n",
       "           3.41634134e-02])),\n",
       " (0.9974764157857855,\n",
       "  array([ 0.00156105,  0.00867127, -0.0838457 , -0.01539754,  0.04448085,\n",
       "          0.        ,  0.01130622,  0.04034866,  0.01333132, -0.01333132,\n",
       "         -0.20719939,  0.        ,  0.        , -0.42344255,  0.        ,\n",
       "         -0.18555524,  0.3370198 ,  0.02791924,  0.01794067, -0.14189925,\n",
       "          0.22934541, -0.02551845,  0.02147944, -0.12922582,  0.15645238,\n",
       "          0.19631762,  0.08010266,  0.00589635,  0.0152508 ,  0.01197769,\n",
       "         -0.21017994, -0.00261318, -0.00946324,  0.01474092, -0.09963136,\n",
       "          0.05890005, -0.2023586 , -0.18497709,  0.5673646 ,  0.04325399])),\n",
       " (0.97591361140208377,\n",
       "  array([ 0.03736902,  0.03039264,  0.04529537,  0.04165917, -0.04555339,\n",
       "          0.        ,  0.00741528, -0.06959727,  0.04564766, -0.04564766,\n",
       "          0.02906254,  0.        ,  0.        ,  0.15822498,  0.        ,\n",
       "         -0.0931105 , -0.21625106, -0.10386339, -0.01574093,  0.20003205,\n",
       "          0.31426926, -0.01449109,  0.08793054, -0.46871061,  0.00918958,\n",
       "          0.18718791, -0.10246603, -0.00736097, -0.11131394,  0.09169136,\n",
       "         -0.10451923,  0.00996581, -0.01492772,  0.0388985 , -0.19802086,\n",
       "         -0.09873876,  0.51167397, -0.36509783,  0.00337186,  0.0260433 ])),\n",
       " (0.91373752800751784,\n",
       "  array([  7.84569769e-03,   1.27783245e-02,  -5.61245262e-02,\n",
       "          -4.78123189e-02,   7.42584289e-02,   0.00000000e+00,\n",
       "           1.12564326e-03,   1.30153194e-01,  -3.72973867e-03,\n",
       "           3.72973867e-03,   4.49465122e-04,   0.00000000e+00,\n",
       "           0.00000000e+00,  -2.55424884e-01,   0.00000000e+00,\n",
       "          -6.66998699e-02,  -4.03041758e-01,  -1.60054018e-01,\n",
       "           1.54201757e-01,  -4.95203181e-01,   5.83278727e-02,\n",
       "           1.27753261e-01,  -1.23764491e-01,   1.03604838e-01,\n",
       "           2.48305771e-01,  -7.50393167e-02,   1.13157184e-01,\n",
       "           5.76121790e-02,  -1.11575557e-01,   5.18150818e-03,\n",
       "           1.38113807e-01,  -1.76918472e-03,  -5.46056666e-02,\n",
       "           4.00193383e-01,  -2.53940832e-01,  -1.93140301e-01,\n",
       "           6.90028940e-02,   1.01023435e-02,  -1.20617938e-01,\n",
       "          -4.83177985e-03])),\n",
       " (0.89948979434358389,\n",
       "  array([-0.02445597, -0.04432204, -0.33047519, -0.07533528,  0.09626308,\n",
       "          0.        ,  0.04450274, -0.03570191,  0.00699471, -0.00699471,\n",
       "         -0.09884258,  0.        ,  0.        , -0.24675224,  0.        ,\n",
       "         -0.02586425, -0.2264941 , -0.01397166, -0.00947793,  0.3912012 ,\n",
       "          0.33888195,  0.06083828, -0.06195465,  0.03004345,  0.06106634,\n",
       "         -0.01489103, -0.1801202 , -0.37163512,  0.18965332,  0.18584221,\n",
       "          0.0756172 ,  0.16457622,  0.01907737,  0.09735348,  0.25723829,\n",
       "         -0.18504492, -0.23306177,  0.03211272, -0.14369231, -0.08142377])),\n",
       " (0.77379639694591507,\n",
       "  array([-0.29080823, -0.28905402, -0.09940443, -0.15619604, -0.10927778,\n",
       "          0.        , -0.24398251, -0.41338458,  0.02470135, -0.02470135,\n",
       "          0.37061107,  0.        ,  0.        ,  0.02871609,  0.        ,\n",
       "         -0.02432858, -0.04128313,  0.1205127 , -0.20528744, -0.25806678,\n",
       "         -0.11429849, -0.11083044,  0.34549162, -0.09899525,  0.0311579 ,\n",
       "         -0.00163542, -0.08149901, -0.07858758,  0.03172867,  0.04313203,\n",
       "          0.02838572,  0.12551296, -0.01447532,  0.18189117,  0.04575267,\n",
       "         -0.01889961, -0.15745822, -0.17390231,  0.05580249, -0.09307089])),\n",
       " (0.71797765265983471,\n",
       "  array([ 0.07874304,  0.08599065,  0.55958876,  0.1161923 , -0.14150638,\n",
       "          0.        , -0.02112053, -0.05249151, -0.00359383,  0.00359383,\n",
       "          0.09613013,  0.        ,  0.        , -0.22643607,  0.        ,\n",
       "          0.19017689, -0.07296015,  0.22939207, -0.03702702,  0.03757666,\n",
       "          0.17983009, -0.05133972, -0.02507938, -0.03015254, -0.20912992,\n",
       "          0.18780953,  0.1484655 , -0.13147745,  0.32941836, -0.11746577,\n",
       "          0.13227981, -0.1975176 , -0.20944041,  0.30390382,  0.08335742,\n",
       "         -0.00377331, -0.03698418, -0.00348467, -0.00391544, -0.0291488 ])),\n",
       " (0.66107303814483254,\n",
       "  array([-0.0474825 , -0.05839712, -0.34254158,  0.07382707, -0.00071864,\n",
       "          0.        ,  0.2744705 , -0.24454756, -0.00650386,  0.00650386,\n",
       "          0.16667922,  0.        ,  0.        ,  0.01445342,  0.        ,\n",
       "          0.3069703 ,  0.10726789, -0.1109811 ,  0.00813319,  0.05625168,\n",
       "          0.11284583, -0.01480199, -0.09318711,  0.01617467,  0.12406818,\n",
       "          0.30418963,  0.13764615,  0.10512215, -0.2990184 ,  0.06990549,\n",
       "          0.26208362, -0.3980445 , -0.19279298,  0.08920022,  0.15775399,\n",
       "          0.15244359,  0.04196204,  0.09276035,  0.04591564,  0.00901333])),\n",
       " (0.59983403135079671,\n",
       "  array([ 0.123011  ,  0.12028538, -0.04941963,  0.05906203, -0.09137981,\n",
       "          0.        , -0.01040676, -0.08780158,  0.03113274, -0.03113274,\n",
       "          0.16419107,  0.        ,  0.        ,  0.02609063,  0.        ,\n",
       "         -0.32131139,  0.10981443,  0.28032949,  0.11446072,  0.11703787,\n",
       "          0.18639039, -0.15561802, -0.11137704, -0.02780515, -0.02047251,\n",
       "         -0.30893283,  0.20493768,  0.14514845, -0.23473455, -0.00406883,\n",
       "          0.24733515,  0.38823943, -0.43947195,  0.01390098,  0.01772072,\n",
       "          0.01233906, -0.01112111,  0.04164836,  0.02173333,  0.06188675])),\n",
       " (0.51297250855152721,\n",
       "  array([-0.22004243, -0.23876632,  0.16950401,  0.05053938,  0.08210713,\n",
       "          0.        ,  0.06091581,  0.31945616, -0.00500464,  0.00500464,\n",
       "          0.18340128,  0.        ,  0.        ,  0.04357163,  0.        ,\n",
       "         -0.05117502,  0.18597416, -0.57213314, -0.12564381,  0.06722536,\n",
       "          0.08783199,  0.20815805,  0.10262516,  0.03437963,  0.08040728,\n",
       "         -0.05172133,  0.12331425, -0.06312423,  0.18207514, -0.09151459,\n",
       "          0.21704012,  0.20561331, -0.24388391, -0.03526983,  0.07735475,\n",
       "          0.15817669,  0.04383532, -0.10983224,  0.03372321, -0.03875267])),\n",
       " (0.46744838069513106,\n",
       "  array([-0.01372259, -0.00411245,  0.23890717, -0.02756643,  0.14613084,\n",
       "          0.        ,  0.62099526, -0.58405468,  0.01236045, -0.01236045,\n",
       "         -0.02574586,  0.        ,  0.        , -0.14752209,  0.        ,\n",
       "         -0.14349893,  0.01121864, -0.15510944,  0.00818461, -0.02984926,\n",
       "         -0.04754594,  0.09015931,  0.03761863,  0.00545062, -0.0043224 ,\n",
       "         -0.13985932, -0.03360533,  0.00692593,  0.10957093, -0.06810255,\n",
       "         -0.06811252,  0.12089986,  0.06317633, -0.10371957, -0.10991002,\n",
       "         -0.07687582,  0.05440892,  0.13818001, -0.01661098,  0.0427019 ])),\n",
       " (0.31905478449405339,\n",
       "  array([ 0.03804834,  0.02676602, -0.01541264,  0.49164719, -0.47755848,\n",
       "          0.        ,  0.27408712,  0.07464016,  0.00878151, -0.00878151,\n",
       "         -0.05362636,  0.        ,  0.        ,  0.05536337,  0.        ,\n",
       "         -0.04353181, -0.04504114, -0.03189468, -0.02392325, -0.01428028,\n",
       "         -0.02402517,  0.00205235,  0.0479677 ,  0.02981578,  0.06126547,\n",
       "         -0.0406716 , -0.01870486,  0.06689738, -0.10429246,  0.01449368,\n",
       "         -0.0336258 ,  0.18258723,  0.30192069,  0.22929919,  0.13081906,\n",
       "          0.10746785, -0.09892145, -0.09613268,  0.05136775, -0.4262504 ])),\n",
       " (0.12632957738337244,\n",
       "  array([-0.00834156,  0.01917259,  0.02632263,  0.67407083,  0.65084056,\n",
       "          0.        , -0.26843663, -0.17863348,  0.00339903, -0.00339903,\n",
       "          0.00646393,  0.        ,  0.        ,  0.03297459,  0.        ,\n",
       "         -0.00463667,  0.00517915,  0.02183698,  0.00579292, -0.02515365,\n",
       "         -0.01482332, -0.02291506,  0.00478288,  0.01627524,  0.03279761,\n",
       "         -0.00487033, -0.0197635 , -0.01295183, -0.01884314,  0.02656959,\n",
       "         -0.02570386,  0.02831869,  0.01607375,  0.05118023,  0.02745792,\n",
       "          0.0263852 , -0.0072515 , -0.01737516, -0.00379582, -0.06842854])),\n",
       " (0.008224551793206452,\n",
       "  array([ -7.09656283e-01,   7.03780729e-01,  -8.84944055e-03,\n",
       "          -8.63109306e-03,  -1.52156431e-02,   0.00000000e+00,\n",
       "           6.19763437e-03,   9.84977858e-03,   1.81323801e-04,\n",
       "          -1.81323801e-04,   3.65645965e-03,   0.00000000e+00,\n",
       "           0.00000000e+00,   3.85443175e-03,   0.00000000e+00,\n",
       "           1.62540229e-03,  -8.57824050e-04,  -1.02203599e-02,\n",
       "          -2.89390901e-03,   1.14778322e-02,   8.31527424e-03,\n",
       "           2.68312609e-03,   9.41077030e-04,  -2.97019878e-03,\n",
       "           4.27894872e-03,   3.87685798e-03,  -6.25744582e-04,\n",
       "          -7.49609545e-04,  -7.54110457e-04,   4.90090926e-04,\n",
       "           4.99905265e-03,   5.78795404e-03,  -1.90225728e-03,\n",
       "           1.99176881e-04,   8.07567334e-03,  -2.04789335e-03,\n",
       "          -1.18677795e-03,   2.21461190e-03,  -3.59203165e-03,\n",
       "          -3.56709994e-03])),\n",
       " (1.9848519133915843e-15,\n",
       "  array([  1.46368364e-14,  -1.41566938e-14,   1.14085539e-16,\n",
       "           1.26633821e-16,  -1.78287793e-16,   0.00000000e+00,\n",
       "           3.55442847e-16,  -6.33926326e-16,   1.70363264e-02,\n",
       "          -1.67897974e-02,   4.43566787e-02,   0.00000000e+00,\n",
       "           0.00000000e+00,   7.67044040e-02,   0.00000000e+00,\n",
       "           4.15082975e-02,   6.26793704e-02,   2.40938126e-01,\n",
       "           4.10189248e-01,   5.86543905e-02,   4.15082975e-02,\n",
       "           5.45151037e-01,   3.61125333e-01,   4.15082975e-02,\n",
       "           7.67044040e-02,   4.43566787e-02,   4.15082975e-02,\n",
       "           3.12608859e-01,   2.36195344e-01,   3.65088315e-01,\n",
       "           4.67139495e-02,   3.74113063e-02,   5.48873052e-02,\n",
       "           6.32911402e-02,   5.04782219e-02,   5.13966982e-02,\n",
       "           3.01186602e-02,   1.42787768e-02,   1.01047460e-02,\n",
       "           1.08408281e-01])),\n",
       " (1.8471104502357113e-15,\n",
       "  array([ -1.71424516e-14,   1.70798444e-14,  -3.04485375e-17,\n",
       "          -5.85471312e-16,  -2.44913324e-16,   0.00000000e+00,\n",
       "           1.38411382e-18,   3.93126554e-16,  -3.29828810e-02,\n",
       "           3.05914095e-02,  -2.36143382e-02,   0.00000000e+00,\n",
       "           0.00000000e+00,  -4.08354230e-02,   0.00000000e+00,\n",
       "          -1.82609664e-02,  -3.33688611e-02,  -1.28269171e-01,\n",
       "          -1.80456741e-01,  -2.58041385e-02,  -1.82609664e-02,\n",
       "          -2.90224185e-01,  -1.58871791e-01,  -1.82609664e-02,\n",
       "          -4.08354230e-02,  -2.36143382e-02,  -1.82609664e-02,\n",
       "          -5.20825253e-01,  -3.93515719e-01,  -6.08259199e-01,\n",
       "          -7.78282633e-02,  -3.96009569e-02,  -5.80998106e-02,\n",
       "          -6.69955147e-02,  -5.34326675e-02,  -5.44049015e-02,\n",
       "          -3.18814787e-02,  -1.51145010e-02,  -1.06961678e-02,\n",
       "          -1.14753321e-01])),\n",
       " (6.9026687497607478e-16,\n",
       "  array([ -2.05478250e-14,   2.08915603e-14,   1.97972753e-16,\n",
       "          -1.95229585e-15,  -7.34495135e-17,   0.00000000e+00,\n",
       "          -2.25825108e-16,   3.55493232e-16,   2.67262875e-02,\n",
       "          -4.81239930e-02,  -2.02422127e-03,   0.00000000e+00,\n",
       "           0.00000000e+00,  -3.50041281e-03,   0.00000000e+00,\n",
       "          -8.32710525e-03,  -2.86037906e-03,  -1.09952344e-02,\n",
       "          -8.22893071e-02,  -1.17668349e-02,  -8.32710525e-03,\n",
       "          -2.48780197e-02,  -7.24464466e-02,  -8.32710525e-03,\n",
       "          -3.50041281e-03,  -2.02422127e-03,  -8.32710525e-03,\n",
       "          -5.72146923e-02,  -4.32292417e-02,  -6.68196534e-02,\n",
       "          -8.54973930e-03,  -2.26504683e-01,  -3.32312151e-01,\n",
       "          -3.83192705e-01,  -3.05617600e-01,  -3.11178464e-01,\n",
       "          -1.82351761e-01,  -8.64500640e-02,  -6.11786252e-02,\n",
       "          -6.56351933e-01])),\n",
       " (2.1837669506394858e-16,\n",
       "  array([  2.80232278e-14,  -2.74321398e-14,   9.32437048e-17,\n",
       "          -2.75246853e-16,  -9.70478758e-16,   0.00000000e+00,\n",
       "           1.35328519e-15,  -4.80786681e-16,  -4.72288199e-01,\n",
       "           4.22302128e-01,  -3.32081873e-02,   0.00000000e+00,\n",
       "           0.00000000e+00,  -5.74257201e-02,   0.00000000e+00,\n",
       "           4.21221790e-02,  -4.69257017e-02,  -1.80381369e-01,\n",
       "           4.16255687e-01,   5.95218519e-02,   4.21221790e-02,\n",
       "          -4.08134204e-01,   3.66466148e-01,   4.21221790e-02,\n",
       "          -5.74257201e-02,  -3.32081873e-02,   4.21221790e-02,\n",
       "           9.93010924e-02,   7.50281222e-02,   1.15971341e-01,\n",
       "           1.48388188e-02,   4.65409264e-02,   6.82816582e-02,\n",
       "           7.87363124e-02,   6.27966099e-02,   6.39392255e-02,\n",
       "           3.74686288e-02,   1.77632798e-02,   1.25706447e-02,\n",
       "           1.34863556e-01])),\n",
       " (1.0856844033119739e-18,\n",
       "  array([  9.60809055e-15,  -9.29823254e-15,   3.43900893e-16,\n",
       "           5.30550003e-16,   6.18394910e-16,   0.00000000e+00,\n",
       "           2.99135268e-16,  -3.97256263e-16,   5.16594105e-01,\n",
       "           7.99871008e-01,  -9.08355131e-03,   0.00000000e+00,\n",
       "           0.00000000e+00,  -1.57078575e-02,   0.00000000e+00,\n",
       "           1.47702197e-02,  -1.28357509e-02,  -4.93403450e-02,\n",
       "           1.45960824e-01,   2.08714471e-02,   1.47702197e-02,\n",
       "          -1.11638372e-01,   1.28502031e-01,   1.47702197e-02,\n",
       "          -1.57078575e-02,  -9.08355131e-03,   1.47702197e-02,\n",
       "           9.49259041e-02,   7.17223966e-02,   1.10861664e-01,\n",
       "           1.41850231e-02,  -2.49763528e-02,  -3.66435935e-02,\n",
       "          -4.22541207e-02,  -3.37000229e-02,  -3.43132116e-02,\n",
       "          -2.01076722e-02,  -9.53272698e-03,  -6.74608096e-03,\n",
       "          -7.23750046e-02])),\n",
       " (0.0, array([ 0.,  0.,  0.,  0.,  0.,  1.,  0.,  0.,  0.,  0.,  0.,  0.,  0.,\n",
       "          0.,  0.,  0.,  0.,  0.,  0.,  0.,  0.,  0.,  0.,  0.,  0.,  0.,\n",
       "          0.,  0.,  0.,  0.,  0.,  0.,  0.,  0.,  0.,  0.,  0.,  0.,  0.,  0.])),\n",
       " (0.0, array([ 0.,  0.,  0.,  0.,  0.,  0.,  0.,  0.,  0.,  0.,  0.,  1.,  0.,\n",
       "          0.,  0.,  0.,  0.,  0.,  0.,  0.,  0.,  0.,  0.,  0.,  0.,  0.,\n",
       "          0.,  0.,  0.,  0.,  0.,  0.,  0.,  0.,  0.,  0.,  0.,  0.,  0.,  0.])),\n",
       " (0.0, array([ 0.,  0.,  0.,  0.,  0.,  0.,  0.,  0.,  0.,  0.,  0.,  0.,  1.,\n",
       "          0.,  0.,  0.,  0.,  0.,  0.,  0.,  0.,  0.,  0.,  0.,  0.,  0.,\n",
       "          0.,  0.,  0.,  0.,  0.,  0.,  0.,  0.,  0.,  0.,  0.,  0.,  0.,  0.])),\n",
       " (0.0, array([ 0.,  0.,  0.,  0.,  0.,  0.,  0.,  0.,  0.,  0.,  0.,  0.,  0.,\n",
       "          0.,  1.,  0.,  0.,  0.,  0.,  0.,  0.,  0.,  0.,  0.,  0.,  0.,\n",
       "          0.,  0.,  0.,  0.,  0.,  0.,  0.,  0.,  0.,  0.,  0.,  0.,  0.,  0.]))]"
      ]
     },
     "execution_count": 42,
     "metadata": {},
     "output_type": "execute_result"
    }
   ],
   "source": [
    "eigen_pairs"
   ]
  },
  {
   "cell_type": "code",
   "execution_count": 43,
   "metadata": {
    "collapsed": false
   },
   "outputs": [
    {
     "name": "stdout",
     "output_type": "stream",
     "text": [
      "('Matrix W:\\n', array([[-0.01271662, -0.39912285],\n",
      "       [-0.01143947, -0.39724602],\n",
      "       [-0.06464792, -0.07957365],\n",
      "       [ 0.2619574 ,  0.34929237],\n",
      "       [-0.31763248, -0.18009927],\n",
      "       [ 0.        ,  0.        ],\n",
      "       [-0.14427873,  0.18287497],\n",
      "       [-0.17856924,  0.17199466],\n",
      "       [-0.39946567,  0.18019033],\n",
      "       [ 0.39946567, -0.18019033],\n",
      "       [-0.02268595, -0.0642158 ],\n",
      "       [ 0.        ,  0.        ],\n",
      "       [ 0.        ,  0.        ],\n",
      "       [-0.00781941, -0.02980965],\n",
      "       [ 0.        ,  0.        ],\n",
      "       [-0.03793256, -0.0479605 ],\n",
      "       [-0.01799936, -0.07055981],\n",
      "       [-0.00855681,  0.17745042],\n",
      "       [-0.2362444 ,  0.2322619 ],\n",
      "       [-0.05952516, -0.02821675],\n",
      "       [-0.04313994, -0.0192435 ],\n",
      "       [ 0.39365639, -0.22776014],\n",
      "       [-0.25272547, -0.00417735],\n",
      "       [-0.00858811,  0.01276165],\n",
      "       [ 0.01849596, -0.01649039],\n",
      "       [-0.01808744, -0.06054482],\n",
      "       [-0.03678245, -0.02471664],\n",
      "       [-0.12561619, -0.10999559],\n",
      "       [ 0.02692625,  0.12812042],\n",
      "       [ 0.098774  ,  0.01790454],\n",
      "       [-0.06748209, -0.05164602],\n",
      "       [-0.01610831, -0.15656192],\n",
      "       [-0.16695903, -0.11782223],\n",
      "       [-0.14597055, -0.15738551],\n",
      "       [-0.10753625, -0.1353966 ],\n",
      "       [-0.06271184, -0.13214052],\n",
      "       [-0.03042815,  0.03151254],\n",
      "       [-0.03441438,  0.04711613],\n",
      "       [ 0.00285659, -0.04666481],\n",
      "       [ 0.26783574,  0.32064953]]))\n"
     ]
    }
   ],
   "source": [
    "# collect the first two biggist eigenvectors\n",
    "w = np.hstack((eigen_pairs[0][1][:, np.newaxis],\n",
    "               eigen_pairs[1][1][:, np.newaxis]))\n",
    "print('Matrix W:\\n', w)"
   ]
  },
  {
   "cell_type": "code",
   "execution_count": 44,
   "metadata": {
    "collapsed": false
   },
   "outputs": [
    {
     "data": {
      "image/png": "[encoded data removed]",
      "text/plain": [
       "<matplotlib.figure.Figure at 0x1168996d0>"
      ]
     },
     "metadata": {},
     "output_type": "display_data"
    }
   ],
   "source": [
    "X_train_pca = X_train_std.dot(w)\n",
    "colors = ['r', 'b', 'g']\n",
    "markers = ['s', 'x', 'o']\n",
    "\n",
    "for l, c, m in zip(np.unique(y_train), colors, markers):\n",
    "    plt.scatter(X_train_pca[y_train==l, 0], \n",
    "                X_train_pca[y_train==l, 1], \n",
    "                c=c, label=l, marker=m)\n",
    "\n",
    "plt.xlabel('PC 1')\n",
    "plt.ylabel('PC 2')\n",
    "plt.legend(loc='lower left')\n",
    "plt.tight_layout()\n",
    "# plt.savefig('./figures/pca2.png', dpi=300)\n",
    "plt.show()"
   ]
  },
  {
   "cell_type": "markdown",
   "metadata": {},
   "source": [
    "## Principal component analysis in scikit-learn"
   ]
  },
  {
   "cell_type": "code",
   "execution_count": 45,
   "metadata": {
    "collapsed": false
   },
   "outputs": [
    {
     "data": {
      "text/plain": [
       "array([  1.21537058e-01,   9.81209468e-02,   6.60815459e-02,\n",
       "         5.50705021e-02,   4.21423806e-02,   3.75349139e-02,\n",
       "         3.61374255e-02,   3.56164560e-02,   3.18577961e-02,\n",
       "         2.92781242e-02,   2.89420921e-02,   2.85107991e-02,\n",
       "         2.83908117e-02,   2.81229056e-02,   2.80076738e-02,\n",
       "         2.79055485e-02,   2.78411345e-02,   2.77760528e-02,\n",
       "         2.76632036e-02,   2.70651982e-02,   2.53408571e-02,\n",
       "         2.49457220e-02,   2.14598430e-02,   1.99118111e-02,\n",
       "         1.83336646e-02,   1.66353116e-02,   1.42263644e-02,\n",
       "         1.29638351e-02,   8.84840717e-03,   3.50352225e-03,\n",
       "         2.28093063e-04,   2.39689583e-32,   8.64166275e-33,\n",
       "         6.39229247e-33,   5.90547219e-33,   4.50234463e-33,\n",
       "         1.82120816e-33,   4.70102913e-34,   3.42296028e-34,\n",
       "         4.22833132e-35])"
      ]
     },
     "execution_count": 45,
     "metadata": {},
     "output_type": "execute_result"
    }
   ],
   "source": [
    "from sklearn.decomposition import PCA\n",
    "\n",
    "pca = PCA()\n",
    "X_train_pca = pca.fit_transform(X_train_std)\n",
    "pca.explained_variance_ratio_"
   ]
  },
  {
   "cell_type": "code",
   "execution_count": 48,
   "metadata": {
    "collapsed": false
   },
   "outputs": [
    {
     "data": {
      "image/png": "[encoded data removed]",
      "text/plain": [
       "<matplotlib.figure.Figure at 0x118d8a150>"
      ]
     },
     "metadata": {},
     "output_type": "display_data"
    }
   ],
   "source": [
    "\n",
    "plt.bar(range(1, 41), pca.explained_variance_ratio_, alpha=0.5, align='center',label='individual explained variance')\n",
    "plt.step(range(1, 41), np.cumsum(pca.explained_variance_ratio_), where='mid',label='cumulative explained variance')\n",
    "plt.ylabel('Explained variance ratio')\n",
    "plt.xlabel('Principal components')\n",
    "plt.legend(loc='best')\n",
    "plt.show()"
   ]
  },
  {
   "cell_type": "markdown",
   "metadata": {},
   "source": [
    "## PCA with sklearn"
   ]
  },
  {
   "cell_type": "code",
   "execution_count": 49,
   "metadata": {
    "collapsed": true
   },
   "outputs": [],
   "source": [
    "pca = PCA(n_components=2)\n",
    "X_train_pca = pca.fit_transform(X_train_std)\n",
    "X_test_pca = pca.transform(X_test_std)"
   ]
  },
  {
   "cell_type": "code",
   "execution_count": 50,
   "metadata": {
    "collapsed": false
   },
   "outputs": [
    {
     "data": {
      "image/png": "[encoded data removed]",
      "text/plain": [
       "<matplotlib.figure.Figure at 0x118f6ffd0>"
      ]
     },
     "metadata": {},
     "output_type": "display_data"
    }
   ],
   "source": [
    "plt.scatter(X_train_pca[:,0], X_train_pca[:,1])\n",
    "plt.xlabel('PC 1')\n",
    "plt.ylabel('PC 2')\n",
    "plt.show()"
   ]
  },
  {
   "cell_type": "code",
   "execution_count": 51,
   "metadata": {
    "collapsed": true
   },
   "outputs": [],
   "source": [
    "from matplotlib.colors import ListedColormap\n",
    "\n",
    "def plot_decision_regions(X, y, classifier, resolution=0.02):\n",
    "\n",
    "    # setup marker generator and color map\n",
    "    markers = ('s', 'x', 'o', '^', 'v')\n",
    "    colors = ('red', 'blue', 'lightgreen', 'gray', 'cyan')\n",
    "    cmap = ListedColormap(colors[:len(np.unique(y))])\n",
    "\n",
    "    # plot the decision surface\n",
    "    x1_min, x1_max = X[:, 0].min() - 1, X[:, 0].max() + 1\n",
    "    x2_min, x2_max = X[:, 1].min() - 1, X[:, 1].max() + 1\n",
    "    xx1, xx2 = np.meshgrid(np.arange(x1_min, x1_max, resolution),\n",
    "                         np.arange(x2_min, x2_max, resolution))\n",
    "    Z = classifier.predict(np.array([xx1.ravel(), xx2.ravel()]).T)\n",
    "    Z = Z.reshape(xx1.shape)\n",
    "    plt.contourf(xx1, xx2, Z, alpha=0.4, cmap=cmap)\n",
    "    plt.xlim(xx1.min(), xx1.max())\n",
    "    plt.ylim(xx2.min(), xx2.max())\n",
    "\n",
    "    # plot class samples\n",
    "    for idx, cl in enumerate(np.unique(y)):\n",
    "        plt.scatter(x=X[y == cl, 0], y=X[y == cl, 1],\n",
    "                    alpha=0.8, c=cmap(idx),\n",
    "                    marker=markers[idx], label=cl)"
   ]
  },
  {
   "cell_type": "code",
   "execution_count": 52,
   "metadata": {
    "collapsed": true
   },
   "outputs": [],
   "source": [
    "from sklearn.linear_model import LogisticRegression\n",
    "\n",
    "lr = LogisticRegression()\n",
    "lr = lr.fit(X_train_pca, y_train)"
   ]
  },
  {
   "cell_type": "code",
   "execution_count": 56,
   "metadata": {
    "collapsed": false
   },
   "outputs": [
    {
     "data": {
      "image/png": "[encoded data removed]",
      "text/plain": [
       "<matplotlib.figure.Figure at 0x116a79c50>"
      ]
     },
     "metadata": {},
     "output_type": "display_data"
    }
   ],
   "source": [
    "# Train data:\n",
    "\n",
    "plot_decision_regions(X_train_pca, y_train, classifier=lr)\n",
    "plt.xlabel('PC 1')\n",
    "plt.ylabel('PC 2')\n",
    "plt.legend(loc='lower left')\n",
    "plt.tight_layout()\n",
    "# plt.savefig('./figures/pca3.png', dpi=300)\n",
    "plt.show()"
   ]
  },
  {
   "cell_type": "code",
   "execution_count": 57,
   "metadata": {
    "collapsed": false
   },
   "outputs": [
    {
     "data": {
      "image/png": "[encoded data removed]",
      "text/plain": [
       "<matplotlib.figure.Figure at 0x116886890>"
      ]
     },
     "metadata": {},
     "output_type": "display_data"
    }
   ],
   "source": [
    "# Test data:\n",
    "\n",
    "plot_decision_regions(X_test_pca, y_test, classifier=lr)\n",
    "plt.xlabel('PC 1')\n",
    "plt.ylabel('PC 2')\n",
    "plt.legend(loc='lower left')\n",
    "plt.tight_layout()\n",
    "# plt.savefig('./figures/pca4.png', dpi=300)\n",
    "plt.show()"
   ]
  },
  {
   "cell_type": "markdown",
   "metadata": {},
   "source": [
    "# View the explained variance ratio for all components:"
   ]
  },
  {
   "cell_type": "code",
   "execution_count": 61,
   "metadata": {
    "collapsed": false
   },
   "outputs": [
    {
     "data": {
      "text/plain": [
       "array([  1.21537058e-01,   9.81209468e-02,   6.60815459e-02,\n",
       "         5.50705021e-02,   4.21423806e-02,   3.75349139e-02,\n",
       "         3.61374255e-02,   3.56164560e-02,   3.18577961e-02,\n",
       "         2.92781242e-02,   2.89420921e-02,   2.85107991e-02,\n",
       "         2.83908117e-02,   2.81229056e-02,   2.80076738e-02,\n",
       "         2.79055485e-02,   2.78411345e-02,   2.77760528e-02,\n",
       "         2.76632036e-02,   2.70651982e-02,   2.53408571e-02,\n",
       "         2.49457220e-02,   2.14598430e-02,   1.99118111e-02,\n",
       "         1.83336646e-02,   1.66353116e-02,   1.42263644e-02,\n",
       "         1.29638351e-02,   8.84840717e-03,   3.50352225e-03,\n",
       "         2.28093063e-04,   2.39689583e-32,   8.64166275e-33,\n",
       "         6.39229247e-33,   5.90547219e-33,   4.50234463e-33,\n",
       "         1.82120816e-33,   4.70102913e-34,   3.42296028e-34,\n",
       "         4.22833132e-35])"
      ]
     },
     "execution_count": 61,
     "metadata": {},
     "output_type": "execute_result"
    }
   ],
   "source": [
    "pca = PCA(n_components=None)\n",
    "X_train_pca = pca.fit_transform(X_train_std)\n",
    "pca.explained_variance_ratio_"
   ]
  },
  {
   "cell_type": "code",
   "execution_count": null,
   "metadata": {
    "collapsed": true
   },
   "outputs": [],
   "source": []
  },
  {
   "cell_type": "code",
   "execution_count": null,
   "metadata": {
    "collapsed": true
   },
   "outputs": [],
   "source": []
  }
 ],
 "metadata": {
  "kernelspec": {
   "display_name": "Python 2",
   "language": "python",
   "name": "python2"
  },
  "language_info": {
   "codemirror_mode": {
    "name": "ipython",
    "version": 2
   },
   "file_extension": ".py",
   "mimetype": "text/x-python",
   "name": "python",
   "nbconvert_exporter": "python",
   "pygments_lexer": "ipython2",
   "version": "2.7.11"
  }
 },
 "nbformat": 4,
 "nbformat_minor": 0
}

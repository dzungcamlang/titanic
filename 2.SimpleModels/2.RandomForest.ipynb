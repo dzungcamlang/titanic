{
 "cells": [
  {
   "cell_type": "code",
   "execution_count": 1,
   "metadata": {
    "collapsed": false
   },
   "outputs": [
    {
     "name": "stderr",
     "output_type": "stream",
     "text": [
      "Vendor:  Continuum Analytics, Inc.\n",
      "Package: mkl\n",
      "Message: trial mode expires in 26 days\n"
     ]
    },
    {
     "data": {
      "text/html": [
       "<div>\n",
       "<table border=\"1\" class=\"dataframe\">\n",
       "  <thead>\n",
       "    <tr style=\"text-align: right;\">\n",
       "      <th></th>\n",
       "      <th>Survived</th>\n",
       "      <th>Pclass</th>\n",
       "      <th>Sex</th>\n",
       "      <th>Age</th>\n",
       "      <th>SibSp</th>\n",
       "      <th>Parch</th>\n",
       "      <th>Fare</th>\n",
       "      <th>Age_s</th>\n",
       "      <th>Title_s</th>\n",
       "      <th>Title_Age_s</th>\n",
       "      <th>Cabin_s</th>\n",
       "      <th>FamilyName</th>\n",
       "    </tr>\n",
       "  </thead>\n",
       "  <tbody>\n",
       "    <tr>\n",
       "      <th>0</th>\n",
       "      <td>0</td>\n",
       "      <td>3</td>\n",
       "      <td>male</td>\n",
       "      <td>22</td>\n",
       "      <td>1</td>\n",
       "      <td>0</td>\n",
       "      <td>7.2500</td>\n",
       "      <td>adult</td>\n",
       "      <td>Mr</td>\n",
       "      <td>adult</td>\n",
       "      <td>X</td>\n",
       "      <td>Braund</td>\n",
       "    </tr>\n",
       "    <tr>\n",
       "      <th>1</th>\n",
       "      <td>1</td>\n",
       "      <td>1</td>\n",
       "      <td>female</td>\n",
       "      <td>38</td>\n",
       "      <td>1</td>\n",
       "      <td>0</td>\n",
       "      <td>71.2833</td>\n",
       "      <td>adult</td>\n",
       "      <td>Mrs</td>\n",
       "      <td>adult</td>\n",
       "      <td>M</td>\n",
       "      <td>Cumings</td>\n",
       "    </tr>\n",
       "    <tr>\n",
       "      <th>2</th>\n",
       "      <td>1</td>\n",
       "      <td>3</td>\n",
       "      <td>female</td>\n",
       "      <td>26</td>\n",
       "      <td>0</td>\n",
       "      <td>0</td>\n",
       "      <td>7.9250</td>\n",
       "      <td>adult</td>\n",
       "      <td>Miss</td>\n",
       "      <td>young</td>\n",
       "      <td>X</td>\n",
       "      <td>Heikkinen</td>\n",
       "    </tr>\n",
       "    <tr>\n",
       "      <th>3</th>\n",
       "      <td>1</td>\n",
       "      <td>1</td>\n",
       "      <td>female</td>\n",
       "      <td>35</td>\n",
       "      <td>1</td>\n",
       "      <td>0</td>\n",
       "      <td>53.1000</td>\n",
       "      <td>adult</td>\n",
       "      <td>Mrs</td>\n",
       "      <td>adult</td>\n",
       "      <td>M</td>\n",
       "      <td>Futrelle</td>\n",
       "    </tr>\n",
       "    <tr>\n",
       "      <th>4</th>\n",
       "      <td>0</td>\n",
       "      <td>3</td>\n",
       "      <td>male</td>\n",
       "      <td>35</td>\n",
       "      <td>0</td>\n",
       "      <td>0</td>\n",
       "      <td>8.0500</td>\n",
       "      <td>adult</td>\n",
       "      <td>Mr</td>\n",
       "      <td>adult</td>\n",
       "      <td>X</td>\n",
       "      <td>Allen</td>\n",
       "    </tr>\n",
       "  </tbody>\n",
       "</table>\n",
       "</div>"
      ],
      "text/plain": [
       "   Survived  Pclass     Sex  Age  SibSp  Parch     Fare  Age_s Title_s  \\\n",
       "0         0       3    male   22      1      0   7.2500  adult      Mr   \n",
       "1         1       1  female   38      1      0  71.2833  adult     Mrs   \n",
       "2         1       3  female   26      0      0   7.9250  adult    Miss   \n",
       "3         1       1  female   35      1      0  53.1000  adult     Mrs   \n",
       "4         0       3    male   35      0      0   8.0500  adult      Mr   \n",
       "\n",
       "  Title_Age_s Cabin_s FamilyName  \n",
       "0       adult       X     Braund  \n",
       "1       adult       M    Cumings  \n",
       "2       young       X  Heikkinen  \n",
       "3       adult       M   Futrelle  \n",
       "4       adult       X      Allen  "
      ]
     },
     "execution_count": 1,
     "metadata": {},
     "output_type": "execute_result"
    }
   ],
   "source": [
    "import pylab as plt\n",
    "%matplotlib inline\n",
    "import numpy as np\n",
    "import pandas as pd\n",
    "import math\n",
    "\n",
    "from featureEngineering6 import feature_engineering\n",
    "\n",
    "df=pd.read_csv('../data/train.csv', sep=',')\n",
    "df_test=pd.read_csv('../data/test.csv', sep=',')\n",
    "\n",
    "df_d, df_d_test = feature_engineering(df, df_test)\n",
    "\n",
    "feature1=['Survived', 'Pclass', 'Sex', 'Age', 'SibSp', 'Parch', 'Fare', 'Age_s', 'Title_s', 'Title_Age_s', 'Cabin_s', 'FamilyName']\n",
    "df[feature1].head()"
   ]
  },
  {
   "cell_type": "code",
   "execution_count": 2,
   "metadata": {
    "collapsed": false
   },
   "outputs": [
    {
     "name": "stdout",
     "output_type": "stream",
     "text": [
      "Index([u'Age', u'HasAge', u'Pclass', u'Fare_', u'Fare_b', u'HasFamily',\n",
      "       u'SibSp', u'Parch', u'FamilySize', u'FamilySurvived', u'FamilyDied',\n",
      "       u'Age_s_adult', u'Age_s_elder', u'Age_s_young', u'Sex_female',\n",
      "       u'Sex_male', u'Title_s_Master', u'Title_s_Miss', u'Title_s_Mr',\n",
      "       u'Title_s_Mrs', u'Title_Age_s_adult', u'Title_Age_s_elder',\n",
      "       u'Title_Age_s_young', u'Embarked__C', u'Embarked__Q', u'Embarked__S',\n",
      "       u'Cabin_s_G', u'Cabin_s_M', u'Cabin_s_X'],\n",
      "      dtype='object')\n"
     ]
    }
   ],
   "source": [
    "feature2= ['Pclass', 'Fare_b', 'FamilySize',\n",
    "           'Sex_female', 'Sex_male',\n",
    "           'Age_s_young', 'Age_s_adult', 'Age_s_elder', \n",
    "          'Title_Age_s_young','Title_Age_s_adult','Title_Age_s_elder',]\n",
    "\n",
    "\n",
    "\n",
    "print df_d.columns\n"
   ]
  },
  {
   "cell_type": "code",
   "execution_count": 3,
   "metadata": {
    "collapsed": false
   },
   "outputs": [
    {
     "data": {
      "text/html": [
       "<div>\n",
       "<table border=\"1\" class=\"dataframe\">\n",
       "  <thead>\n",
       "    <tr style=\"text-align: right;\">\n",
       "      <th></th>\n",
       "      <th>Pclass</th>\n",
       "      <th>Fare_b</th>\n",
       "      <th>FamilySize</th>\n",
       "      <th>Sex_female</th>\n",
       "      <th>Sex_male</th>\n",
       "      <th>Age_s_young</th>\n",
       "      <th>Age_s_adult</th>\n",
       "      <th>Age_s_elder</th>\n",
       "      <th>Title_Age_s_young</th>\n",
       "      <th>Title_Age_s_adult</th>\n",
       "      <th>Title_Age_s_elder</th>\n",
       "    </tr>\n",
       "  </thead>\n",
       "  <tbody>\n",
       "    <tr>\n",
       "      <th>0</th>\n",
       "      <td>3</td>\n",
       "      <td>1</td>\n",
       "      <td>1</td>\n",
       "      <td>0</td>\n",
       "      <td>1</td>\n",
       "      <td>0</td>\n",
       "      <td>1</td>\n",
       "      <td>0</td>\n",
       "      <td>0</td>\n",
       "      <td>1</td>\n",
       "      <td>0</td>\n",
       "    </tr>\n",
       "    <tr>\n",
       "      <th>1</th>\n",
       "      <td>1</td>\n",
       "      <td>5</td>\n",
       "      <td>1</td>\n",
       "      <td>1</td>\n",
       "      <td>0</td>\n",
       "      <td>0</td>\n",
       "      <td>1</td>\n",
       "      <td>0</td>\n",
       "      <td>0</td>\n",
       "      <td>1</td>\n",
       "      <td>0</td>\n",
       "    </tr>\n",
       "    <tr>\n",
       "      <th>2</th>\n",
       "      <td>3</td>\n",
       "      <td>2</td>\n",
       "      <td>0</td>\n",
       "      <td>1</td>\n",
       "      <td>0</td>\n",
       "      <td>0</td>\n",
       "      <td>1</td>\n",
       "      <td>0</td>\n",
       "      <td>1</td>\n",
       "      <td>0</td>\n",
       "      <td>0</td>\n",
       "    </tr>\n",
       "    <tr>\n",
       "      <th>3</th>\n",
       "      <td>1</td>\n",
       "      <td>4</td>\n",
       "      <td>1</td>\n",
       "      <td>1</td>\n",
       "      <td>0</td>\n",
       "      <td>0</td>\n",
       "      <td>1</td>\n",
       "      <td>0</td>\n",
       "      <td>0</td>\n",
       "      <td>1</td>\n",
       "      <td>0</td>\n",
       "    </tr>\n",
       "    <tr>\n",
       "      <th>4</th>\n",
       "      <td>3</td>\n",
       "      <td>2</td>\n",
       "      <td>0</td>\n",
       "      <td>0</td>\n",
       "      <td>1</td>\n",
       "      <td>0</td>\n",
       "      <td>1</td>\n",
       "      <td>0</td>\n",
       "      <td>0</td>\n",
       "      <td>1</td>\n",
       "      <td>0</td>\n",
       "    </tr>\n",
       "  </tbody>\n",
       "</table>\n",
       "</div>"
      ],
      "text/plain": [
       "   Pclass  Fare_b  FamilySize  Sex_female  Sex_male  Age_s_young  Age_s_adult  \\\n",
       "0       3       1           1           0         1            0            1   \n",
       "1       1       5           1           1         0            0            1   \n",
       "2       3       2           0           1         0            0            1   \n",
       "3       1       4           1           1         0            0            1   \n",
       "4       3       2           0           0         1            0            1   \n",
       "\n",
       "   Age_s_elder  Title_Age_s_young  Title_Age_s_adult  Title_Age_s_elder  \n",
       "0            0                  0                  1                  0  \n",
       "1            0                  0                  1                  0  \n",
       "2            0                  1                  0                  0  \n",
       "3            0                  0                  1                  0  \n",
       "4            0                  0                  1                  0  "
      ]
     },
     "execution_count": 3,
     "metadata": {},
     "output_type": "execute_result"
    }
   ],
   "source": [
    "df_d_ = df_d[feature2]\n",
    "df_d_test_ = df_d_test[feature2]\n",
    "df_d_[feature2].head()"
   ]
  },
  {
   "cell_type": "code",
   "execution_count": 4,
   "metadata": {
    "collapsed": false
   },
   "outputs": [
    {
     "data": {
      "text/html": [
       "<div>\n",
       "<table border=\"1\" class=\"dataframe\">\n",
       "  <thead>\n",
       "    <tr style=\"text-align: right;\">\n",
       "      <th></th>\n",
       "      <th>Pclass</th>\n",
       "      <th>Fare_b</th>\n",
       "      <th>FamilySize</th>\n",
       "      <th>Sex_female</th>\n",
       "      <th>Sex_male</th>\n",
       "      <th>Age_s_young</th>\n",
       "      <th>Age_s_adult</th>\n",
       "      <th>Age_s_elder</th>\n",
       "      <th>Title_Age_s_young</th>\n",
       "      <th>Title_Age_s_adult</th>\n",
       "      <th>Title_Age_s_elder</th>\n",
       "    </tr>\n",
       "  </thead>\n",
       "  <tbody>\n",
       "    <tr>\n",
       "      <th>count</th>\n",
       "      <td>891.000000</td>\n",
       "      <td>891.000000</td>\n",
       "      <td>891.000000</td>\n",
       "      <td>891.000000</td>\n",
       "      <td>891.000000</td>\n",
       "      <td>891.000000</td>\n",
       "      <td>891.000000</td>\n",
       "      <td>891.000000</td>\n",
       "      <td>891.000000</td>\n",
       "      <td>891.000000</td>\n",
       "      <td>891.000000</td>\n",
       "    </tr>\n",
       "    <tr>\n",
       "      <th>mean</th>\n",
       "      <td>2.308642</td>\n",
       "      <td>2.849607</td>\n",
       "      <td>0.904602</td>\n",
       "      <td>0.352413</td>\n",
       "      <td>0.647587</td>\n",
       "      <td>0.157127</td>\n",
       "      <td>0.674523</td>\n",
       "      <td>0.168350</td>\n",
       "      <td>0.251403</td>\n",
       "      <td>0.740741</td>\n",
       "      <td>0.007856</td>\n",
       "    </tr>\n",
       "    <tr>\n",
       "      <th>std</th>\n",
       "      <td>0.836071</td>\n",
       "      <td>1.447915</td>\n",
       "      <td>1.613459</td>\n",
       "      <td>0.477990</td>\n",
       "      <td>0.477990</td>\n",
       "      <td>0.364125</td>\n",
       "      <td>0.468816</td>\n",
       "      <td>0.374387</td>\n",
       "      <td>0.434063</td>\n",
       "      <td>0.438474</td>\n",
       "      <td>0.088337</td>\n",
       "    </tr>\n",
       "    <tr>\n",
       "      <th>min</th>\n",
       "      <td>1.000000</td>\n",
       "      <td>1.000000</td>\n",
       "      <td>0.000000</td>\n",
       "      <td>0.000000</td>\n",
       "      <td>0.000000</td>\n",
       "      <td>0.000000</td>\n",
       "      <td>0.000000</td>\n",
       "      <td>0.000000</td>\n",
       "      <td>0.000000</td>\n",
       "      <td>0.000000</td>\n",
       "      <td>0.000000</td>\n",
       "    </tr>\n",
       "    <tr>\n",
       "      <th>25%</th>\n",
       "      <td>2.000000</td>\n",
       "      <td>2.000000</td>\n",
       "      <td>0.000000</td>\n",
       "      <td>0.000000</td>\n",
       "      <td>0.000000</td>\n",
       "      <td>0.000000</td>\n",
       "      <td>0.000000</td>\n",
       "      <td>0.000000</td>\n",
       "      <td>0.000000</td>\n",
       "      <td>0.000000</td>\n",
       "      <td>0.000000</td>\n",
       "    </tr>\n",
       "    <tr>\n",
       "      <th>50%</th>\n",
       "      <td>3.000000</td>\n",
       "      <td>2.000000</td>\n",
       "      <td>0.000000</td>\n",
       "      <td>0.000000</td>\n",
       "      <td>1.000000</td>\n",
       "      <td>0.000000</td>\n",
       "      <td>1.000000</td>\n",
       "      <td>0.000000</td>\n",
       "      <td>0.000000</td>\n",
       "      <td>1.000000</td>\n",
       "      <td>0.000000</td>\n",
       "    </tr>\n",
       "    <tr>\n",
       "      <th>75%</th>\n",
       "      <td>3.000000</td>\n",
       "      <td>4.000000</td>\n",
       "      <td>1.000000</td>\n",
       "      <td>1.000000</td>\n",
       "      <td>1.000000</td>\n",
       "      <td>0.000000</td>\n",
       "      <td>1.000000</td>\n",
       "      <td>0.000000</td>\n",
       "      <td>1.000000</td>\n",
       "      <td>1.000000</td>\n",
       "      <td>0.000000</td>\n",
       "    </tr>\n",
       "    <tr>\n",
       "      <th>max</th>\n",
       "      <td>3.000000</td>\n",
       "      <td>6.000000</td>\n",
       "      <td>10.000000</td>\n",
       "      <td>1.000000</td>\n",
       "      <td>1.000000</td>\n",
       "      <td>1.000000</td>\n",
       "      <td>1.000000</td>\n",
       "      <td>1.000000</td>\n",
       "      <td>1.000000</td>\n",
       "      <td>1.000000</td>\n",
       "      <td>1.000000</td>\n",
       "    </tr>\n",
       "  </tbody>\n",
       "</table>\n",
       "</div>"
      ],
      "text/plain": [
       "           Pclass      Fare_b  FamilySize  Sex_female    Sex_male  \\\n",
       "count  891.000000  891.000000  891.000000  891.000000  891.000000   \n",
       "mean     2.308642    2.849607    0.904602    0.352413    0.647587   \n",
       "std      0.836071    1.447915    1.613459    0.477990    0.477990   \n",
       "min      1.000000    1.000000    0.000000    0.000000    0.000000   \n",
       "25%      2.000000    2.000000    0.000000    0.000000    0.000000   \n",
       "50%      3.000000    2.000000    0.000000    0.000000    1.000000   \n",
       "75%      3.000000    4.000000    1.000000    1.000000    1.000000   \n",
       "max      3.000000    6.000000   10.000000    1.000000    1.000000   \n",
       "\n",
       "       Age_s_young  Age_s_adult  Age_s_elder  Title_Age_s_young  \\\n",
       "count   891.000000   891.000000   891.000000         891.000000   \n",
       "mean      0.157127     0.674523     0.168350           0.251403   \n",
       "std       0.364125     0.468816     0.374387           0.434063   \n",
       "min       0.000000     0.000000     0.000000           0.000000   \n",
       "25%       0.000000     0.000000     0.000000           0.000000   \n",
       "50%       0.000000     1.000000     0.000000           0.000000   \n",
       "75%       0.000000     1.000000     0.000000           1.000000   \n",
       "max       1.000000     1.000000     1.000000           1.000000   \n",
       "\n",
       "       Title_Age_s_adult  Title_Age_s_elder  \n",
       "count         891.000000         891.000000  \n",
       "mean            0.740741           0.007856  \n",
       "std             0.438474           0.088337  \n",
       "min             0.000000           0.000000  \n",
       "25%             0.000000           0.000000  \n",
       "50%             1.000000           0.000000  \n",
       "75%             1.000000           0.000000  \n",
       "max             1.000000           1.000000  "
      ]
     },
     "execution_count": 4,
     "metadata": {},
     "output_type": "execute_result"
    }
   ],
   "source": [
    "df_d_.describe()"
   ]
  },
  {
   "cell_type": "code",
   "execution_count": 5,
   "metadata": {
    "collapsed": true
   },
   "outputs": [],
   "source": [
    "from sklearn.cross_validation import train_test_split\n",
    "\n",
    "X, y = df_d_.iloc[:].values, df['Survived'].values\n",
    "\n",
    "X_train, X_test, y_train, y_test = train_test_split(X, y, test_size=0.2, random_state=33)"
   ]
  },
  {
   "cell_type": "code",
   "execution_count": null,
   "metadata": {
    "collapsed": true
   },
   "outputs": [],
   "source": []
  },
  {
   "cell_type": "code",
   "execution_count": 11,
   "metadata": {
    "collapsed": true
   },
   "outputs": [],
   "source": [
    "from sklearn.pipeline import Pipeline\n",
    "\n",
    "from sklearn.feature_selection import SelectFromModel\n",
    "from sklearn.preprocessing import StandardScaler\n",
    "from sklearn.decomposition import PCA\n",
    "from sklearn.decomposition import KernelPCA\n",
    "from sklearn.ensemble import RandomForestClassifier\n",
    "from sklearn.neighbors import KNeighborsClassifier\n",
    "from sklearn import cross_validation\n",
    "\n",
    "from sklearn.linear_model import LogisticRegression\n",
    "from sklearn.svm import SVC\n",
    "\n",
    "from sklearn.metrics import accuracy_score, precision_score, recall_score, f1_score"
   ]
  },
  {
   "cell_type": "code",
   "execution_count": 12,
   "metadata": {
    "collapsed": false
   },
   "outputs": [],
   "source": [
    "from sklearn.grid_search import GridSearchCV\n",
    "\n",
    "pipe = Pipeline([\n",
    "        ('scaler', StandardScaler()),\n",
    "        #('pca', KernelPCA(kernel='rbf')),\n",
    "        #('clf', LogisticRegression(random_state=1, class_weight={0:0.35, 1:0.65}))\n",
    "        #('clf', KNeighborsClassifier())\n",
    "        ('clf', RandomForestClassifier(n_estimators=500,\n",
    "                                       criterion='entropy',\n",
    "                                       random_state=1,\n",
    "                                       #min_samples_split=1, \n",
    "                                       #min_samples_leaf=1,\n",
    "                                       #max_features=2,\n",
    "                                       bootstrap=True,\n",
    "                                       oob_score=True,\n",
    "                                       #max_depth=4,\n",
    "                                       #max_features=4,\n",
    "                                       class_weight={0:0.2, 1:0.8},\n",
    "                                       n_jobs=-1))\n",
    "    ])\n",
    "\n",
    "\n",
    "bootstrap_range = [True]\n",
    "clf_max_features_range = [ 8]\n",
    "clf_max_depth_range = [ 10, 20,30]\n",
    "clf_min_samples_leaf_range = [2]\n",
    "clf_min_samples_split_range = [2]\n",
    "\n",
    "\n",
    "param_grid = [\n",
    "    {\n",
    "        'clf__bootstrap': bootstrap_range,\n",
    "        'clf__max_features': clf_max_features_range,\n",
    "        'clf__max_depth': clf_max_depth_range,\n",
    "        'clf__min_samples_leaf': clf_min_samples_leaf_range,\n",
    "        'clf__min_samples_split' : clf_min_samples_split_range \n",
    "    }\n",
    "]\n",
    "\n",
    "gs = GridSearchCV(estimator=pipe,\n",
    "                  param_grid=param_grid,\n",
    "                  scoring='accuracy',\n",
    "                  cv=10,\n",
    "                  #verbose=3,\n",
    "                  n_jobs=-1)\n",
    "\n"
   ]
  },
  {
   "cell_type": "code",
   "execution_count": null,
   "metadata": {
    "collapsed": false
   },
   "outputs": [],
   "source": [
    "gs = gs.fit(X_train, y_train)\n",
    "\n",
    "print gs.best_score_\n",
    "\n",
    "print gs.best_params_"
   ]
  },
  {
   "cell_type": "code",
   "execution_count": 9,
   "metadata": {
    "collapsed": false
   },
   "outputs": [
    {
     "data": {
      "text/plain": [
       "Pipeline(steps=[('scaler', StandardScaler(copy=True, with_mean=True, with_std=True)), ('clf', RandomForestClassifier(bootstrap=True, class_weight={0: 0.2, 1: 0.8},\n",
       "            criterion='entropy', max_depth=10, max_features=8,\n",
       "            max_leaf_nodes=None, min_samples_leaf=2, min_samples_split=2,\n",
       "            min_weight_fraction_leaf=0.0, n_estimators=500, n_jobs=-1,\n",
       "            oob_score=True, random_state=1, verbose=0, warm_start=False))])"
      ]
     },
     "execution_count": 9,
     "metadata": {},
     "output_type": "execute_result"
    }
   ],
   "source": [
    "from sklearn.metrics import accuracy_score, precision_score, recall_score, f1_score\n",
    "\n",
    "gs.best_estimator_.fit(X_train, y_train)"
   ]
  },
  {
   "cell_type": "code",
   "execution_count": null,
   "metadata": {
    "collapsed": false
   },
   "outputs": [],
   "source": [
    "print( 'Training Acc: %.3f' % accuracy_score(gs.predict(X_train), y_train))\n",
    "print( 'Training Precision: %.3f' % precision_score(gs.predict(X_train), y_train))\n",
    "print( 'Training Recall: %.3f' % recall_score(gs.predict(X_train), y_train))\n",
    "print( 'Training F1: %.3f' % f1_score(gs.predict(X_train), y_train))"
   ]
  },
  {
   "cell_type": "code",
   "execution_count": null,
   "metadata": {
    "collapsed": false
   },
   "outputs": [],
   "source": [
    "print( 'Test Acc: %.3f' % accuracy_score(gs.predict(X_test), y_test))\n",
    "print( 'Test Precision: %.3f' % precision_score(gs.predict(X_test), y_test))\n",
    "print( 'Test Recall: %.3f' % recall_score(gs.predict(X_test), y_test))\n",
    "print( 'Test F1: %.3f' % f1_score(gs.predict(X_test), y_test))"
   ]
  },
  {
   "cell_type": "code",
   "execution_count": null,
   "metadata": {
    "collapsed": false
   },
   "outputs": [],
   "source": [
    "scores = cross_validation.cross_val_score(gs.best_estimator_, X, y, scoring='accuracy', cv=10, n_jobs=-1)\n",
    "print('Cross validation check for Acc: %.3f +/- %.3f' % (np.mean(scores), np.std(scores)))"
   ]
  },
  {
   "cell_type": "code",
   "execution_count": null,
   "metadata": {
    "collapsed": false
   },
   "outputs": [],
   "source": [
    "scores = cross_validation.cross_val_score(gs.best_estimator_, X, y, scoring='f1', cv=10, n_jobs=-1)\n",
    "print('Cross validation check for F1: %.3f +/- %.3f' % (np.mean(scores), np.std(scores)))"
   ]
  },
  {
   "cell_type": "code",
   "execution_count": null,
   "metadata": {
    "collapsed": false
   },
   "outputs": [],
   "source": []
  },
  {
   "cell_type": "code",
   "execution_count": null,
   "metadata": {
    "collapsed": false
   },
   "outputs": [],
   "source": []
  },
  {
   "cell_type": "code",
   "execution_count": null,
   "metadata": {
    "collapsed": false
   },
   "outputs": [],
   "source": [
    "from plot_learning_curve import plot_learning_curve\n",
    "\n",
    "plot_learning_curve(gs.best_estimator_, 'title', X, y, ylim=(0.6, 0.9), cv=10,\n",
    "                        n_jobs=-1, train_sizes=np.linspace(.1, 1.0, 5), scoring='accuracy')"
   ]
  },
  {
   "cell_type": "code",
   "execution_count": null,
   "metadata": {
    "collapsed": false
   },
   "outputs": [],
   "source": [
    "from plot_learning_curve import plot_learning_curve\n",
    "\n",
    "plot_learning_curve(gs.best_estimator_, 'title', X, y, ylim=(0.6, 0.9), cv=10,\n",
    "                        n_jobs=-1, train_sizes=np.linspace(.1, 1.0, 5), scoring='f1')"
   ]
  },
  {
   "cell_type": "markdown",
   "metadata": {},
   "source": [
    "## More feature"
   ]
  },
  {
   "cell_type": "code",
   "execution_count": 10,
   "metadata": {
    "collapsed": false
   },
   "outputs": [
    {
     "name": "stdout",
     "output_type": "stream",
     "text": [
      "0.818820224719\n",
      "{'clf__bootstrap': True, 'clf__max_features': 8, 'clf__max_depth': 10, 'clf__min_samples_leaf': 2, 'clf__min_samples_split': 2}\n",
      "Training Acc: 0.857\n",
      "Training Precision: 0.863\n",
      "Training Recall: 0.782\n",
      "Training F1: 0.820\n",
      "Test Acc: 0.827\n",
      "Test Precision: 0.806\n",
      "Test Recall: 0.773\n",
      "Test F1: 0.789\n"
     ]
    },
    {
     "data": {
      "text/plain": [
       "<module 'matplotlib.pyplot' from '/Users/fuyangliu/anaconda/lib/python2.7/site-packages/matplotlib/pyplot.pyc'>"
      ]
     },
     "execution_count": 10,
     "metadata": {},
     "output_type": "execute_result"
    },
    {
     "data": {
      "image/png": "[encoded data removed]",
      "text/plain": [
       "<matplotlib.figure.Figure at 0x11393d350>"
      ]
     },
     "metadata": {},
     "output_type": "display_data"
    },
    {
     "data": {
      "image/png": "[encoded data removed]",
      "text/plain": [
       "<matplotlib.figure.Figure at 0x10cac2a50>"
      ]
     },
     "metadata": {},
     "output_type": "display_data"
    }
   ],
   "source": [
    "\n",
    "feature3= ['Pclass', 'Fare_b', 'FamilySize',\n",
    "           'Sex_female', 'Sex_male',\n",
    "           'Age_s_young', 'Age_s_adult', 'Age_s_elder', \n",
    "          'Title_Age_s_young','Title_Age_s_adult','Title_Age_s_elder',\n",
    "          'Embarked__C', 'Embarked__Q', 'Embarked__S', \n",
    "          'Cabin_s_G', 'Cabin_s_M', 'Cabin_s_X',]\n",
    "\n",
    "\n",
    "df_d_ = df_d[feature3]\n",
    "df_d_test_ = df_d_test[feature3]\n",
    "\n",
    "X, y = df_d_.iloc[:].values, df['Survived'].values\n",
    "X_train, X_test, y_train, y_test = train_test_split(X, y, test_size=0.2, random_state=33)\n",
    "\n",
    "gs = gs.fit(X_train, y_train)\n",
    "\n",
    "print gs.best_score_\n",
    "\n",
    "print gs.best_params_\n",
    "\n",
    "print( 'Training Acc: %.3f' % accuracy_score(gs.predict(X_train), y_train))\n",
    "print( 'Training Precision: %.3f' % precision_score(gs.predict(X_train), y_train))\n",
    "print( 'Training Recall: %.3f' % recall_score(gs.predict(X_train), y_train))\n",
    "print( 'Training F1: %.3f' % f1_score(gs.predict(X_train), y_train))\n",
    "\n",
    "print( 'Test Acc: %.3f' % accuracy_score(gs.predict(X_test), y_test))\n",
    "print( 'Test Precision: %.3f' % precision_score(gs.predict(X_test), y_test))\n",
    "print( 'Test Recall: %.3f' % recall_score(gs.predict(X_test), y_test))\n",
    "print( 'Test F1: %.3f' % f1_score(gs.predict(X_test), y_test))\n",
    "\n",
    "from plot_learning_curve import plot_learning_curve\n",
    "\n",
    "plot_learning_curve(gs.best_estimator_, 'Acc', X, y, ylim=(0.6, 0.95), cv=10,\n",
    "                        n_jobs=-1, train_sizes=np.linspace(.1, 1.0, 5),scoring='accuracy')\n",
    "plot_learning_curve(gs.best_estimator_, 'F1', X, y, ylim=(0.6, 0.95), cv=10,\n",
    "                        n_jobs=-1, train_sizes=np.linspace(.1, 1.0, 5),scoring='f1')"
   ]
  },
  {
   "cell_type": "markdown",
   "metadata": {},
   "source": [
    "## Less but better feature"
   ]
  },
  {
   "cell_type": "code",
   "execution_count": 13,
   "metadata": {
    "collapsed": false
   },
   "outputs": [
    {
     "name": "stdout",
     "output_type": "stream",
     "text": [
      "0.873595505618\n",
      "{'clf__bootstrap': True, 'clf__max_features': 8, 'clf__max_depth': 10, 'clf__min_samples_leaf': 2, 'clf__min_samples_split': 2}\n",
      "Training Acc: 0.876\n",
      "Training Precision: 0.859\n",
      "Training Recall: 0.823\n",
      "Training F1: 0.841\n",
      "Test Acc: 0.883\n",
      "Test Precision: 0.861\n",
      "Test Recall: 0.849\n",
      "Test F1: 0.855\n"
     ]
    },
    {
     "data": {
      "text/plain": [
       "<module 'matplotlib.pyplot' from '/Users/fuyangliu/anaconda/lib/python2.7/site-packages/matplotlib/pyplot.pyc'>"
      ]
     },
     "execution_count": 13,
     "metadata": {},
     "output_type": "execute_result"
    },
    {
     "data": {
      "image/png": "[encoded data removed]",
      "text/plain": [
       "<matplotlib.figure.Figure at 0x11391d190>"
      ]
     },
     "metadata": {},
     "output_type": "display_data"
    },
    {
     "data": {
      "image/png": "[encoded data removed]",
      "text/plain": [
       "<matplotlib.figure.Figure at 0x113928150>"
      ]
     },
     "metadata": {},
     "output_type": "display_data"
    }
   ],
   "source": [
    "feature4= ['Pclass','FamilySize','FamilySurvived', 'FamilyDied',\n",
    "           'Title_s_Master', 'Title_s_Miss', 'Title_s_Mr', 'Title_s_Mrs',\n",
    "           'Cabin_s_G', 'Cabin_s_M', 'Cabin_s_X',\n",
    "          ]\n",
    "\n",
    "df_d_ = df_d[feature4]\n",
    "df_d_test_ = df_d_test[feature4]\n",
    "\n",
    "X, y = df_d_.iloc[:].values, df['Survived'].values\n",
    "X_train, X_test, y_train, y_test = train_test_split(X, y, test_size=0.2, random_state=33)\n",
    "\n",
    "gs = gs.fit(X_train, y_train)\n",
    "\n",
    "print gs.best_score_\n",
    "\n",
    "print gs.best_params_\n",
    "\n",
    "print( 'Training Acc: %.3f' % accuracy_score(gs.predict(X_train), y_train))\n",
    "print( 'Training Precision: %.3f' % precision_score(gs.predict(X_train), y_train))\n",
    "print( 'Training Recall: %.3f' % recall_score(gs.predict(X_train), y_train))\n",
    "print( 'Training F1: %.3f' % f1_score(gs.predict(X_train), y_train))\n",
    "\n",
    "print( 'Test Acc: %.3f' % accuracy_score(gs.predict(X_test), y_test))\n",
    "print( 'Test Precision: %.3f' % precision_score(gs.predict(X_test), y_test))\n",
    "print( 'Test Recall: %.3f' % recall_score(gs.predict(X_test), y_test))\n",
    "print( 'Test F1: %.3f' % f1_score(gs.predict(X_test), y_test))\n",
    "\n",
    "from plot_learning_curve import plot_learning_curve\n",
    "\n",
    "plot_learning_curve(gs.best_estimator_, 'Acc', X, y, ylim=(0.6, 0.95), cv=10,\n",
    "                        n_jobs=-1, train_sizes=np.linspace(.1, 1.0, 5),scoring='accuracy')\n",
    "plot_learning_curve(gs.best_estimator_, 'F1', X, y, ylim=(0.6, 0.95), cv=10,\n",
    "                        n_jobs=-1, train_sizes=np.linspace(.1, 1.0, 5),scoring='f1')"
   ]
  },
  {
   "cell_type": "code",
   "execution_count": null,
   "metadata": {
    "collapsed": false
   },
   "outputs": [],
   "source": []
  },
  {
   "cell_type": "markdown",
   "metadata": {},
   "source": [
    "## All possible feature"
   ]
  },
  {
   "cell_type": "code",
   "execution_count": null,
   "metadata": {
    "collapsed": false
   },
   "outputs": [],
   "source": [
    "feature5= ['Pclass', 'Fare_b', 'FamilySize', 'FamilySurvived', 'FamilyDied',\n",
    "           'Sex_female', 'Sex_male',\n",
    "           'Age_s_young', 'Age_s_adult', 'Age_s_elder', \n",
    "           'Title_s_Master', 'Title_s_Miss', 'Title_s_Mr', 'Title_s_Mrs',\n",
    "          'Title_Age_s_young','Title_Age_s_adult','Title_Age_s_elder',\n",
    "          'Embarked__C', 'Embarked__Q', 'Embarked__S', \n",
    "          'Cabin_s_G', 'Cabin_s_M', 'Cabin_s_X',]\n",
    "\n",
    "df_d_ = df_d[feature5]\n",
    "df_d_test_ = df_d_test[feature5]\n",
    "\n",
    "X, y = df_d_.iloc[:].values, df['Survived'].values\n",
    "X_train, X_test, y_train, y_test = train_test_split(X, y, test_size=0.2, random_state=33)\n",
    "\n",
    "gs = gs.fit(X_train, y_train)\n",
    "\n",
    "print gs.best_score_\n",
    "\n",
    "print gs.best_params_\n",
    "\n",
    "print( 'Training Acc: %.3f' % accuracy_score(gs.predict(X_train), y_train))\n",
    "print( 'Training Precision: %.3f' % precision_score(gs.predict(X_train), y_train))\n",
    "print( 'Training Recall: %.3f' % recall_score(gs.predict(X_train), y_train))\n",
    "print( 'Training F1: %.3f' % f1_score(gs.predict(X_train), y_train))\n",
    "\n",
    "print( 'Test Acc: %.3f' % accuracy_score(gs.predict(X_test), y_test))\n",
    "print( 'Test Precision: %.3f' % precision_score(gs.predict(X_test), y_test))\n",
    "print( 'Test Recall: %.3f' % recall_score(gs.predict(X_test), y_test))\n",
    "print( 'Test F1: %.3f' % f1_score(gs.predict(X_test), y_test))\n",
    "\n",
    "from plot_learning_curve import plot_learning_curve\n",
    "\n",
    "plot_learning_curve(gs.best_estimator_, 'accuracy', X, y, ylim=(0.6, 0.95), cv=10,\n",
    "                        n_jobs=-1, train_sizes=np.linspace(.1, 1.0, 5),scoring='accuracy')\n",
    "plot_learning_curve(gs.best_estimator_, 'F1', X, y, ylim=(0.6, 0.95), cv=10,\n",
    "                        n_jobs=-1, train_sizes=np.linspace(.1, 1.0, 5),scoring='f1')"
   ]
  },
  {
   "cell_type": "markdown",
   "metadata": {},
   "source": [
    "## Over fitting above, use feature4 instead"
   ]
  },
  {
   "cell_type": "markdown",
   "metadata": {},
   "source": [
    "## Get the best model"
   ]
  },
  {
   "cell_type": "code",
   "execution_count": null,
   "metadata": {
    "collapsed": false
   },
   "outputs": [],
   "source": [
    "feature4= ['Pclass', 'Fare_b', 'FamilySurvived', 'FamilyDied',\n",
    "           'Age_s_young', 'Age_s_adult', 'Age_s_elder',\n",
    "           'Title_s_Master', 'Title_s_Miss', 'Title_s_Mr', 'Title_s_Mrs',\n",
    "          ]\n",
    "\n",
    "df_d_ = df_d[feature4]\n",
    "df_d_test_ = df_d_test[feature4]\n",
    "X, y = df_d_.iloc[:].values, df['Survived'].values\n",
    "\n",
    "gs = gs.fit(X, y)\n",
    "\n",
    "print gs.best_score_\n",
    "\n",
    "print gs.best_params_"
   ]
  },
  {
   "cell_type": "code",
   "execution_count": null,
   "metadata": {
    "collapsed": false
   },
   "outputs": [],
   "source": []
  },
  {
   "cell_type": "code",
   "execution_count": null,
   "metadata": {
    "collapsed": false
   },
   "outputs": [],
   "source": [
    "plot_learning_curve(gs.best_estimator_, 'Acc', X, y, ylim=(0.6, 0.95), cv=10,\n",
    "                        n_jobs=-1, train_sizes=np.linspace(.1, 1.0, 5), scoring='accuracy')\n",
    "plot_learning_curve(gs.best_estimator_, 'F1', X, y, ylim=(0.6, 0.95), cv=10,\n",
    "                        n_jobs=-1, train_sizes=np.linspace(.1, 1.0, 5), scoring='f1')"
   ]
  },
  {
   "cell_type": "markdown",
   "metadata": {},
   "source": [
    "# Model prediction on Kaggle test"
   ]
  },
  {
   "cell_type": "code",
   "execution_count": 18,
   "metadata": {
    "collapsed": false
   },
   "outputs": [],
   "source": [
    "feature4= ['Pclass','FamilySize','FamilySurvived', 'FamilyDied',\n",
    "           'Title_s_Master', 'Title_s_Miss', 'Title_s_Mr', 'Title_s_Mrs',\n",
    "           'Cabin_s_G', 'Cabin_s_M', 'Cabin_s_X',\n",
    "          ]\n",
    "\n",
    "df_d_ = df_d[feature4]\n",
    "df_d_test_ = df_d_test[feature4]\n",
    "X, y = df_d_.iloc[:].values, df['Survived'].values\n",
    "X_to_predict = df_d_test_.iloc[:].values\n",
    "\n",
    "clf = gs.best_estimator_\n",
    "#clf.fit(X, y)\n"
   ]
  },
  {
   "cell_type": "code",
   "execution_count": 19,
   "metadata": {
    "collapsed": false
   },
   "outputs": [
    {
     "data": {
      "text/html": [
       "<div>\n",
       "<table border=\"1\" class=\"dataframe\">\n",
       "  <thead>\n",
       "    <tr style=\"text-align: right;\">\n",
       "      <th></th>\n",
       "      <th>Pclass</th>\n",
       "      <th>FamilySize</th>\n",
       "      <th>FamilySurvived</th>\n",
       "      <th>FamilyDied</th>\n",
       "      <th>Title_s_Master</th>\n",
       "      <th>Title_s_Miss</th>\n",
       "      <th>Title_s_Mr</th>\n",
       "      <th>Title_s_Mrs</th>\n",
       "      <th>Cabin_s_G</th>\n",
       "      <th>Cabin_s_M</th>\n",
       "      <th>Cabin_s_X</th>\n",
       "    </tr>\n",
       "  </thead>\n",
       "  <tbody>\n",
       "    <tr>\n",
       "      <th>0</th>\n",
       "      <td>3</td>\n",
       "      <td>0</td>\n",
       "      <td>0</td>\n",
       "      <td>0</td>\n",
       "      <td>0</td>\n",
       "      <td>0</td>\n",
       "      <td>1</td>\n",
       "      <td>0</td>\n",
       "      <td>0</td>\n",
       "      <td>0</td>\n",
       "      <td>1</td>\n",
       "    </tr>\n",
       "    <tr>\n",
       "      <th>1</th>\n",
       "      <td>3</td>\n",
       "      <td>1</td>\n",
       "      <td>0</td>\n",
       "      <td>0</td>\n",
       "      <td>0</td>\n",
       "      <td>0</td>\n",
       "      <td>0</td>\n",
       "      <td>1</td>\n",
       "      <td>0</td>\n",
       "      <td>0</td>\n",
       "      <td>1</td>\n",
       "    </tr>\n",
       "    <tr>\n",
       "      <th>2</th>\n",
       "      <td>2</td>\n",
       "      <td>0</td>\n",
       "      <td>0</td>\n",
       "      <td>0</td>\n",
       "      <td>0</td>\n",
       "      <td>0</td>\n",
       "      <td>1</td>\n",
       "      <td>0</td>\n",
       "      <td>0</td>\n",
       "      <td>0</td>\n",
       "      <td>1</td>\n",
       "    </tr>\n",
       "    <tr>\n",
       "      <th>3</th>\n",
       "      <td>3</td>\n",
       "      <td>0</td>\n",
       "      <td>0</td>\n",
       "      <td>0</td>\n",
       "      <td>0</td>\n",
       "      <td>0</td>\n",
       "      <td>1</td>\n",
       "      <td>0</td>\n",
       "      <td>0</td>\n",
       "      <td>0</td>\n",
       "      <td>1</td>\n",
       "    </tr>\n",
       "    <tr>\n",
       "      <th>4</th>\n",
       "      <td>3</td>\n",
       "      <td>2</td>\n",
       "      <td>1</td>\n",
       "      <td>0</td>\n",
       "      <td>0</td>\n",
       "      <td>0</td>\n",
       "      <td>0</td>\n",
       "      <td>1</td>\n",
       "      <td>0</td>\n",
       "      <td>0</td>\n",
       "      <td>1</td>\n",
       "    </tr>\n",
       "  </tbody>\n",
       "</table>\n",
       "</div>"
      ],
      "text/plain": [
       "   Pclass  FamilySize  FamilySurvived  FamilyDied  Title_s_Master  \\\n",
       "0       3           0               0           0               0   \n",
       "1       3           1               0           0               0   \n",
       "2       2           0               0           0               0   \n",
       "3       3           0               0           0               0   \n",
       "4       3           2               1           0               0   \n",
       "\n",
       "   Title_s_Miss  Title_s_Mr  Title_s_Mrs  Cabin_s_G  Cabin_s_M  Cabin_s_X  \n",
       "0             0           1            0          0          0          1  \n",
       "1             0           0            1          0          0          1  \n",
       "2             0           1            0          0          0          1  \n",
       "3             0           1            0          0          0          1  \n",
       "4             0           0            1          0          0          1  "
      ]
     },
     "execution_count": 19,
     "metadata": {},
     "output_type": "execute_result"
    }
   ],
   "source": [
    "df_d_test_.head()"
   ]
  },
  {
   "cell_type": "code",
   "execution_count": 20,
   "metadata": {
    "collapsed": false
   },
   "outputs": [
    {
     "data": {
      "text/plain": [
       "(array([ 229.,    0.,    0.,    0.,    0.,    0.,    0.,    0.,    0.,  189.]),\n",
       " array([ 0. ,  0.1,  0.2,  0.3,  0.4,  0.5,  0.6,  0.7,  0.8,  0.9,  1. ]),\n",
       " <a list of 10 Patch objects>)"
      ]
     },
     "execution_count": 20,
     "metadata": {},
     "output_type": "execute_result"
    },
    {
     "data": {
      "image/png": "[encoded data removed]",
      "text/plain": [
       "<matplotlib.figure.Figure at 0x10ca5ca90>"
      ]
     },
     "metadata": {},
     "output_type": "display_data"
    }
   ],
   "source": [
    "clf = gs.best_estimator_\n",
    "df_test['Survived'] = clf.predict(X_to_predict)\n",
    "plt.hist(df_test['Survived'] )"
   ]
  },
  {
   "cell_type": "code",
   "execution_count": null,
   "metadata": {
    "collapsed": false
   },
   "outputs": [],
   "source": [
    "df_test"
   ]
  },
  {
   "cell_type": "code",
   "execution_count": 23,
   "metadata": {
    "collapsed": false
   },
   "outputs": [],
   "source": [
    "import csv as csv\n",
    "predictions_file = open(\"RandomForest_Feature4.csv\", \"wb\")\n",
    "predictions_file_object = csv.writer(predictions_file)\n",
    "predictions_file_object.writerow([\"PassengerId\", \"Survived\"]) # write the column headers\n",
    "#for index, row in df_test.iterrows():  # For each row in test file\n",
    "predictions_file_object.writerows(zip(df_test['PassengerId'], df_test['Survived'])) # write the PassengerId, and predict 1\n",
    "predictions_file.close()"
   ]
  },
  {
   "cell_type": "code",
   "execution_count": null,
   "metadata": {
    "collapsed": true
   },
   "outputs": [],
   "source": [
    "x = ['foo', 'bar', 'foo']\n",
    "x = np.array(x)"
   ]
  },
  {
   "cell_type": "code",
   "execution_count": null,
   "metadata": {
    "collapsed": false
   },
   "outputs": [],
   "source": [
    "(x == ['foo']).sum()"
   ]
  },
  {
   "cell_type": "code",
   "execution_count": 24,
   "metadata": {
    "collapsed": false
   },
   "outputs": [
    {
     "data": {
      "text/plain": [
       "(array([ 549.,    0.,    0.,    0.,    0.,    0.,    0.,    0.,    0.,  342.]),\n",
       " array([ 0. ,  0.1,  0.2,  0.3,  0.4,  0.5,  0.6,  0.7,  0.8,  0.9,  1. ]),\n",
       " <a list of 10 Patch objects>)"
      ]
     },
     "execution_count": 24,
     "metadata": {},
     "output_type": "execute_result"
    },
    {
     "data": {
      "image/png": "[encoded data removed]",
      "text/plain": [
       "<matplotlib.figure.Figure at 0x11445b1d0>"
      ]
     },
     "metadata": {},
     "output_type": "display_data"
    }
   ],
   "source": [
    "plt.hist(df['Survived'] )"
   ]
  },
  {
   "cell_type": "code",
   "execution_count": 25,
   "metadata": {
    "collapsed": false
   },
   "outputs": [
    {
     "data": {
      "text/plain": [
       "(array([ 536.,    0.,    0.,    0.,    0.,    0.,    0.,    0.,    0.,  355.]),\n",
       " array([ 0. ,  0.1,  0.2,  0.3,  0.4,  0.5,  0.6,  0.7,  0.8,  0.9,  1. ]),\n",
       " <a list of 10 Patch objects>)"
      ]
     },
     "execution_count": 25,
     "metadata": {},
     "output_type": "execute_result"
    },
    {
     "data": {
      "image/png": "[encoded data removed]",
      "text/plain": [
       "<matplotlib.figure.Figure at 0x114611490>"
      ]
     },
     "metadata": {},
     "output_type": "display_data"
    }
   ],
   "source": [
    "plt.hist(clf.predict(X))"
   ]
  },
  {
   "cell_type": "code",
   "execution_count": null,
   "metadata": {
    "collapsed": true
   },
   "outputs": [],
   "source": []
  }
 ],
 "metadata": {
  "kernelspec": {
   "display_name": "Python 2",
   "language": "python",
   "name": "python2"
  },
  "language_info": {
   "codemirror_mode": {
    "name": "ipython",
    "version": 2
   },
   "file_extension": ".py",
   "mimetype": "text/x-python",
   "name": "python",
   "nbconvert_exporter": "python",
   "pygments_lexer": "ipython2",
   "version": "2.7.11"
  }
 },
 "nbformat": 4,
 "nbformat_minor": 0
}

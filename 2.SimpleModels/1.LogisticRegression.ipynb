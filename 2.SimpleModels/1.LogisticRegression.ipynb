{
 "cells": [
  {
   "cell_type": "code",
   "execution_count": 1,
   "metadata": {
    "collapsed": false
   },
   "outputs": [
    {
     "name": "stderr",
     "output_type": "stream",
     "text": [
      "Vendor:  Continuum Analytics, Inc.\n",
      "Package: mkl\n",
      "Message: trial mode expires in 26 days\n"
     ]
    },
    {
     "data": {
      "text/html": [
       "<div>\n",
       "<table border=\"1\" class=\"dataframe\">\n",
       "  <thead>\n",
       "    <tr style=\"text-align: right;\">\n",
       "      <th></th>\n",
       "      <th>Survived</th>\n",
       "      <th>Pclass</th>\n",
       "      <th>Sex</th>\n",
       "      <th>Age</th>\n",
       "      <th>SibSp</th>\n",
       "      <th>Parch</th>\n",
       "      <th>Fare</th>\n",
       "      <th>Age_s</th>\n",
       "      <th>Title_s</th>\n",
       "      <th>Title_Age_s</th>\n",
       "      <th>Cabin_s</th>\n",
       "      <th>FamilyName</th>\n",
       "    </tr>\n",
       "  </thead>\n",
       "  <tbody>\n",
       "    <tr>\n",
       "      <th>0</th>\n",
       "      <td>0</td>\n",
       "      <td>3</td>\n",
       "      <td>male</td>\n",
       "      <td>22</td>\n",
       "      <td>1</td>\n",
       "      <td>0</td>\n",
       "      <td>7.2500</td>\n",
       "      <td>adult</td>\n",
       "      <td>Mr</td>\n",
       "      <td>adult</td>\n",
       "      <td>X</td>\n",
       "      <td>Braund</td>\n",
       "    </tr>\n",
       "    <tr>\n",
       "      <th>1</th>\n",
       "      <td>1</td>\n",
       "      <td>1</td>\n",
       "      <td>female</td>\n",
       "      <td>38</td>\n",
       "      <td>1</td>\n",
       "      <td>0</td>\n",
       "      <td>71.2833</td>\n",
       "      <td>adult</td>\n",
       "      <td>Mrs</td>\n",
       "      <td>adult</td>\n",
       "      <td>M</td>\n",
       "      <td>Cumings</td>\n",
       "    </tr>\n",
       "    <tr>\n",
       "      <th>2</th>\n",
       "      <td>1</td>\n",
       "      <td>3</td>\n",
       "      <td>female</td>\n",
       "      <td>26</td>\n",
       "      <td>0</td>\n",
       "      <td>0</td>\n",
       "      <td>7.9250</td>\n",
       "      <td>adult</td>\n",
       "      <td>Miss</td>\n",
       "      <td>young</td>\n",
       "      <td>X</td>\n",
       "      <td>Heikkinen</td>\n",
       "    </tr>\n",
       "    <tr>\n",
       "      <th>3</th>\n",
       "      <td>1</td>\n",
       "      <td>1</td>\n",
       "      <td>female</td>\n",
       "      <td>35</td>\n",
       "      <td>1</td>\n",
       "      <td>0</td>\n",
       "      <td>53.1000</td>\n",
       "      <td>adult</td>\n",
       "      <td>Mrs</td>\n",
       "      <td>adult</td>\n",
       "      <td>M</td>\n",
       "      <td>Futrelle</td>\n",
       "    </tr>\n",
       "    <tr>\n",
       "      <th>4</th>\n",
       "      <td>0</td>\n",
       "      <td>3</td>\n",
       "      <td>male</td>\n",
       "      <td>35</td>\n",
       "      <td>0</td>\n",
       "      <td>0</td>\n",
       "      <td>8.0500</td>\n",
       "      <td>adult</td>\n",
       "      <td>Mr</td>\n",
       "      <td>adult</td>\n",
       "      <td>X</td>\n",
       "      <td>Allen</td>\n",
       "    </tr>\n",
       "  </tbody>\n",
       "</table>\n",
       "</div>"
      ],
      "text/plain": [
       "   Survived  Pclass     Sex  Age  SibSp  Parch     Fare  Age_s Title_s  \\\n",
       "0         0       3    male   22      1      0   7.2500  adult      Mr   \n",
       "1         1       1  female   38      1      0  71.2833  adult     Mrs   \n",
       "2         1       3  female   26      0      0   7.9250  adult    Miss   \n",
       "3         1       1  female   35      1      0  53.1000  adult     Mrs   \n",
       "4         0       3    male   35      0      0   8.0500  adult      Mr   \n",
       "\n",
       "  Title_Age_s Cabin_s FamilyName  \n",
       "0       adult       X     Braund  \n",
       "1       adult       M    Cumings  \n",
       "2       young       X  Heikkinen  \n",
       "3       adult       M   Futrelle  \n",
       "4       adult       X      Allen  "
      ]
     },
     "execution_count": 1,
     "metadata": {},
     "output_type": "execute_result"
    }
   ],
   "source": [
    "import pylab as plt\n",
    "%matplotlib inline\n",
    "import numpy as np\n",
    "import pandas as pd\n",
    "import math\n",
    "\n",
    "from featureEngineering6 import feature_engineering\n",
    "\n",
    "df=pd.read_csv('../data/train.csv', sep=',')\n",
    "df_test=pd.read_csv('../data/test.csv', sep=',')\n",
    "\n",
    "df_d, df_d_test = feature_engineering(df, df_test)\n",
    "\n",
    "feature1=['Survived', 'Pclass', 'Sex', 'Age', 'SibSp', 'Parch', 'Fare', 'Age_s', 'Title_s', 'Title_Age_s', 'Cabin_s', 'FamilyName']\n",
    "df[feature1].head()"
   ]
  },
  {
   "cell_type": "code",
   "execution_count": 2,
   "metadata": {
    "collapsed": false
   },
   "outputs": [
    {
     "name": "stdout",
     "output_type": "stream",
     "text": [
      "Index([u'Age', u'HasAge', u'Pclass', u'Fare_', u'Fare_b', u'HasFamily',\n",
      "       u'SibSp', u'Parch', u'FamilySize', u'FamilySurvived', u'FamilyDied',\n",
      "       u'Age_s_adult', u'Age_s_elder', u'Age_s_young', u'Sex_female',\n",
      "       u'Sex_male', u'Title_s_Master', u'Title_s_Miss', u'Title_s_Mr',\n",
      "       u'Title_s_Mrs', u'Title_Age_s_adult', u'Title_Age_s_elder',\n",
      "       u'Title_Age_s_young', u'Embarked__C', u'Embarked__Q', u'Embarked__S',\n",
      "       u'Cabin_s_G', u'Cabin_s_M', u'Cabin_s_X'],\n",
      "      dtype='object')\n"
     ]
    }
   ],
   "source": [
    "feature2= ['Pclass', 'Fare_b', 'FamilySize',\n",
    "           'Sex_female', 'Sex_male',\n",
    "           'Age_s_young', 'Age_s_adult', 'Age_s_elder', \n",
    "          'Title_Age_s_young','Title_Age_s_adult','Title_Age_s_elder',]\n",
    "\n",
    "\n",
    "\n",
    "print df_d.columns\n"
   ]
  },
  {
   "cell_type": "code",
   "execution_count": 3,
   "metadata": {
    "collapsed": false
   },
   "outputs": [
    {
     "data": {
      "text/html": [
       "<div>\n",
       "<table border=\"1\" class=\"dataframe\">\n",
       "  <thead>\n",
       "    <tr style=\"text-align: right;\">\n",
       "      <th></th>\n",
       "      <th>Pclass</th>\n",
       "      <th>Fare_b</th>\n",
       "      <th>FamilySize</th>\n",
       "      <th>Sex_female</th>\n",
       "      <th>Sex_male</th>\n",
       "      <th>Age_s_young</th>\n",
       "      <th>Age_s_adult</th>\n",
       "      <th>Age_s_elder</th>\n",
       "      <th>Title_Age_s_young</th>\n",
       "      <th>Title_Age_s_adult</th>\n",
       "      <th>Title_Age_s_elder</th>\n",
       "    </tr>\n",
       "  </thead>\n",
       "  <tbody>\n",
       "    <tr>\n",
       "      <th>0</th>\n",
       "      <td>3</td>\n",
       "      <td>1</td>\n",
       "      <td>1</td>\n",
       "      <td>0</td>\n",
       "      <td>1</td>\n",
       "      <td>0</td>\n",
       "      <td>1</td>\n",
       "      <td>0</td>\n",
       "      <td>0</td>\n",
       "      <td>1</td>\n",
       "      <td>0</td>\n",
       "    </tr>\n",
       "    <tr>\n",
       "      <th>1</th>\n",
       "      <td>1</td>\n",
       "      <td>5</td>\n",
       "      <td>1</td>\n",
       "      <td>1</td>\n",
       "      <td>0</td>\n",
       "      <td>0</td>\n",
       "      <td>1</td>\n",
       "      <td>0</td>\n",
       "      <td>0</td>\n",
       "      <td>1</td>\n",
       "      <td>0</td>\n",
       "    </tr>\n",
       "    <tr>\n",
       "      <th>2</th>\n",
       "      <td>3</td>\n",
       "      <td>2</td>\n",
       "      <td>0</td>\n",
       "      <td>1</td>\n",
       "      <td>0</td>\n",
       "      <td>0</td>\n",
       "      <td>1</td>\n",
       "      <td>0</td>\n",
       "      <td>1</td>\n",
       "      <td>0</td>\n",
       "      <td>0</td>\n",
       "    </tr>\n",
       "    <tr>\n",
       "      <th>3</th>\n",
       "      <td>1</td>\n",
       "      <td>4</td>\n",
       "      <td>1</td>\n",
       "      <td>1</td>\n",
       "      <td>0</td>\n",
       "      <td>0</td>\n",
       "      <td>1</td>\n",
       "      <td>0</td>\n",
       "      <td>0</td>\n",
       "      <td>1</td>\n",
       "      <td>0</td>\n",
       "    </tr>\n",
       "    <tr>\n",
       "      <th>4</th>\n",
       "      <td>3</td>\n",
       "      <td>2</td>\n",
       "      <td>0</td>\n",
       "      <td>0</td>\n",
       "      <td>1</td>\n",
       "      <td>0</td>\n",
       "      <td>1</td>\n",
       "      <td>0</td>\n",
       "      <td>0</td>\n",
       "      <td>1</td>\n",
       "      <td>0</td>\n",
       "    </tr>\n",
       "  </tbody>\n",
       "</table>\n",
       "</div>"
      ],
      "text/plain": [
       "   Pclass  Fare_b  FamilySize  Sex_female  Sex_male  Age_s_young  Age_s_adult  \\\n",
       "0       3       1           1           0         1            0            1   \n",
       "1       1       5           1           1         0            0            1   \n",
       "2       3       2           0           1         0            0            1   \n",
       "3       1       4           1           1         0            0            1   \n",
       "4       3       2           0           0         1            0            1   \n",
       "\n",
       "   Age_s_elder  Title_Age_s_young  Title_Age_s_adult  Title_Age_s_elder  \n",
       "0            0                  0                  1                  0  \n",
       "1            0                  0                  1                  0  \n",
       "2            0                  1                  0                  0  \n",
       "3            0                  0                  1                  0  \n",
       "4            0                  0                  1                  0  "
      ]
     },
     "execution_count": 3,
     "metadata": {},
     "output_type": "execute_result"
    }
   ],
   "source": [
    "df_d_ = df_d[feature2]\n",
    "df_d_test_ = df_d_test[feature2]\n",
    "df_d_[feature2].head()"
   ]
  },
  {
   "cell_type": "code",
   "execution_count": 4,
   "metadata": {
    "collapsed": false
   },
   "outputs": [
    {
     "data": {
      "text/html": [
       "<div>\n",
       "<table border=\"1\" class=\"dataframe\">\n",
       "  <thead>\n",
       "    <tr style=\"text-align: right;\">\n",
       "      <th></th>\n",
       "      <th>Pclass</th>\n",
       "      <th>Fare_b</th>\n",
       "      <th>FamilySize</th>\n",
       "      <th>Sex_female</th>\n",
       "      <th>Sex_male</th>\n",
       "      <th>Age_s_young</th>\n",
       "      <th>Age_s_adult</th>\n",
       "      <th>Age_s_elder</th>\n",
       "      <th>Title_Age_s_young</th>\n",
       "      <th>Title_Age_s_adult</th>\n",
       "      <th>Title_Age_s_elder</th>\n",
       "    </tr>\n",
       "  </thead>\n",
       "  <tbody>\n",
       "    <tr>\n",
       "      <th>count</th>\n",
       "      <td>891.000000</td>\n",
       "      <td>891.000000</td>\n",
       "      <td>891.000000</td>\n",
       "      <td>891.000000</td>\n",
       "      <td>891.000000</td>\n",
       "      <td>891.000000</td>\n",
       "      <td>891.000000</td>\n",
       "      <td>891.000000</td>\n",
       "      <td>891.000000</td>\n",
       "      <td>891.000000</td>\n",
       "      <td>891.000000</td>\n",
       "    </tr>\n",
       "    <tr>\n",
       "      <th>mean</th>\n",
       "      <td>2.308642</td>\n",
       "      <td>2.849607</td>\n",
       "      <td>0.904602</td>\n",
       "      <td>0.352413</td>\n",
       "      <td>0.647587</td>\n",
       "      <td>0.157127</td>\n",
       "      <td>0.674523</td>\n",
       "      <td>0.168350</td>\n",
       "      <td>0.251403</td>\n",
       "      <td>0.740741</td>\n",
       "      <td>0.007856</td>\n",
       "    </tr>\n",
       "    <tr>\n",
       "      <th>std</th>\n",
       "      <td>0.836071</td>\n",
       "      <td>1.447915</td>\n",
       "      <td>1.613459</td>\n",
       "      <td>0.477990</td>\n",
       "      <td>0.477990</td>\n",
       "      <td>0.364125</td>\n",
       "      <td>0.468816</td>\n",
       "      <td>0.374387</td>\n",
       "      <td>0.434063</td>\n",
       "      <td>0.438474</td>\n",
       "      <td>0.088337</td>\n",
       "    </tr>\n",
       "    <tr>\n",
       "      <th>min</th>\n",
       "      <td>1.000000</td>\n",
       "      <td>1.000000</td>\n",
       "      <td>0.000000</td>\n",
       "      <td>0.000000</td>\n",
       "      <td>0.000000</td>\n",
       "      <td>0.000000</td>\n",
       "      <td>0.000000</td>\n",
       "      <td>0.000000</td>\n",
       "      <td>0.000000</td>\n",
       "      <td>0.000000</td>\n",
       "      <td>0.000000</td>\n",
       "    </tr>\n",
       "    <tr>\n",
       "      <th>25%</th>\n",
       "      <td>2.000000</td>\n",
       "      <td>2.000000</td>\n",
       "      <td>0.000000</td>\n",
       "      <td>0.000000</td>\n",
       "      <td>0.000000</td>\n",
       "      <td>0.000000</td>\n",
       "      <td>0.000000</td>\n",
       "      <td>0.000000</td>\n",
       "      <td>0.000000</td>\n",
       "      <td>0.000000</td>\n",
       "      <td>0.000000</td>\n",
       "    </tr>\n",
       "    <tr>\n",
       "      <th>50%</th>\n",
       "      <td>3.000000</td>\n",
       "      <td>2.000000</td>\n",
       "      <td>0.000000</td>\n",
       "      <td>0.000000</td>\n",
       "      <td>1.000000</td>\n",
       "      <td>0.000000</td>\n",
       "      <td>1.000000</td>\n",
       "      <td>0.000000</td>\n",
       "      <td>0.000000</td>\n",
       "      <td>1.000000</td>\n",
       "      <td>0.000000</td>\n",
       "    </tr>\n",
       "    <tr>\n",
       "      <th>75%</th>\n",
       "      <td>3.000000</td>\n",
       "      <td>4.000000</td>\n",
       "      <td>1.000000</td>\n",
       "      <td>1.000000</td>\n",
       "      <td>1.000000</td>\n",
       "      <td>0.000000</td>\n",
       "      <td>1.000000</td>\n",
       "      <td>0.000000</td>\n",
       "      <td>1.000000</td>\n",
       "      <td>1.000000</td>\n",
       "      <td>0.000000</td>\n",
       "    </tr>\n",
       "    <tr>\n",
       "      <th>max</th>\n",
       "      <td>3.000000</td>\n",
       "      <td>6.000000</td>\n",
       "      <td>10.000000</td>\n",
       "      <td>1.000000</td>\n",
       "      <td>1.000000</td>\n",
       "      <td>1.000000</td>\n",
       "      <td>1.000000</td>\n",
       "      <td>1.000000</td>\n",
       "      <td>1.000000</td>\n",
       "      <td>1.000000</td>\n",
       "      <td>1.000000</td>\n",
       "    </tr>\n",
       "  </tbody>\n",
       "</table>\n",
       "</div>"
      ],
      "text/plain": [
       "           Pclass      Fare_b  FamilySize  Sex_female    Sex_male  \\\n",
       "count  891.000000  891.000000  891.000000  891.000000  891.000000   \n",
       "mean     2.308642    2.849607    0.904602    0.352413    0.647587   \n",
       "std      0.836071    1.447915    1.613459    0.477990    0.477990   \n",
       "min      1.000000    1.000000    0.000000    0.000000    0.000000   \n",
       "25%      2.000000    2.000000    0.000000    0.000000    0.000000   \n",
       "50%      3.000000    2.000000    0.000000    0.000000    1.000000   \n",
       "75%      3.000000    4.000000    1.000000    1.000000    1.000000   \n",
       "max      3.000000    6.000000   10.000000    1.000000    1.000000   \n",
       "\n",
       "       Age_s_young  Age_s_adult  Age_s_elder  Title_Age_s_young  \\\n",
       "count   891.000000   891.000000   891.000000         891.000000   \n",
       "mean      0.157127     0.674523     0.168350           0.251403   \n",
       "std       0.364125     0.468816     0.374387           0.434063   \n",
       "min       0.000000     0.000000     0.000000           0.000000   \n",
       "25%       0.000000     0.000000     0.000000           0.000000   \n",
       "50%       0.000000     1.000000     0.000000           0.000000   \n",
       "75%       0.000000     1.000000     0.000000           1.000000   \n",
       "max       1.000000     1.000000     1.000000           1.000000   \n",
       "\n",
       "       Title_Age_s_adult  Title_Age_s_elder  \n",
       "count         891.000000         891.000000  \n",
       "mean            0.740741           0.007856  \n",
       "std             0.438474           0.088337  \n",
       "min             0.000000           0.000000  \n",
       "25%             0.000000           0.000000  \n",
       "50%             1.000000           0.000000  \n",
       "75%             1.000000           0.000000  \n",
       "max             1.000000           1.000000  "
      ]
     },
     "execution_count": 4,
     "metadata": {},
     "output_type": "execute_result"
    }
   ],
   "source": [
    "df_d_.describe()"
   ]
  },
  {
   "cell_type": "code",
   "execution_count": 5,
   "metadata": {
    "collapsed": true
   },
   "outputs": [],
   "source": [
    "from sklearn.cross_validation import train_test_split\n",
    "\n",
    "X, y = df_d_.iloc[:].values, df['Survived'].values\n",
    "\n",
    "X_train, X_test, y_train, y_test = train_test_split(X, y, test_size=0.2, random_state=33)"
   ]
  },
  {
   "cell_type": "code",
   "execution_count": null,
   "metadata": {
    "collapsed": true
   },
   "outputs": [],
   "source": []
  },
  {
   "cell_type": "code",
   "execution_count": 6,
   "metadata": {
    "collapsed": true
   },
   "outputs": [],
   "source": [
    "from sklearn.pipeline import Pipeline\n",
    "\n",
    "from sklearn.feature_selection import SelectFromModel\n",
    "from sklearn.preprocessing import StandardScaler\n",
    "from sklearn.decomposition import PCA\n",
    "from sklearn.decomposition import KernelPCA\n",
    "from sklearn.ensemble import RandomForestClassifier\n",
    "from sklearn.neighbors import KNeighborsClassifier\n",
    "from sklearn import cross_validation\n",
    "\n",
    "from sklearn.linear_model import LogisticRegression\n",
    "from sklearn.svm import SVC"
   ]
  },
  {
   "cell_type": "code",
   "execution_count": 32,
   "metadata": {
    "collapsed": false
   },
   "outputs": [
    {
     "name": "stdout",
     "output_type": "stream",
     "text": [
      "0.820224719101\n",
      "{'clf__C': 0.0001}\n"
     ]
    }
   ],
   "source": [
    "from sklearn.grid_search import GridSearchCV\n",
    "\n",
    "pipe = Pipeline([\n",
    "        ('scaler', StandardScaler()),\n",
    "        #('pca', KernelPCA(kernel='rbf')),\n",
    "        ('clf', LogisticRegression(random_state=1, class_weight={0:0.35, 1:0.65}))\n",
    "        #('clf', KNeighborsClassifier())\n",
    "    ])\n",
    "\n",
    "\n",
    "C_range = [0.0001]\n",
    "\n",
    "\n",
    "param_grid = [\n",
    "    {\n",
    "        'clf__C': C_range,\n",
    "    }\n",
    "]\n",
    "\n",
    "gs = GridSearchCV(estimator=pipe,\n",
    "                  param_grid=param_grid,\n",
    "                  scoring='accuracy',\n",
    "                  cv=10,\n",
    "                  #verbose=3,\n",
    "                  n_jobs=-1)\n",
    "\n",
    "gs = gs.fit(X_train, y_train)\n",
    "\n",
    "print gs.best_score_\n",
    "\n",
    "print gs.best_params_"
   ]
  },
  {
   "cell_type": "code",
   "execution_count": 33,
   "metadata": {
    "collapsed": false
   },
   "outputs": [
    {
     "data": {
      "text/plain": [
       "Pipeline(steps=[('scaler', StandardScaler(copy=True, with_mean=True, with_std=True)), ('clf', LogisticRegression(C=0.0001, class_weight={0: 0.35, 1: 0.65}, dual=False,\n",
       "          fit_intercept=True, intercept_scaling=1, max_iter=100,\n",
       "          multi_class='ovr', n_jobs=1, penalty='l2', random_state=1,\n",
       "          solver='liblinear', tol=0.0001, verbose=0, warm_start=False))])"
      ]
     },
     "execution_count": 33,
     "metadata": {},
     "output_type": "execute_result"
    }
   ],
   "source": [
    "from sklearn.metrics import accuracy_score, precision_score, recall_score, f1_score\n",
    "\n",
    "gs.best_estimator_.fit(X_train, y_train)"
   ]
  },
  {
   "cell_type": "code",
   "execution_count": 34,
   "metadata": {
    "collapsed": false
   },
   "outputs": [
    {
     "name": "stdout",
     "output_type": "stream",
     "text": [
      "Training Acc: 0.823\n",
      "Training Precision: 0.781\n",
      "Training Recall: 0.759\n",
      "Training F1: 0.770\n"
     ]
    }
   ],
   "source": [
    "print( 'Training Acc: %.3f' % accuracy_score(gs.predict(X_train), y_train))\n",
    "print( 'Training Precision: %.3f' % precision_score(gs.predict(X_train), y_train))\n",
    "print( 'Training Recall: %.3f' % recall_score(gs.predict(X_train), y_train))\n",
    "print( 'Training F1: %.3f' % f1_score(gs.predict(X_train), y_train))"
   ]
  },
  {
   "cell_type": "code",
   "execution_count": 35,
   "metadata": {
    "collapsed": false
   },
   "outputs": [
    {
     "name": "stdout",
     "output_type": "stream",
     "text": [
      "Test Acc: 0.827\n",
      "Test Precision: 0.847\n",
      "Test Recall: 0.753\n",
      "Test F1: 0.797\n"
     ]
    }
   ],
   "source": [
    "print( 'Test Acc: %.3f' % accuracy_score(gs.predict(X_test), y_test))\n",
    "print( 'Test Precision: %.3f' % precision_score(gs.predict(X_test), y_test))\n",
    "print( 'Test Recall: %.3f' % recall_score(gs.predict(X_test), y_test))\n",
    "print( 'Test F1: %.3f' % f1_score(gs.predict(X_test), y_test))"
   ]
  },
  {
   "cell_type": "code",
   "execution_count": 36,
   "metadata": {
    "collapsed": false
   },
   "outputs": [
    {
     "name": "stdout",
     "output_type": "stream",
     "text": [
      "Cross validation check for Acc: 0.826 +/- 0.030\n"
     ]
    }
   ],
   "source": [
    "scores = cross_validation.cross_val_score(gs.best_estimator_, X, y, scoring='accuracy', cv=10, n_jobs=-1)\n",
    "print('Cross validation check for Acc: %.3f +/- %.3f' % (np.mean(scores), np.std(scores)))"
   ]
  },
  {
   "cell_type": "code",
   "execution_count": 37,
   "metadata": {
    "collapsed": false
   },
   "outputs": [
    {
     "name": "stdout",
     "output_type": "stream",
     "text": [
      "Cross validation check for F1: 0.779 +/- 0.039\n"
     ]
    }
   ],
   "source": [
    "scores = cross_validation.cross_val_score(gs.best_estimator_, X, y, scoring='f1', cv=10, n_jobs=-1)\n",
    "print('Cross validation check for F1: %.3f +/- %.3f' % (np.mean(scores), np.std(scores)))"
   ]
  },
  {
   "cell_type": "code",
   "execution_count": 38,
   "metadata": {
    "collapsed": false
   },
   "outputs": [
    {
     "data": {
      "text/plain": [
       "array([[-0.00550988,  0.00494008,  0.00058914,  0.00750343, -0.00336712,\n",
       "         0.00901317, -0.00901317,  0.0031833 , -0.00175328, -0.00084323,\n",
       "         0.00586907, -0.00570313, -0.0008712 ]])"
      ]
     },
     "execution_count": 38,
     "metadata": {},
     "output_type": "execute_result"
    }
   ],
   "source": [
    "gs.best_estimator_.steps[1][1].coef_"
   ]
  },
  {
   "cell_type": "code",
   "execution_count": 39,
   "metadata": {
    "collapsed": false
   },
   "outputs": [
    {
     "data": {
      "text/plain": [
       "['Pclass',\n",
       " 'Fare_b',\n",
       " 'FamilySize',\n",
       " 'Sex_female',\n",
       " 'Sex_male',\n",
       " 'Age_s_young',\n",
       " 'Age_s_adult',\n",
       " 'Age_s_elder',\n",
       " 'Title_Age_s_young',\n",
       " 'Title_Age_s_adult',\n",
       " 'Title_Age_s_elder']"
      ]
     },
     "execution_count": 39,
     "metadata": {},
     "output_type": "execute_result"
    }
   ],
   "source": [
    "feature2"
   ]
  },
  {
   "cell_type": "code",
   "execution_count": 40,
   "metadata": {
    "collapsed": false
   },
   "outputs": [
    {
     "data": {
      "text/plain": [
       "<module 'matplotlib.pyplot' from '/Users/fuyangliu/anaconda/lib/python2.7/site-packages/matplotlib/pyplot.pyc'>"
      ]
     },
     "execution_count": 40,
     "metadata": {},
     "output_type": "execute_result"
    },
    {
     "data": {
      "image/png": "[encoded data removed]",
      "text/plain": [
       "<matplotlib.figure.Figure at 0x113db3590>"
      ]
     },
     "metadata": {},
     "output_type": "display_data"
    }
   ],
   "source": [
    "from plot_learning_curve import plot_learning_curve\n",
    "\n",
    "plot_learning_curve(gs.best_estimator_, 'title', X, y, ylim=(0.6, 0.9), cv=10,\n",
    "                        n_jobs=1, train_sizes=np.linspace(.1, 1.0, 5), scoring='accuracy')"
   ]
  },
  {
   "cell_type": "code",
   "execution_count": 41,
   "metadata": {
    "collapsed": false
   },
   "outputs": [
    {
     "data": {
      "text/plain": [
       "<module 'matplotlib.pyplot' from '/Users/fuyangliu/anaconda/lib/python2.7/site-packages/matplotlib/pyplot.pyc'>"
      ]
     },
     "execution_count": 41,
     "metadata": {},
     "output_type": "execute_result"
    },
    {
     "data": {
      "image/png": "[encoded data removed]",
      "text/plain": [
       "<matplotlib.figure.Figure at 0x113b8c050>"
      ]
     },
     "metadata": {},
     "output_type": "display_data"
    }
   ],
   "source": [
    "from plot_learning_curve import plot_learning_curve\n",
    "\n",
    "plot_learning_curve(gs.best_estimator_, 'title', X, y, ylim=(0.6, 0.9), cv=10,\n",
    "                        n_jobs=1, train_sizes=np.linspace(.1, 1.0, 5), scoring='f1')"
   ]
  },
  {
   "cell_type": "markdown",
   "metadata": {},
   "source": [
    "## More feature"
   ]
  },
  {
   "cell_type": "code",
   "execution_count": 42,
   "metadata": {
    "collapsed": false
   },
   "outputs": [
    {
     "name": "stdout",
     "output_type": "stream",
     "text": [
      "0.76404494382\n",
      "{'clf__C': 0.0001}\n",
      "Training Acc: 0.767\n",
      "Training Precision: 0.837\n",
      "Training Recall: 0.649\n",
      "Training F1: 0.731\n",
      "Test Acc: 0.777\n",
      "Test Precision: 0.875\n",
      "Test Recall: 0.670\n",
      "Test F1: 0.759\n"
     ]
    },
    {
     "data": {
      "text/plain": [
       "<module 'matplotlib.pyplot' from '/Users/fuyangliu/anaconda/lib/python2.7/site-packages/matplotlib/pyplot.pyc'>"
      ]
     },
     "execution_count": 42,
     "metadata": {},
     "output_type": "execute_result"
    },
    {
     "data": {
      "image/png": "[encoded data removed]",
      "text/plain": [
       "<matplotlib.figure.Figure at 0x11368c690>"
      ]
     },
     "metadata": {},
     "output_type": "display_data"
    },
    {
     "data": {
      "image/png": "[encoded data removed]",
      "text/plain": [
       "<matplotlib.figure.Figure at 0x113d87790>"
      ]
     },
     "metadata": {},
     "output_type": "display_data"
    }
   ],
   "source": [
    "\n",
    "feature3= ['Pclass', 'Fare_b', 'FamilySize',\n",
    "           'Sex_female', 'Sex_male',\n",
    "           'Age_s_young', 'Age_s_adult', 'Age_s_elder', \n",
    "          'Title_Age_s_young','Title_Age_s_adult','Title_Age_s_elder',\n",
    "          'Embarked__C', 'Embarked__Q', 'Embarked__S', \n",
    "          'Cabin_s_G', 'Cabin_s_M', 'Cabin_s_X',]\n",
    "\n",
    "\n",
    "df_d_ = df_d[feature3]\n",
    "df_d_test_ = df_d_test[feature3]\n",
    "\n",
    "X, y = df_d_.iloc[:].values, df['Survived'].values\n",
    "X_train, X_test, y_train, y_test = train_test_split(X, y, test_size=0.2, random_state=33)\n",
    "\n",
    "gs = gs.fit(X_train, y_train)\n",
    "\n",
    "print gs.best_score_\n",
    "\n",
    "print gs.best_params_\n",
    "\n",
    "print( 'Training Acc: %.3f' % accuracy_score(gs.predict(X_train), y_train))\n",
    "print( 'Training Precision: %.3f' % precision_score(gs.predict(X_train), y_train))\n",
    "print( 'Training Recall: %.3f' % recall_score(gs.predict(X_train), y_train))\n",
    "print( 'Training F1: %.3f' % f1_score(gs.predict(X_train), y_train))\n",
    "\n",
    "print( 'Test Acc: %.3f' % accuracy_score(gs.predict(X_test), y_test))\n",
    "print( 'Test Precision: %.3f' % precision_score(gs.predict(X_test), y_test))\n",
    "print( 'Test Recall: %.3f' % recall_score(gs.predict(X_test), y_test))\n",
    "print( 'Test F1: %.3f' % f1_score(gs.predict(X_test), y_test))\n",
    "\n",
    "from plot_learning_curve import plot_learning_curve\n",
    "\n",
    "plot_learning_curve(gs.best_estimator_, 'Acc', X, y, ylim=(0.6, 0.95), cv=10,\n",
    "                        n_jobs=1, train_sizes=np.linspace(.1, 1.0, 5),scoring='accuracy')\n",
    "plot_learning_curve(gs.best_estimator_, 'F1', X, y, ylim=(0.6, 0.95), cv=10,\n",
    "                        n_jobs=1, train_sizes=np.linspace(.1, 1.0, 5),scoring='f1')"
   ]
  },
  {
   "cell_type": "markdown",
   "metadata": {},
   "source": [
    "## Less but better feature"
   ]
  },
  {
   "cell_type": "code",
   "execution_count": 43,
   "metadata": {
    "collapsed": false
   },
   "outputs": [
    {
     "name": "stdout",
     "output_type": "stream",
     "text": [
      "0.820224719101\n",
      "{'clf__C': 0.0001}\n",
      "Training Acc: 0.823\n",
      "Training Precision: 0.781\n",
      "Training Recall: 0.759\n",
      "Training F1: 0.770\n",
      "Test Acc: 0.827\n",
      "Test Precision: 0.847\n",
      "Test Recall: 0.753\n",
      "Test F1: 0.797\n"
     ]
    },
    {
     "data": {
      "text/plain": [
       "<module 'matplotlib.pyplot' from '/Users/fuyangliu/anaconda/lib/python2.7/site-packages/matplotlib/pyplot.pyc'>"
      ]
     },
     "execution_count": 43,
     "metadata": {},
     "output_type": "execute_result"
    },
    {
     "data": {
      "image/png": "[encoded data removed]",
      "text/plain": [
       "<matplotlib.figure.Figure at 0x11380a690>"
      ]
     },
     "metadata": {},
     "output_type": "display_data"
    },
    {
     "data": {
      "image/png": "[encoded data removed]",
      "text/plain": [
       "<matplotlib.figure.Figure at 0x11380a610>"
      ]
     },
     "metadata": {},
     "output_type": "display_data"
    }
   ],
   "source": [
    "feature4= ['Pclass', 'Fare_b', 'FamilySize', 'FamilySurvived', 'FamilyDied',\n",
    "           'Sex_female', 'Sex_male',\n",
    "           'Age_s_young', 'Age_s_adult', 'Age_s_elder', \n",
    "          'Title_Age_s_young','Title_Age_s_adult','Title_Age_s_elder',]\n",
    "\n",
    "df_d_ = df_d[feature4]\n",
    "df_d_test_ = df_d_test[feature4]\n",
    "\n",
    "X, y = df_d_.iloc[:].values, df['Survived'].values\n",
    "X_train, X_test, y_train, y_test = train_test_split(X, y, test_size=0.2, random_state=33)\n",
    "\n",
    "gs = gs.fit(X_train, y_train)\n",
    "\n",
    "print gs.best_score_\n",
    "\n",
    "print gs.best_params_\n",
    "\n",
    "print( 'Training Acc: %.3f' % accuracy_score(gs.predict(X_train), y_train))\n",
    "print( 'Training Precision: %.3f' % precision_score(gs.predict(X_train), y_train))\n",
    "print( 'Training Recall: %.3f' % recall_score(gs.predict(X_train), y_train))\n",
    "print( 'Training F1: %.3f' % f1_score(gs.predict(X_train), y_train))\n",
    "\n",
    "print( 'Test Acc: %.3f' % accuracy_score(gs.predict(X_test), y_test))\n",
    "print( 'Test Precision: %.3f' % precision_score(gs.predict(X_test), y_test))\n",
    "print( 'Test Recall: %.3f' % recall_score(gs.predict(X_test), y_test))\n",
    "print( 'Test F1: %.3f' % f1_score(gs.predict(X_test), y_test))\n",
    "\n",
    "from plot_learning_curve import plot_learning_curve\n",
    "\n",
    "plot_learning_curve(gs.best_estimator_, 'Acc', X, y, ylim=(0.6, 0.95), cv=10,\n",
    "                        n_jobs=1, train_sizes=np.linspace(.1, 1.0, 5),scoring='accuracy')\n",
    "plot_learning_curve(gs.best_estimator_, 'Acc', X, y, ylim=(0.6, 0.95), cv=10,\n",
    "                        n_jobs=1, train_sizes=np.linspace(.1, 1.0, 5),scoring='f1')"
   ]
  },
  {
   "cell_type": "code",
   "execution_count": null,
   "metadata": {
    "collapsed": false
   },
   "outputs": [],
   "source": []
  },
  {
   "cell_type": "markdown",
   "metadata": {},
   "source": [
    "## All possible feature"
   ]
  },
  {
   "cell_type": "code",
   "execution_count": 19,
   "metadata": {
    "collapsed": false
   },
   "outputs": [
    {
     "name": "stdout",
     "output_type": "stream",
     "text": [
      "0.863764044944\n",
      "{'clf__C': 10}\n",
      "Training Acc: 0.871\n",
      "Training Precision: 0.833\n",
      "Training Recall: 0.827\n",
      "Training F1: 0.830\n",
      "Test Acc: 0.832\n",
      "Test Precision: 0.819\n",
      "Test Recall: 0.776\n",
      "Test F1: 0.797\n"
     ]
    },
    {
     "data": {
      "text/plain": [
       "<module 'matplotlib.pyplot' from '/Users/fuyangliu/anaconda/lib/python2.7/site-packages/matplotlib/pyplot.pyc'>"
      ]
     },
     "execution_count": 19,
     "metadata": {},
     "output_type": "execute_result"
    },
    {
     "data": {
      "image/png": "[encoded data removed]",
      "text/plain": [
       "<matplotlib.figure.Figure at 0x1136a5810>"
      ]
     },
     "metadata": {},
     "output_type": "display_data"
    },
    {
     "data": {
      "image/png": "[encoded data removed]",
      "text/plain": [
       "<matplotlib.figure.Figure at 0x113b496d0>"
      ]
     },
     "metadata": {},
     "output_type": "display_data"
    }
   ],
   "source": [
    "feature5= ['Pclass', 'Fare_b', 'FamilySize', 'FamilySurvived', 'FamilyDied',\n",
    "           'Sex_female', 'Sex_male',\n",
    "           'Age_s_young', 'Age_s_adult', 'Age_s_elder', \n",
    "          'Title_Age_s_young','Title_Age_s_adult','Title_Age_s_elder',\n",
    "          'Embarked__C', 'Embarked__Q', 'Embarked__S', \n",
    "          'Cabin_s_G', 'Cabin_s_M', 'Cabin_s_X',]\n",
    "\n",
    "df_d_ = df_d[feature5]\n",
    "df_d_test_ = df_d_test[feature5]\n",
    "\n",
    "X, y = df_d_.iloc[:].values, df['Survived'].values\n",
    "X_train, X_test, y_train, y_test = train_test_split(X, y, test_size=0.2, random_state=33)\n",
    "\n",
    "gs = gs.fit(X_train, y_train)\n",
    "\n",
    "print gs.best_score_\n",
    "\n",
    "print gs.best_params_\n",
    "\n",
    "print( 'Training Acc: %.3f' % accuracy_score(gs.predict(X_train), y_train))\n",
    "print( 'Training Precision: %.3f' % precision_score(gs.predict(X_train), y_train))\n",
    "print( 'Training Recall: %.3f' % recall_score(gs.predict(X_train), y_train))\n",
    "print( 'Training F1: %.3f' % f1_score(gs.predict(X_train), y_train))\n",
    "\n",
    "print( 'Test Acc: %.3f' % accuracy_score(gs.predict(X_test), y_test))\n",
    "print( 'Test Precision: %.3f' % precision_score(gs.predict(X_test), y_test))\n",
    "print( 'Test Recall: %.3f' % recall_score(gs.predict(X_test), y_test))\n",
    "print( 'Test F1: %.3f' % f1_score(gs.predict(X_test), y_test))\n",
    "\n",
    "from plot_learning_curve import plot_learning_curve\n",
    "\n",
    "plot_learning_curve(gs.best_estimator_, 'accuracy', X, y, ylim=(0.6, 0.95), cv=10,\n",
    "                        n_jobs=1, train_sizes=np.linspace(.1, 1.0, 5),scoring='accuracy')\n",
    "plot_learning_curve(gs.best_estimator_, 'F1', X, y, ylim=(0.6, 0.95), cv=10,\n",
    "                        n_jobs=1, train_sizes=np.linspace(.1, 1.0, 5),scoring='f1')"
   ]
  },
  {
   "cell_type": "markdown",
   "metadata": {},
   "source": [
    "## Over fitting above, use feature4 instead"
   ]
  },
  {
   "cell_type": "markdown",
   "metadata": {},
   "source": [
    "## Get the best model"
   ]
  },
  {
   "cell_type": "code",
   "execution_count": null,
   "metadata": {
    "collapsed": false
   },
   "outputs": [],
   "source": [
    "df_d_ = df_d[feature4]\n",
    "df_d_test_ = df_d_test[feature4]\n",
    "X, y = df_d_.iloc[:].values, df['Survived'].values\n",
    "\n",
    "gs = gs.fit(X, y)\n",
    "\n",
    "print gs.best_score_\n",
    "\n",
    "print gs.best_params_"
   ]
  },
  {
   "cell_type": "code",
   "execution_count": null,
   "metadata": {
    "collapsed": false
   },
   "outputs": [],
   "source": [
    "plot_learning_curve(gs.best_estimator_, 'Acc', X, y, ylim=(0.6, 0.95), cv=10,\n",
    "                        n_jobs=1, train_sizes=np.linspace(.1, 1.0, 5), scoring='accuracy')\n",
    "plot_learning_curve(gs.best_estimator_, 'F1', X, y, ylim=(0.6, 0.95), cv=10,\n",
    "                        n_jobs=1, train_sizes=np.linspace(.1, 1.0, 5), scoring='f1')"
   ]
  },
  {
   "cell_type": "markdown",
   "metadata": {},
   "source": [
    "# Model prediction on Kaggle test"
   ]
  },
  {
   "cell_type": "code",
   "execution_count": null,
   "metadata": {
    "collapsed": false
   },
   "outputs": [],
   "source": [
    "feature4= ['Pclass', 'Fare_b', 'FamilySize', 'FamilySurvived', 'FamilyDied',\n",
    "           'Sex_female', 'Sex_male',\n",
    "           'Age_s_young', 'Age_s_adult', 'Age_s_elder', \n",
    "          'Title_Age_s_young','Title_Age_s_adult','Title_Age_s_elder',]\n",
    "\n",
    "df_d_ = df_d[feature4]\n",
    "df_d_test_ = df_d_test[feature4]\n",
    "X, y = df_d_.iloc[:].values, df['Survived'].values\n",
    "X_test = df_d_test_.iloc[:].values\n",
    "\n",
    "clf = gs.best_estimator_\n",
    "clf.fit(X, y)\n"
   ]
  },
  {
   "cell_type": "code",
   "execution_count": null,
   "metadata": {
    "collapsed": false
   },
   "outputs": [],
   "source": [
    "df_d_test_.head()"
   ]
  },
  {
   "cell_type": "code",
   "execution_count": null,
   "metadata": {
    "collapsed": false
   },
   "outputs": [],
   "source": [
    "df_test['Survived'] = clf.predict(X_test)\n",
    "plt.hist(df_test['Survived'] )"
   ]
  },
  {
   "cell_type": "code",
   "execution_count": null,
   "metadata": {
    "collapsed": false
   },
   "outputs": [],
   "source": [
    "import csv as csv\n",
    "predictions_file = open(\"LogisticRegression_C=1.0_Feature4.csv\", \"wb\")\n",
    "predictions_file_object = csv.writer(predictions_file)\n",
    "predictions_file_object.writerow([\"PassengerId\", \"Survived\"]) # write the column headers\n",
    "for index, row in df_test.iterrows():  # For each row in test file\n",
    "    predictions_file_object.writerow([row['PassengerId'], row['Survived']]) # write the PassengerId, and predict 1\n",
    "predictions_file.close()"
   ]
  },
  {
   "cell_type": "code",
   "execution_count": null,
   "metadata": {
    "collapsed": true
   },
   "outputs": [],
   "source": []
  }
 ],
 "metadata": {
  "kernelspec": {
   "display_name": "Python 2",
   "language": "python",
   "name": "python2"
  },
  "language_info": {
   "codemirror_mode": {
    "name": "ipython",
    "version": 2
   },
   "file_extension": ".py",
   "mimetype": "text/x-python",
   "name": "python",
   "nbconvert_exporter": "python",
   "pygments_lexer": "ipython2",
   "version": "2.7.11"
  }
 },
 "nbformat": 4,
 "nbformat_minor": 0
}

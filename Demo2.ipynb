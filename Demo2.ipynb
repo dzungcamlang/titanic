{
 "cells": [
  {
   "cell_type": "markdown",
   "metadata": {},
   "source": [
    "# Kaggle Titanic Demo2"
   ]
  },
  {
   "cell_type": "code",
   "execution_count": 1,
   "metadata": {
    "collapsed": false
   },
   "outputs": [
    {
     "name": "stderr",
     "output_type": "stream",
     "text": [
      "Vendor:  Continuum Analytics, Inc.\n",
      "Package: mkl\n",
      "Message: trial mode expires in 25 days\n"
     ]
    }
   ],
   "source": [
    "import pylab as plt\n",
    "%matplotlib inline\n",
    "import numpy as np\n",
    "import pandas as pd\n",
    "import math\n",
    "\n",
    "from featureEngineering6 import feature_engineering\n",
    "from plot_learning_curve import plot_learning_curve\n",
    "\n",
    "Kaggle_train=pd.read_csv('data/train.csv', sep=',')\n",
    "Kaggle_test=pd.read_csv('data/test.csv', sep=',')\n",
    "\n",
    "df_train, df_test = feature_engineering(Kaggle_train, Kaggle_test)\n",
    "\n",
    "feature= ['Pclass','FamilySize','FamilySurvived', 'FamilyDied',\n",
    "           'Title_s_Master', 'Title_s_Miss', 'Title_s_Mr', 'Title_s_Mrs',\n",
    "           'Age_s_young', 'Age_s_adult', 'Age_s_elder', \n",
    "           'Cabin_s_G', 'Cabin_s_M', 'Cabin_s_X',\n",
    "          ]\n",
    "#KS-0.7894\n",
    "\n",
    "feature= ['Pclass','FamilySize','FamilySurvived', 'FamilyDied',\n",
    "           'Title_s_Master', 'Title_s_Miss', 'Title_s_Mr', 'Title_s_Mrs',\n",
    "           'Cabin_s_G', 'Cabin_s_M', 'Cabin_s_X',\n",
    "          ]\n",
    "#KS-0.79426, Acc: 0.883 +/- 0.019, F1: 0.838 +/- 0.027\n",
    "\n",
    "feature2= ['Pclass','FamilySurvived', 'FamilyDied',\n",
    "           'Title_s_Master', 'Title_s_Miss', 'Title_s_Mr', 'Title_s_Mrs',\n",
    "          ]\n",
    "# KS-0.79426, Acc: 0.883 +/- 0.017, F1: 0.839 +/- 0.025\n",
    "# KS-0.81340 by max_depth=3\n",
    "\n",
    "feature= ['Pclass','FamilySurvived', 'FamilyDied',\n",
    "           'Title_s_Master', 'Title_s_Miss', 'Title_s_Mr', 'Title_s_Mrs',\n",
    "           #'Cabin_s_G', 'Cabin_s_M', 'Cabin_s_X',\n",
    "          ]\n",
    "\n",
    "# Acc: 0.886 +/- 0.017, F1: 0.842 +/- 0.025 # with max_depth = 4\n",
    "# KS-0.81340 by max_depth=3\n",
    "\n",
    "X, y = df_train[feature], Kaggle_train['Survived']"
   ]
  },
  {
   "cell_type": "code",
   "execution_count": 2,
   "metadata": {
    "collapsed": true
   },
   "outputs": [],
   "source": [
    "from sklearn.cross_validation import train_test_split\n",
    "from sklearn import cross_validation\n",
    "\n",
    "from sklearn.pipeline import Pipeline\n",
    "\n",
    "from sklearn.feature_selection import SelectFromModel\n",
    "from sklearn.preprocessing import StandardScaler\n",
    "from sklearn.decomposition import PCA\n",
    "from sklearn.decomposition import KernelPCA\n",
    "from sklearn.ensemble import RandomForestClassifier\n",
    "from sklearn.neighbors import KNeighborsClassifier\n",
    "\n",
    "from sklearn.linear_model import LogisticRegression\n",
    "from sklearn.svm import SVC\n",
    "\n",
    "from sklearn.metrics import accuracy_score, precision_score, recall_score, f1_score"
   ]
  },
  {
   "cell_type": "markdown",
   "metadata": {},
   "source": [
    "## Train, Test split"
   ]
  },
  {
   "cell_type": "code",
   "execution_count": 3,
   "metadata": {
    "collapsed": true
   },
   "outputs": [],
   "source": [
    "X_train, X_test, y_train, y_test = train_test_split(X, y, test_size=0.2, random_state=1)"
   ]
  },
  {
   "cell_type": "code",
   "execution_count": 4,
   "metadata": {
    "collapsed": true
   },
   "outputs": [],
   "source": [
    "clf = RandomForestClassifier(n_estimators=1000,\n",
    "                                       criterion='entropy',\n",
    "                                       random_state=1,\n",
    "                                       min_samples_split=2, \n",
    "                                       min_samples_leaf=2,\n",
    "                                       max_features='auto',\n",
    "                                       bootstrap=True,\n",
    "                                       oob_score=True,\n",
    "                                       max_depth=3,\n",
    "                                       #class_weight={0:0.2, 1:0.8},\n",
    "                                       n_jobs=-1)"
   ]
  },
  {
   "cell_type": "code",
   "execution_count": 5,
   "metadata": {
    "collapsed": false
   },
   "outputs": [
    {
     "data": {
      "text/plain": [
       "RandomForestClassifier(bootstrap=True, class_weight=None, criterion='entropy',\n",
       "            max_depth=3, max_features='auto', max_leaf_nodes=None,\n",
       "            min_samples_leaf=2, min_samples_split=2,\n",
       "            min_weight_fraction_leaf=0.0, n_estimators=1000, n_jobs=-1,\n",
       "            oob_score=True, random_state=1, verbose=0, warm_start=False)"
      ]
     },
     "execution_count": 5,
     "metadata": {},
     "output_type": "execute_result"
    }
   ],
   "source": [
    "clf.fit(X_train, y_train)"
   ]
  },
  {
   "cell_type": "code",
   "execution_count": 6,
   "metadata": {
    "collapsed": false
   },
   "outputs": [
    {
     "name": "stdout",
     "output_type": "stream",
     "text": [
      "Training Acc: 0.885\n",
      "Training Precision: 0.792\n",
      "Training Recall: 0.891\n",
      "Training F1: 0.839\n"
     ]
    }
   ],
   "source": [
    "print( 'Training Acc: %.3f' % accuracy_score(clf.predict(X_train), y_train))\n",
    "print( 'Training Precision: %.3f' % precision_score(clf.predict(X_train), y_train))\n",
    "print( 'Training Recall: %.3f' % recall_score(clf.predict(X_train), y_train))\n",
    "print( 'Training F1: %.3f' % f1_score(clf.predict(X_train), y_train))"
   ]
  },
  {
   "cell_type": "code",
   "execution_count": 7,
   "metadata": {
    "collapsed": false
   },
   "outputs": [
    {
     "name": "stdout",
     "output_type": "stream",
     "text": [
      "Test Acc: 0.849\n",
      "Test Precision: 0.726\n",
      "Test Recall: 0.883\n",
      "Test F1: 0.797\n"
     ]
    }
   ],
   "source": [
    "print( 'Test Acc: %.3f' % accuracy_score(clf.predict(X_test), y_test))\n",
    "print( 'Test Precision: %.3f' % precision_score(clf.predict(X_test), y_test))\n",
    "print( 'Test Recall: %.3f' % recall_score(clf.predict(X_test), y_test))\n",
    "print( 'Test F1: %.3f' % f1_score(clf.predict(X_test), y_test))"
   ]
  },
  {
   "cell_type": "markdown",
   "metadata": {},
   "source": [
    "## Model evaluation"
   ]
  },
  {
   "cell_type": "code",
   "execution_count": 8,
   "metadata": {
    "collapsed": false
   },
   "outputs": [
    {
     "name": "stdout",
     "output_type": "stream",
     "text": [
      "Cross validation check for Acc: 0.877 +/- 0.022\n"
     ]
    }
   ],
   "source": [
    "scores = cross_validation.cross_val_score(clf, X, y, scoring='accuracy', cv=8, n_jobs=-1)\n",
    "print('Cross validation check for Acc: %.3f +/- %.3f' % (np.mean(scores), np.std(scores)))"
   ]
  },
  {
   "cell_type": "code",
   "execution_count": 9,
   "metadata": {
    "collapsed": false
   },
   "outputs": [
    {
     "name": "stdout",
     "output_type": "stream",
     "text": [
      "Cross validation check for F1: 0.827 +/- 0.037\n"
     ]
    }
   ],
   "source": [
    "scores = cross_validation.cross_val_score(clf, X, y, scoring='f1', cv=8, n_jobs=-1)\n",
    "print('Cross validation check for F1: %.3f +/- %.3f' % (np.mean(scores), np.std(scores)))"
   ]
  },
  {
   "cell_type": "code",
   "execution_count": 10,
   "metadata": {
    "collapsed": false
   },
   "outputs": [
    {
     "name": "stdout",
     "output_type": "stream",
     "text": [
      "Cross validation check for ROC AUC: 0.905 +/- 0.014\n"
     ]
    }
   ],
   "source": [
    "scores = cross_validation.cross_val_score(clf, X, y, scoring='roc_auc', cv=8, n_jobs=-1)\n",
    "print('Cross validation check for ROC AUC: %.3f +/- %.3f' % (np.mean(scores), np.std(scores)))"
   ]
  },
  {
   "cell_type": "code",
   "execution_count": 11,
   "metadata": {
    "collapsed": true
   },
   "outputs": [],
   "source": [
    "from plot_learning_curve import plot_learning_curve"
   ]
  },
  {
   "cell_type": "code",
   "execution_count": 12,
   "metadata": {
    "collapsed": false
   },
   "outputs": [
    {
     "data": {
      "text/plain": [
       "<module 'matplotlib.pyplot' from '/Users/fuyangliu/anaconda/lib/python2.7/site-packages/matplotlib/pyplot.pyc'>"
      ]
     },
     "execution_count": 12,
     "metadata": {},
     "output_type": "execute_result"
    },
    {
     "data": {
      "image/png": "[encoded data removed]",
      "text/plain": [
       "<matplotlib.figure.Figure at 0x113bb8710>"
      ]
     },
     "metadata": {},
     "output_type": "display_data"
    }
   ],
   "source": [
    "plot_learning_curve(clf, 'Acc', X, y, ylim=(0.6, 0.98), cv=8,\n",
    "                        n_jobs=-1, train_sizes=np.linspace(.1, 1.0, 5), scoring='accuracy')"
   ]
  },
  {
   "cell_type": "code",
   "execution_count": 13,
   "metadata": {
    "collapsed": false
   },
   "outputs": [
    {
     "data": {
      "text/plain": [
       "<module 'matplotlib.pyplot' from '/Users/fuyangliu/anaconda/lib/python2.7/site-packages/matplotlib/pyplot.pyc'>"
      ]
     },
     "execution_count": 13,
     "metadata": {},
     "output_type": "execute_result"
    },
    {
     "data": {
      "image/png": "[encoded data removed]",
      "text/plain": [
       "<matplotlib.figure.Figure at 0x10cb764d0>"
      ]
     },
     "metadata": {},
     "output_type": "display_data"
    }
   ],
   "source": [
    "plot_learning_curve(clf, 'F1', X, y, ylim=(0.6, 0.98), cv=8,\n",
    "                        n_jobs=-1, train_sizes=np.linspace(.1, 1.0, 5), scoring='f1')"
   ]
  },
  {
   "cell_type": "code",
   "execution_count": 14,
   "metadata": {
    "collapsed": false
   },
   "outputs": [
    {
     "data": {
      "text/plain": [
       "<module 'matplotlib.pyplot' from '/Users/fuyangliu/anaconda/lib/python2.7/site-packages/matplotlib/pyplot.pyc'>"
      ]
     },
     "execution_count": 14,
     "metadata": {},
     "output_type": "execute_result"
    },
    {
     "data": {
      "image/png": "[encoded data removed]",
      "text/plain": [
       "<matplotlib.figure.Figure at 0x116991890>"
      ]
     },
     "metadata": {},
     "output_type": "display_data"
    }
   ],
   "source": [
    "plot_learning_curve(clf, 'ROC AUC', X, y, ylim=(0.6, 0.98), cv=8,\n",
    "                        n_jobs=-1, train_sizes=np.linspace(.1, 1.0, 5), scoring='roc_auc')"
   ]
  },
  {
   "cell_type": "markdown",
   "metadata": {},
   "source": [
    "## Prediction"
   ]
  },
  {
   "cell_type": "code",
   "execution_count": null,
   "metadata": {
    "collapsed": false
   },
   "outputs": [],
   "source": [
    "clf = RandomForestClassifier(n_estimators=1000,\n",
    "                                       criterion='entropy',\n",
    "                                       random_state=1,\n",
    "                                       min_samples_split=2, \n",
    "                                       min_samples_leaf=2,\n",
    "                                       max_features=2,\n",
    "                                       bootstrap=True,\n",
    "                                       oob_score=True,\n",
    "                                       max_depth=3,\n",
    "                                       #class_weight={0:0.2, 1:0.8},\n",
    "                                       n_jobs=-1)\n",
    "clf.fit(X, y)"
   ]
  },
  {
   "cell_type": "code",
   "execution_count": null,
   "metadata": {
    "collapsed": false
   },
   "outputs": [],
   "source": [
    "Kaggle_test['Survived'] = clf.predict(df_test[feature])"
   ]
  },
  {
   "cell_type": "code",
   "execution_count": null,
   "metadata": {
    "collapsed": true
   },
   "outputs": [],
   "source": [
    "import csv as csv\n",
    "predictions_file = open(\"Demo2.csv\", \"wb\")\n",
    "predictions_file_object = csv.writer(predictions_file)\n",
    "predictions_file_object.writerow([\"PassengerId\", \"Survived\"]) # write the column headers\n",
    "predictions_file_object.writerows(zip(Kaggle_test['PassengerId'], Kaggle_test['Survived'])) # write the PassengerId, and predict 1\n",
    "predictions_file.close()"
   ]
  },
  {
   "cell_type": "markdown",
   "metadata": {
    "collapsed": true
   },
   "source": [
    "## This gives Kaggle public score: 0.8134"
   ]
  },
  {
   "cell_type": "code",
   "execution_count": null,
   "metadata": {
    "collapsed": true
   },
   "outputs": [],
   "source": []
  }
 ],
 "metadata": {
  "kernelspec": {
   "display_name": "Python 2",
   "language": "python",
   "name": "python2"
  },
  "language_info": {
   "codemirror_mode": {
    "name": "ipython",
    "version": 2
   },
   "file_extension": ".py",
   "mimetype": "text/x-python",
   "name": "python",
   "nbconvert_exporter": "python",
   "pygments_lexer": "ipython2",
   "version": "2.7.11"
  }
 },
 "nbformat": 4,
 "nbformat_minor": 0
}

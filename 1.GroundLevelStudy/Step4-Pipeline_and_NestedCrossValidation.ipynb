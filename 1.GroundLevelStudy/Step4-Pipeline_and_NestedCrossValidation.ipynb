{
 "cells": [
  {
   "cell_type": "code",
   "execution_count": 1,
   "metadata": {
    "collapsed": false
   },
   "outputs": [
    {
     "name": "stderr",
     "output_type": "stream",
     "text": [
      "Vendor:  Continuum Analytics, Inc.\n",
      "Package: mkl\n",
      "Message: trial mode expires in 28 days\n"
     ]
    }
   ],
   "source": [
    "import pylab as plt\n",
    "%matplotlib inline\n",
    "import numpy as np\n",
    "import pandas as pd\n",
    "import math\n",
    "\n",
    "from featureEngineering2 import feature_engineering\n",
    "\n",
    "df=pd.read_csv('data/train.csv', sep=',')\n",
    "\n",
    "df_f = feature_engineering(df)\n",
    "\n",
    "df_d = feature_engineering(df, get_dummies=True)\n",
    "\n"
   ]
  },
  {
   "cell_type": "code",
   "execution_count": 65,
   "metadata": {
    "collapsed": false
   },
   "outputs": [],
   "source": [
    "from sklearn.ensemble import RandomForestClassifier\n",
    "\n",
    "feat_labels = df_d.columns\n",
    "X_train = df_d\n",
    "y_train = df['Survived']\n"
   ]
  },
  {
   "cell_type": "code",
   "execution_count": null,
   "metadata": {
    "collapsed": false
   },
   "outputs": [],
   "source": []
  },
  {
   "cell_type": "code",
   "execution_count": 66,
   "metadata": {
    "collapsed": false
   },
   "outputs": [
    {
     "data": {
      "text/plain": [
       "Pipeline(steps=[('scaler', StandardScaler(copy=True, with_mean=True, with_std=True)), ('pca', KernelPCA(alpha=1.0, coef0=1, degree=3, eigen_solver='auto',\n",
       "     fit_inverse_transform=False, gamma=0.05, kernel='rbf',\n",
       "     kernel_params=None, max_iter=None, n_components=8,\n",
       "     remove_zero_eig=False, tol=0)), ('clf', KNeighborsClassifier(algorithm='auto', leaf_size=30, metric='minkowski',\n",
       "           metric_params=None, n_jobs=1, n_neighbors=5, p=2,\n",
       "           weights='uniform'))])"
      ]
     },
     "execution_count": 66,
     "metadata": {},
     "output_type": "execute_result"
    }
   ],
   "source": [
    "from sklearn.cross_validation import train_test_split\n",
    "X, y = df_d.iloc[:].values, df['Survived'].values\n",
    "\n",
    "X_train, X_test, y_train, y_test = train_test_split(X, y, test_size=0.2, random_state=1)\n",
    "\n",
    "######################################\n",
    "\n",
    "from sklearn.pipeline import Pipeline\n",
    "\n",
    "from sklearn.feature_selection import SelectFromModel\n",
    "from sklearn.preprocessing import StandardScaler\n",
    "from sklearn.decomposition import PCA\n",
    "from sklearn.decomposition import KernelPCA\n",
    "from sklearn.ensemble import RandomForestClassifier\n",
    "from sklearn.neighbors import KNeighborsClassifier\n",
    "\n",
    "from sklearn.linear_model import LogisticRegression\n",
    "from sklearn.svm import SVC\n",
    "\n",
    "select = SelectFromModel(forest, prefit=True, threshold=0.00)\n",
    "X_train = select.transform(X_train)\n",
    "X_test = select.transform(X_test)\n",
    "\n",
    "pipe = Pipeline([\n",
    "        ('scaler', StandardScaler()),\n",
    "        ('pca', KernelPCA(n_components=8, kernel='rbf', gamma=0.05)),\n",
    "        #('clf', LogisticRegression(random_state=1))\n",
    "        ('clf', KNeighborsClassifier(n_neighbors=5))\n",
    "        #('clf', RandomForestClassifier(n_estimators=100,\n",
    "                                      # criterion='entropy',\n",
    "                                       #random_state=0,\n",
    "                                       #max_depth=4,\n",
    "                                       ##max_features=4,\n",
    "                                       #n_jobs=-1))\n",
    "    ])\n",
    "\n",
    "pipe.fit(X_train, y_train)\n"
   ]
  },
  {
   "cell_type": "code",
   "execution_count": 67,
   "metadata": {
    "collapsed": false
   },
   "outputs": [
    {
     "name": "stdout",
     "output_type": "stream",
     "text": [
      "0.776536312849\n",
      "0.862359550562\n",
      "0.657534246575\n",
      "0.705882352941\n"
     ]
    }
   ],
   "source": [
    "from sklearn.metrics import accuracy_score, precision_score, f1_score\n",
    "\n",
    "print accuracy_score(pipe.predict(X_test), y_test)\n",
    "print accuracy_score(pipe.predict(X_train), y_train)\n",
    "print precision_score(pipe.predict(X_test), y_test)\n",
    "print f1_score(pipe.predict(X_test), y_test)"
   ]
  },
  {
   "cell_type": "code",
   "execution_count": 64,
   "metadata": {
    "collapsed": false
   },
   "outputs": [
    {
     "name": "stdout",
     "output_type": "stream",
     "text": [
      "F1: 0.741 +/- 0.048\n"
     ]
    }
   ],
   "source": [
    "from sklearn import svm, cross_validation, datasets\n",
    "\n",
    "X, y = df_d.iloc[:].values, df['Survived'].values\n",
    "select = SelectFromModel(forest, prefit=True, threshold=0.00)\n",
    "X = select.transform(X)\n",
    "\n",
    "scores = cross_validation.cross_val_score(pipe, X, y, scoring='f1', cv=8)\n",
    "\n",
    "print('F1: %.3f +/- %.3f' % (np.mean(scores), np.std(scores)))"
   ]
  },
  {
   "cell_type": "markdown",
   "metadata": {
    "collapsed": false
   },
   "source": [
    "## Tuning hyperparameters via grid search"
   ]
  },
  {
   "cell_type": "code",
   "execution_count": 75,
   "metadata": {
    "collapsed": false
   },
   "outputs": [
    {
     "name": "stdout",
     "output_type": "stream",
     "text": [
      "0.76112972569\n",
      "{'pca__n_components': 7, 'pca__gamma': 0.03111111111111111, 'clf__n_neighbors': 7}\n"
     ]
    }
   ],
   "source": [
    "from sklearn.grid_search import GridSearchCV\n",
    "\n",
    "pipe = Pipeline([\n",
    "        ('scaler', StandardScaler()),\n",
    "        ('pca', KernelPCA(kernel='rbf')),\n",
    "        #('clf', LogisticRegression(random_state=1))\n",
    "        ('clf', KNeighborsClassifier())\n",
    "        #('clf', RandomForestClassifier(n_estimators=100,\n",
    "                                      # criterion='entropy',\n",
    "                                       #random_state=0,\n",
    "                                       #max_depth=4,\n",
    "                                       ##max_features=4,\n",
    "                                       #n_jobs=-1))\n",
    "    ])\n",
    "\n",
    "pca_gamma_range = np.linspace(0.01, 0.2, 10)\n",
    "pca_n_range = range(4,10)\n",
    "knn_n_neighbor_range = range(4,10)\n",
    "\n",
    "param_grid = [\n",
    "    {'pca__n_components': pca_n_range,\n",
    "     'pca__gamma': pca_gamma_range,\n",
    "     'clf__n_neighbors': knn_n_neighbor_range\n",
    "    }\n",
    "]\n",
    "\n",
    "gs = GridSearchCV(estimator=pipe,\n",
    "                  param_grid=param_grid,\n",
    "                  scoring='f1',\n",
    "                  cv=8,\n",
    "                  n_jobs=-1)\n",
    "\n",
    "gs = gs.fit(X, y)\n",
    "\n",
    "print gs.best_score_\n",
    "\n",
    "print gs.best_params_\n",
    "\n",
    "\n"
   ]
  },
  {
   "cell_type": "code",
   "execution_count": 74,
   "metadata": {
    "collapsed": false
   },
   "outputs": [
    {
     "data": {
      "text/plain": [
       "(891, 38)"
      ]
     },
     "execution_count": 74,
     "metadata": {},
     "output_type": "execute_result"
    }
   ],
   "source": [
    "X.shape"
   ]
  },
  {
   "cell_type": "code",
   "execution_count": 76,
   "metadata": {
    "collapsed": false
   },
   "outputs": [
    {
     "name": "stdout",
     "output_type": "stream",
     "text": [
      "F1: 0.712 +/- 0.052\n"
     ]
    }
   ],
   "source": [
    "scores = cross_validation.cross_val_score(gs, X, y, scoring='f1', cv=5)\n",
    "print('F1: %.3f +/- %.3f' % (np.mean(scores), np.std(scores)))"
   ]
  },
  {
   "cell_type": "code",
   "execution_count": 77,
   "metadata": {
    "collapsed": false
   },
   "outputs": [
    {
     "data": {
      "text/plain": [
       "array([ 0.69491525,  0.71532847,  0.72307692,  0.63157895,  0.79411765])"
      ]
     },
     "execution_count": 77,
     "metadata": {},
     "output_type": "execute_result"
    }
   ],
   "source": [
    "scores"
   ]
  },
  {
   "cell_type": "code",
   "execution_count": null,
   "metadata": {
    "collapsed": true
   },
   "outputs": [],
   "source": []
  }
 ],
 "metadata": {
  "kernelspec": {
   "display_name": "Python 2",
   "language": "python",
   "name": "python2"
  },
  "language_info": {
   "codemirror_mode": {
    "name": "ipython",
    "version": 2
   },
   "file_extension": ".py",
   "mimetype": "text/x-python",
   "name": "python",
   "nbconvert_exporter": "python",
   "pygments_lexer": "ipython2",
   "version": "2.7.11"
  }
 },
 "nbformat": 4,
 "nbformat_minor": 0
}

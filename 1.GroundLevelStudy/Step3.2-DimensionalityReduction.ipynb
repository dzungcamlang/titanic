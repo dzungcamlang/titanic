{
 "cells": [
  {
   "cell_type": "code",
   "execution_count": 1,
   "metadata": {
    "collapsed": false
   },
   "outputs": [
    {
     "name": "stderr",
     "output_type": "stream",
     "text": [
      "Vendor:  Continuum Analytics, Inc.\n",
      "Package: mkl\n",
      "Message: trial mode expires in 28 days\n"
     ]
    }
   ],
   "source": [
    "import pylab as plt\n",
    "%matplotlib inline\n",
    "import numpy as np\n",
    "import pandas as pd\n",
    "import math\n",
    "\n",
    "from featureEngineering2 import feature_engineering\n",
    "\n",
    "df=pd.read_csv('data/train.csv', sep=',')\n",
    "\n",
    "df_f = feature_engineering(df)\n",
    "\n",
    "df_d = feature_engineering(df, get_dummies=True)"
   ]
  },
  {
   "cell_type": "code",
   "execution_count": 2,
   "metadata": {
    "collapsed": false
   },
   "outputs": [
    {
     "data": {
      "text/html": [
       "<div>\n",
       "<table border=\"1\" class=\"dataframe\">\n",
       "  <thead>\n",
       "    <tr style=\"text-align: right;\">\n",
       "      <th></th>\n",
       "      <th>Age_</th>\n",
       "      <th>Age_b</th>\n",
       "      <th>HasAge</th>\n",
       "      <th>Sex</th>\n",
       "      <th>Pclass</th>\n",
       "      <th>Fare_</th>\n",
       "      <th>HasFare</th>\n",
       "      <th>Title_</th>\n",
       "      <th>Embarked_</th>\n",
       "      <th>Cabin_</th>\n",
       "      <th>SibSp_</th>\n",
       "      <th>Parch_</th>\n",
       "    </tr>\n",
       "  </thead>\n",
       "  <tbody>\n",
       "    <tr>\n",
       "      <th>0</th>\n",
       "      <td>22</td>\n",
       "      <td>5</td>\n",
       "      <td>1</td>\n",
       "      <td>male</td>\n",
       "      <td>3</td>\n",
       "      <td>7.250</td>\n",
       "      <td>1</td>\n",
       "      <td>Mr</td>\n",
       "      <td>S</td>\n",
       "      <td>X</td>\n",
       "      <td>1</td>\n",
       "      <td>0</td>\n",
       "    </tr>\n",
       "    <tr>\n",
       "      <th>1</th>\n",
       "      <td>38</td>\n",
       "      <td>9</td>\n",
       "      <td>1</td>\n",
       "      <td>female</td>\n",
       "      <td>1</td>\n",
       "      <td>40.000</td>\n",
       "      <td>1</td>\n",
       "      <td>Mrs</td>\n",
       "      <td>C</td>\n",
       "      <td>C</td>\n",
       "      <td>1</td>\n",
       "      <td>0</td>\n",
       "    </tr>\n",
       "    <tr>\n",
       "      <th>2</th>\n",
       "      <td>26</td>\n",
       "      <td>6</td>\n",
       "      <td>1</td>\n",
       "      <td>female</td>\n",
       "      <td>3</td>\n",
       "      <td>7.925</td>\n",
       "      <td>1</td>\n",
       "      <td>Miss</td>\n",
       "      <td>S</td>\n",
       "      <td>X</td>\n",
       "      <td>0</td>\n",
       "      <td>0</td>\n",
       "    </tr>\n",
       "    <tr>\n",
       "      <th>3</th>\n",
       "      <td>35</td>\n",
       "      <td>9</td>\n",
       "      <td>1</td>\n",
       "      <td>female</td>\n",
       "      <td>1</td>\n",
       "      <td>40.000</td>\n",
       "      <td>1</td>\n",
       "      <td>Mrs</td>\n",
       "      <td>S</td>\n",
       "      <td>C</td>\n",
       "      <td>1</td>\n",
       "      <td>0</td>\n",
       "    </tr>\n",
       "    <tr>\n",
       "      <th>4</th>\n",
       "      <td>35</td>\n",
       "      <td>9</td>\n",
       "      <td>1</td>\n",
       "      <td>male</td>\n",
       "      <td>3</td>\n",
       "      <td>8.050</td>\n",
       "      <td>1</td>\n",
       "      <td>Mr</td>\n",
       "      <td>S</td>\n",
       "      <td>X</td>\n",
       "      <td>0</td>\n",
       "      <td>0</td>\n",
       "    </tr>\n",
       "  </tbody>\n",
       "</table>\n",
       "</div>"
      ],
      "text/plain": [
       "   Age_  Age_b  HasAge     Sex  Pclass   Fare_  HasFare Title_ Embarked_  \\\n",
       "0    22      5       1    male       3   7.250        1     Mr         S   \n",
       "1    38      9       1  female       1  40.000        1    Mrs         C   \n",
       "2    26      6       1  female       3   7.925        1   Miss         S   \n",
       "3    35      9       1  female       1  40.000        1    Mrs         S   \n",
       "4    35      9       1    male       3   8.050        1     Mr         S   \n",
       "\n",
       "  Cabin_  SibSp_  Parch_  \n",
       "0      X       1       0  \n",
       "1      C       1       0  \n",
       "2      X       0       0  \n",
       "3      C       1       0  \n",
       "4      X       0       0  "
      ]
     },
     "execution_count": 2,
     "metadata": {},
     "output_type": "execute_result"
    }
   ],
   "source": [
    "df_f.head()"
   ]
  },
  {
   "cell_type": "code",
   "execution_count": 3,
   "metadata": {
    "collapsed": false
   },
   "outputs": [
    {
     "data": {
      "text/html": [
       "<div>\n",
       "<table border=\"1\" class=\"dataframe\">\n",
       "  <thead>\n",
       "    <tr style=\"text-align: right;\">\n",
       "      <th></th>\n",
       "      <th>Age_</th>\n",
       "      <th>Age_b</th>\n",
       "      <th>HasAge</th>\n",
       "      <th>Pclass</th>\n",
       "      <th>Fare_</th>\n",
       "      <th>HasFare</th>\n",
       "      <th>SibSp_</th>\n",
       "      <th>Parch_</th>\n",
       "      <th>Sex_female</th>\n",
       "      <th>Sex_male</th>\n",
       "      <th>...</th>\n",
       "      <th>Embarked__X</th>\n",
       "      <th>Cabin__A</th>\n",
       "      <th>Cabin__B</th>\n",
       "      <th>Cabin__C</th>\n",
       "      <th>Cabin__D</th>\n",
       "      <th>Cabin__E</th>\n",
       "      <th>Cabin__F</th>\n",
       "      <th>Cabin__G</th>\n",
       "      <th>Cabin__T</th>\n",
       "      <th>Cabin__X</th>\n",
       "    </tr>\n",
       "  </thead>\n",
       "  <tbody>\n",
       "    <tr>\n",
       "      <th>0</th>\n",
       "      <td>22</td>\n",
       "      <td>5</td>\n",
       "      <td>1</td>\n",
       "      <td>3</td>\n",
       "      <td>7.250</td>\n",
       "      <td>1</td>\n",
       "      <td>1</td>\n",
       "      <td>0</td>\n",
       "      <td>0</td>\n",
       "      <td>1</td>\n",
       "      <td>...</td>\n",
       "      <td>0</td>\n",
       "      <td>0</td>\n",
       "      <td>0</td>\n",
       "      <td>0</td>\n",
       "      <td>0</td>\n",
       "      <td>0</td>\n",
       "      <td>0</td>\n",
       "      <td>0</td>\n",
       "      <td>0</td>\n",
       "      <td>1</td>\n",
       "    </tr>\n",
       "    <tr>\n",
       "      <th>1</th>\n",
       "      <td>38</td>\n",
       "      <td>9</td>\n",
       "      <td>1</td>\n",
       "      <td>1</td>\n",
       "      <td>40.000</td>\n",
       "      <td>1</td>\n",
       "      <td>1</td>\n",
       "      <td>0</td>\n",
       "      <td>1</td>\n",
       "      <td>0</td>\n",
       "      <td>...</td>\n",
       "      <td>0</td>\n",
       "      <td>0</td>\n",
       "      <td>0</td>\n",
       "      <td>1</td>\n",
       "      <td>0</td>\n",
       "      <td>0</td>\n",
       "      <td>0</td>\n",
       "      <td>0</td>\n",
       "      <td>0</td>\n",
       "      <td>0</td>\n",
       "    </tr>\n",
       "    <tr>\n",
       "      <th>2</th>\n",
       "      <td>26</td>\n",
       "      <td>6</td>\n",
       "      <td>1</td>\n",
       "      <td>3</td>\n",
       "      <td>7.925</td>\n",
       "      <td>1</td>\n",
       "      <td>0</td>\n",
       "      <td>0</td>\n",
       "      <td>1</td>\n",
       "      <td>0</td>\n",
       "      <td>...</td>\n",
       "      <td>0</td>\n",
       "      <td>0</td>\n",
       "      <td>0</td>\n",
       "      <td>0</td>\n",
       "      <td>0</td>\n",
       "      <td>0</td>\n",
       "      <td>0</td>\n",
       "      <td>0</td>\n",
       "      <td>0</td>\n",
       "      <td>1</td>\n",
       "    </tr>\n",
       "    <tr>\n",
       "      <th>3</th>\n",
       "      <td>35</td>\n",
       "      <td>9</td>\n",
       "      <td>1</td>\n",
       "      <td>1</td>\n",
       "      <td>40.000</td>\n",
       "      <td>1</td>\n",
       "      <td>1</td>\n",
       "      <td>0</td>\n",
       "      <td>1</td>\n",
       "      <td>0</td>\n",
       "      <td>...</td>\n",
       "      <td>0</td>\n",
       "      <td>0</td>\n",
       "      <td>0</td>\n",
       "      <td>1</td>\n",
       "      <td>0</td>\n",
       "      <td>0</td>\n",
       "      <td>0</td>\n",
       "      <td>0</td>\n",
       "      <td>0</td>\n",
       "      <td>0</td>\n",
       "    </tr>\n",
       "    <tr>\n",
       "      <th>4</th>\n",
       "      <td>35</td>\n",
       "      <td>9</td>\n",
       "      <td>1</td>\n",
       "      <td>3</td>\n",
       "      <td>8.050</td>\n",
       "      <td>1</td>\n",
       "      <td>0</td>\n",
       "      <td>0</td>\n",
       "      <td>0</td>\n",
       "      <td>1</td>\n",
       "      <td>...</td>\n",
       "      <td>0</td>\n",
       "      <td>0</td>\n",
       "      <td>0</td>\n",
       "      <td>0</td>\n",
       "      <td>0</td>\n",
       "      <td>0</td>\n",
       "      <td>0</td>\n",
       "      <td>0</td>\n",
       "      <td>0</td>\n",
       "      <td>1</td>\n",
       "    </tr>\n",
       "  </tbody>\n",
       "</table>\n",
       "<p>5 rows × 40 columns</p>\n",
       "</div>"
      ],
      "text/plain": [
       "   Age_  Age_b  HasAge  Pclass   Fare_  HasFare  SibSp_  Parch_  Sex_female  \\\n",
       "0    22      5       1       3   7.250        1       1       0           0   \n",
       "1    38      9       1       1  40.000        1       1       0           1   \n",
       "2    26      6       1       3   7.925        1       0       0           1   \n",
       "3    35      9       1       1  40.000        1       1       0           1   \n",
       "4    35      9       1       3   8.050        1       0       0           0   \n",
       "\n",
       "   Sex_male    ...     Embarked__X  Cabin__A  Cabin__B  Cabin__C  Cabin__D  \\\n",
       "0         1    ...               0         0         0         0         0   \n",
       "1         0    ...               0         0         0         1         0   \n",
       "2         0    ...               0         0         0         0         0   \n",
       "3         0    ...               0         0         0         1         0   \n",
       "4         1    ...               0         0         0         0         0   \n",
       "\n",
       "   Cabin__E  Cabin__F  Cabin__G  Cabin__T  Cabin__X  \n",
       "0         0         0         0         0         1  \n",
       "1         0         0         0         0         0  \n",
       "2         0         0         0         0         1  \n",
       "3         0         0         0         0         0  \n",
       "4         0         0         0         0         1  \n",
       "\n",
       "[5 rows x 40 columns]"
      ]
     },
     "execution_count": 3,
     "metadata": {},
     "output_type": "execute_result"
    }
   ],
   "source": [
    "df_d.head()"
   ]
  },
  {
   "cell_type": "markdown",
   "metadata": {},
   "source": [
    "## Train, test split and StandarScaler"
   ]
  },
  {
   "cell_type": "code",
   "execution_count": 4,
   "metadata": {
    "collapsed": true
   },
   "outputs": [],
   "source": [
    "from sklearn.cross_validation import train_test_split\n",
    "from sklearn.preprocessing import StandardScaler\n",
    "\n",
    "X, y = df_d.iloc[:].values, df['Survived'].values\n",
    "\n",
    "X_train, X_test, y_train, y_test = train_test_split(X, y, test_size=0.2, random_state=1)\n",
    "\n",
    "stdsc = StandardScaler()\n",
    "\n",
    "X_train_std = stdsc.fit_transform(X_train)\n",
    "X_test_std = stdsc.transform(X_test)"
   ]
  },
  {
   "cell_type": "markdown",
   "metadata": {},
   "source": [
    "## Eigenvalues and Eigenvectors"
   ]
  },
  {
   "cell_type": "code",
   "execution_count": 5,
   "metadata": {
    "collapsed": false
   },
   "outputs": [
    {
     "name": "stdout",
     "output_type": "stream",
     "text": [
      "\n",
      "Eigenvalues \n",
      "[  4.41830842e+00   3.45701993e+00   2.37441318e+00   1.97714436e+00\n",
      "   7.82222499e-03   1.22522635e-01   3.40221624e-01   1.41873939e+00\n",
      "   1.36504243e+00   4.88763505e-01   5.32233886e-01   1.32141349e+00\n",
      "   1.26640844e+00   6.09174554e-01   6.68433205e-01   7.20695289e-01\n",
      "   7.48011893e-01   1.13219823e+00   9.07310968e-01   1.08873533e+00\n",
      "   1.07243020e+00   9.50680254e-01   1.03146326e+00   9.83956785e-01\n",
      "   1.01549031e+00   1.01258532e+00   1.00663044e+00   1.00520121e+00\n",
      "   1.00179211e+00   1.00297513e+00   1.00281492e+00   3.49896658e-15\n",
      "  -1.55536397e-15   5.07074681e-16  -3.12727064e-16   3.99998798e-18\n",
      "   0.00000000e+00   0.00000000e+00   0.00000000e+00   0.00000000e+00]\n"
     ]
    }
   ],
   "source": [
    "# calculate the covariance matrix:\n",
    "cov_mat = np.cov(X_train_std.T)\n",
    "eigen_vals, eigen_vecs = np.linalg.eig(cov_mat) # eigendecomposition\n",
    "\n",
    "print('\\nEigenvalues \\n%s' % eigen_vals)"
   ]
  },
  {
   "cell_type": "code",
   "execution_count": 6,
   "metadata": {
    "collapsed": false
   },
   "outputs": [
    {
     "data": {
      "text/plain": [
       "(40,)"
      ]
     },
     "execution_count": 6,
     "metadata": {},
     "output_type": "execute_result"
    }
   ],
   "source": [
    "eigen_vals.shape"
   ]
  },
  {
   "cell_type": "code",
   "execution_count": 7,
   "metadata": {
    "collapsed": false
   },
   "outputs": [
    {
     "data": {
      "text/plain": [
       "(40, 40)"
      ]
     },
     "execution_count": 7,
     "metadata": {},
     "output_type": "execute_result"
    }
   ],
   "source": [
    "eigen_vecs.shape # eigenvectors (principal components)"
   ]
  },
  {
   "cell_type": "markdown",
   "metadata": {},
   "source": [
    "## Total and explained variance\n",
    "\n",
    "### We want to select the subset of the eigenvectors (principal components) that contains most of the information (variance)\n",
    "\n",
    "Since the eigenvalues define the magnitude of the eigenvectors, we have to sort the eigenvalues by decreasing magnitude.\n",
    "\n",
    "Firstly we use [cumsum] function to calculate the cumulative sum of explained variance, which we will plot via matplotlib's step function:"
   ]
  },
  {
   "cell_type": "code",
   "execution_count": 8,
   "metadata": {
    "collapsed": true
   },
   "outputs": [],
   "source": [
    "tot = sum(eigen_vals)\n",
    "var_exp = [(i / tot) for i in sorted(eigen_vals, reverse=True)]\n",
    "cum_var_exp = np.cumsum(var_exp)"
   ]
  },
  {
   "cell_type": "code",
   "execution_count": 9,
   "metadata": {
    "collapsed": false
   },
   "outputs": [
    {
     "data": {
      "image/png": "[encoded data removed]",
      "text/plain": [
       "<matplotlib.figure.Figure at 0x112568890>"
      ]
     },
     "metadata": {},
     "output_type": "display_data"
    }
   ],
   "source": [
    "plt.bar(range(1, 41), var_exp, alpha=0.5, align='center',\n",
    "        label='individual explained variance')\n",
    "plt.step(range(1, 41), cum_var_exp, where='mid',\n",
    "         label='cumulative explained variance')\n",
    "plt.ylabel('Explained variance ratio')\n",
    "plt.xlabel('Principal components')\n",
    "plt.legend(loc='best')\n",
    "plt.tight_layout()\n",
    "# plt.savefig('./figures/pca1.png', dpi=300)\n",
    "plt.show()"
   ]
  },
  {
   "cell_type": "markdown",
   "metadata": {},
   "source": [
    "The resulting plot indicates that the first principal component alone accounts for 12% to 13% of the variance. \n",
    "\n",
    "We shall remind ourselvs that PCA is an unsupervised method, which means that information about the class labels is ignored."
   ]
  },
  {
   "cell_type": "markdown",
   "metadata": {},
   "source": [
    "## Feature transformation"
   ]
  },
  {
   "cell_type": "markdown",
   "metadata": {},
   "source": [
    "We start by sorting the eigenpairs by decreasing order of the eigenvalues:"
   ]
  },
  {
   "cell_type": "code",
   "execution_count": 10,
   "metadata": {
    "collapsed": false
   },
   "outputs": [],
   "source": [
    "# Make a list of (eigenvalue, eigenvector) tuples\n",
    "eigen_pairs = [(np.abs(eigen_vals[i]), eigen_vecs[:,i]) for i in range(len(eigen_vals))]\n",
    "\n",
    "# Sort the (eigenvalue, eigenvector) tuples from high to low\n",
    "eigen_pairs.sort(reverse=True,key=lambda x: x[0])"
   ]
  },
  {
   "cell_type": "code",
   "execution_count": 11,
   "metadata": {
    "collapsed": false,
    "scrolled": true
   },
   "outputs": [
    {
     "data": {
      "text/plain": [
       "[(4.418308419119982,\n",
       "  array([ 0.02933826,  0.02858363,  0.07068511, -0.26899236,  0.32720879,\n",
       "          0.        ,  0.14716766,  0.18550107,  0.39248585, -0.39248585,\n",
       "          0.0224851 ,  0.00968865,  0.00413458,  0.01105302,  0.        ,\n",
       "          0.03658184,  0.01751977,  0.00104547,  0.23059266,  0.03991491,\n",
       "          0.03991491, -0.38360894,  0.25485708,  0.        , -0.01908379,\n",
       "          0.        ,  0.03381341,  0.13889215, -0.02731735, -0.110645  ,\n",
       "          0.06296165,  0.01857297,  0.1589269 ,  0.14808816,  0.10452739,\n",
       "          0.08106099,  0.02220841,  0.04103724, -0.00157447, -0.27190276])),\n",
       " (3.4570199261123551,\n",
       "  array([ 0.40059748,  0.3973978 ,  0.05430106, -0.3429792 ,  0.18131862,\n",
       "          0.        , -0.16724284, -0.17230173, -0.20240705,  0.20240705,\n",
       "          0.06295993,  0.07629982,  0.02704839,  0.05170644,  0.        ,\n",
       "          0.04700295,  0.0688546 , -0.16977402, -0.25205078,  0.02033853,\n",
       "          0.02033853,  0.23054912,  0.00153063,  0.        ,  0.03169402,\n",
       "          0.        ,  0.02405472,  0.12765392, -0.11822397, -0.04145249,\n",
       "          0.05032261,  0.15174708,  0.14519494,  0.16978384,  0.11024428,\n",
       "          0.08523832, -0.03993905, -0.04937272,  0.04448584, -0.29596032])),\n",
       " (2.3744131778684663,\n",
       "  array([ 0.23912772,  0.23834538, -0.24941629,  0.13316158, -0.25999913,\n",
       "          0.        , -0.30264219, -0.28454403,  0.2218705 , -0.2218705 ,\n",
       "         -0.0263299 ,  0.01687278,  0.01954838, -0.01722538,  0.        ,\n",
       "          0.01590222, -0.02929434, -0.37826945,  0.20647833,  0.00159591,\n",
       "          0.00159591, -0.05703212,  0.0650178 ,  0.        ,  0.03635465,\n",
       "          0.        , -0.01418537,  0.11204103,  0.32216233, -0.30766909,\n",
       "          0.0425836 , -0.03386553, -0.05724692, -0.11489591, -0.02865822,\n",
       "         -0.0201304 , -0.09767906, -0.02263788, -0.02075864,  0.16676388])),\n",
       " (1.977144364018977,\n",
       "  array([-0.24270137, -0.24636377, -0.22582321, -0.06309121,  0.09585093,\n",
       "          0.        ,  0.05045395, -0.03005039, -0.14814909,  0.14814909,\n",
       "         -0.04632975,  0.01412089,  0.05503135,  0.02219174,  0.        ,\n",
       "          0.07537239, -0.03034473,  0.19642503,  0.0235033 ,  0.08743194,\n",
       "          0.08743194,  0.07075368, -0.25424435,  0.        , -0.07489278,\n",
       "          0.        , -0.02017882,  0.4548776 ,  0.239851  , -0.54643171,\n",
       "         -0.01282607,  0.12563443,  0.08451391,  0.09986311,  0.02315734,\n",
       "         -0.08052203,  0.04534015, -0.07913671, -0.02485827, -0.11952949])),\n",
       " (1.4187393892701379,\n",
       "  array([ -1.20775450e-01,  -1.21201487e-01,   1.37085475e-01,\n",
       "          -1.02390504e-02,  -9.26390009e-02,   0.00000000e+00,\n",
       "          -2.23712654e-01,  -1.15684575e-01,   1.81420164e-03,\n",
       "          -1.81420164e-03,   1.47770371e-01,  -1.79943148e-01,\n",
       "          -1.03187236e-02,   1.84262403e-02,   0.00000000e+00,\n",
       "          -2.36189165e-01,   1.16191798e-01,  -6.49835871e-02,\n",
       "           5.95344541e-02,   2.59038393e-01,   2.59038393e-01,\n",
       "           2.46151441e-02,  -1.23059878e-01,   0.00000000e+00,\n",
       "          -3.41463473e-02,   0.00000000e+00,   2.49143356e-01,\n",
       "          -7.64734171e-03,  -9.46104761e-02,   3.22971678e-02,\n",
       "           2.93766705e-01,  -2.87710823e-01,   5.59194174e-01,\n",
       "          -1.82647284e-01,  -6.28686382e-02,  -2.96292193e-02,\n",
       "           4.18883756e-02,   9.42708348e-05,   1.69458358e-03,\n",
       "          -5.59261589e-02])),\n",
       " (1.3650424321070262,\n",
       "  array([-0.17149144, -0.17183638,  0.07187315, -0.13763263, -0.06920343,\n",
       "          0.        , -0.25257248, -0.28266796,  0.04858303, -0.04858303,\n",
       "         -0.18104416, -0.00979179, -0.0817307 , -0.09134568,  0.        ,\n",
       "          0.04347481,  0.03689515, -0.12351486,  0.38059465, -0.0383395 ,\n",
       "         -0.0383395 ,  0.05308143, -0.36957055,  0.        , -0.09242186,\n",
       "          0.        ,  0.0128044 , -0.15485441, -0.03757723,  0.17114043,\n",
       "         -0.10764531,  0.11459062, -0.19728225,  0.10866409,  0.22438887,\n",
       "          0.27886363,  0.22419224,  0.01443365,  0.06633349, -0.29721229])),\n",
       " (1.3214134880348445,\n",
       "  array([-0.04546105, -0.04713323,  0.19752415,  0.04997494, -0.09089594,\n",
       "          0.        , -0.14390349, -0.00648746,  0.05424571, -0.05424571,\n",
       "         -0.00781283,  0.3159985 ,  0.03337444, -0.1273813 ,  0.        ,\n",
       "          0.45998695, -0.11188642,  0.01931449, -0.01023742,  0.10752857,\n",
       "          0.10752857, -0.06025541,  0.00574465,  0.        , -0.01535532,\n",
       "          0.        ,  0.07198874,  0.12481262, -0.24997135,  0.04305923,\n",
       "          0.06666966,  0.52033146,  0.11554739, -0.39049115, -0.0831434 ,\n",
       "         -0.07219446, -0.00200168,  0.0706529 , -0.03881913,  0.07539281])),\n",
       " (1.2664084443146781,\n",
       "  array([-0.11176652, -0.11002804,  0.16544486,  0.01270803, -0.03318899,\n",
       "          0.        , -0.13636926, -0.01561706,  0.04734352, -0.04734352,\n",
       "         -0.2670353 , -0.1692069 ,  0.13073155, -0.1927365 ,  0.        ,\n",
       "         -0.13871434, -0.17478411, -0.20406212, -0.13588244,  0.06648303,\n",
       "          0.06648303,  0.15119726,  0.23511584,  0.        , -0.18498977,\n",
       "          0.        , -0.12440006,  0.39852897, -0.41773428, -0.05975424,\n",
       "         -0.17063416, -0.21274781, -0.1613527 ,  0.03289127,  0.21674668,\n",
       "         -0.03883553, -0.13551706,  0.10139043, -0.03085167,  0.07885187])),\n",
       " (1.1321982274852473,\n",
       "  array([ -3.07802076e-03,  -1.61109414e-03,   2.51459777e-01,\n",
       "          -9.12652423e-02,   8.38303317e-02,   0.00000000e+00,\n",
       "           7.47093938e-02,  -6.04233325e-03,  -2.40995132e-04,\n",
       "           2.40995132e-04,   2.54970690e-02,   1.00195219e-01,\n",
       "           1.74373586e-01,   2.46269340e-01,   0.00000000e+00,\n",
       "           1.11272310e-02,   1.01712088e-01,  -1.21463198e-01,\n",
       "           3.04092231e-01,   8.32339771e-03,   8.32339771e-03,\n",
       "          -6.11879117e-02,  -3.53704614e-01,   0.00000000e+00,\n",
       "           2.00161601e-01,   0.00000000e+00,   2.83421254e-03,\n",
       "           5.27237817e-02,  -1.37575596e-01,   5.38676730e-02,\n",
       "          -1.01515254e-01,  -2.64553620e-02,  -2.59614061e-02,\n",
       "           1.30960518e-01,   6.84895106e-02,  -2.68928915e-01,\n",
       "          -4.94501782e-01,  -3.17661118e-01,  -7.77305424e-03,\n",
       "           2.26555135e-01])),\n",
       " (1.0887353319850461,\n",
       "  array([ 0.06332187,  0.06780969,  0.0808382 , -0.02423717,  0.03511036,\n",
       "          0.        ,  0.04811871,  0.01574306, -0.04177219,  0.04177219,\n",
       "          0.1825734 ,  0.05276178,  0.19533859, -0.03408842,  0.        ,\n",
       "         -0.17974742, -0.4221756 ,  0.16901801,  0.03005636, -0.03287971,\n",
       "         -0.03287971, -0.06226846, -0.05605723,  0.        ,  0.28563187,\n",
       "          0.        , -0.08653083,  0.0333638 ,  0.05034652, -0.06588171,\n",
       "          0.04082748, -0.10986551, -0.03766905, -0.44162103,  0.43965149,\n",
       "          0.27796803,  0.11074831, -0.24215344,  0.05986235,  0.00779676])),\n",
       " (1.0724302018937431,\n",
       "  array([-0.00530123, -0.00194732,  0.21546419, -0.00877482, -0.12783927,\n",
       "          0.        , -0.1435036 , -0.11788941, -0.01745438,  0.01745438,\n",
       "         -0.29154328,  0.14120018,  0.33968672,  0.26956471,  0.        ,\n",
       "         -0.1070896 ,  0.21460489,  0.13161764, -0.0877881 ,  0.07425605,\n",
       "          0.07425605, -0.20167875,  0.08643817,  0.        ,  0.44734423,\n",
       "          0.        , -0.1273934 ,  0.09458519, -0.02532298, -0.05635988,\n",
       "         -0.08181429, -0.06561612, -0.07623789,  0.08096969, -0.26560267,\n",
       "          0.08710402,  0.34345664,  0.09367015, -0.09793901, -0.01925315])),\n",
       " (1.0314632551028231,\n",
       "  array([  1.66081324e-02,   6.36963900e-03,   1.54353968e-02,\n",
       "           2.98315785e-02,  -4.13295065e-02,   0.00000000e+00,\n",
       "          -3.67445535e-03,  -4.50240238e-02,  -3.92762230e-03,\n",
       "           3.92762230e-03,   1.04344863e-02,   3.66793225e-02,\n",
       "          -1.19160885e-01,   1.32508261e-02,   0.00000000e+00,\n",
       "          -8.54090492e-03,   1.25282908e-01,  -2.44875708e-02,\n",
       "          -6.36558493e-03,  -9.07115688e-02,  -9.07115688e-02,\n",
       "          -2.62082421e-02,   2.26908406e-02,   0.00000000e+00,\n",
       "           1.70799287e-01,   0.00000000e+00,  -3.17079654e-03,\n",
       "          -1.89978090e-02,   7.38166113e-03,   2.22891797e-04,\n",
       "           9.81201369e-02,   2.44832594e-03,  -1.16102599e-03,\n",
       "          -8.22062544e-03,   5.05691915e-01,  -7.07745539e-01,\n",
       "           3.26466729e-01,   2.00197056e-01,   2.55756099e-03,\n",
       "          -4.77954981e-02])),\n",
       " (1.0154903096817285,\n",
       "  array([-0.02418666, -0.0290302 ,  0.0076734 , -0.02778486,  0.02799569,\n",
       "          0.        ,  0.04226959, -0.08903791,  0.00987636, -0.00987636,\n",
       "         -0.42059368, -0.25471505, -0.29987857,  0.53131731,  0.        ,\n",
       "          0.1973684 , -0.38052196, -0.01122869, -0.11903571,  0.04769102,\n",
       "          0.04769102,  0.0065462 ,  0.08269739,  0.        ,  0.12721144,\n",
       "          0.        ,  0.33929994, -0.05031511,  0.05304888,  0.00641377,\n",
       "          0.0294567 ,  0.01061542, -0.00372752, -0.03915873,  0.05752804,\n",
       "          0.00757344, -0.06445125, -0.01572242,  0.12867857,  0.00431552])),\n",
       " (1.012585323729136,\n",
       "  array([  1.00466885e-02,   2.27296853e-04,   4.45438696e-03,\n",
       "           2.64265559e-02,  -3.98876881e-02,   0.00000000e+00,\n",
       "           7.02793234e-03,   3.16381312e-02,  -8.56727893e-03,\n",
       "           8.56727893e-03,   4.37995889e-01,  -9.08417150e-02,\n",
       "          -1.42518397e-01,   1.54577203e-01,   0.00000000e+00,\n",
       "           5.83902796e-02,  -4.65576569e-02,  -7.82680368e-02,\n",
       "           1.16497313e-03,   2.27412507e-01,   2.27412507e-01,\n",
       "          -2.08364890e-02,  -6.60490637e-02,   0.00000000e+00,\n",
       "           1.66139514e-01,   0.00000000e+00,  -1.94664700e-02,\n",
       "           3.33304754e-02,   6.14811592e-02,   6.39342056e-03,\n",
       "          -6.31916965e-01,  -6.94788281e-03,   4.58577352e-03,\n",
       "          -3.86734975e-02,   5.58364258e-02,   5.41250798e-02,\n",
       "          -6.16070990e-02,   4.27293831e-01,  -3.61493645e-02,\n",
       "          -6.80743659e-02])),\n",
       " (1.0066304378992317,\n",
       "  array([-0.0064778 , -0.00747406,  0.08169063,  0.01342864, -0.02303315,\n",
       "          0.        , -0.01188332,  0.01067465, -0.02002833,  0.02002833,\n",
       "          0.06548239,  0.35159264,  0.00588389,  0.47493857,  0.        ,\n",
       "         -0.23648155, -0.20774624, -0.04665022,  0.08760499, -0.02010086,\n",
       "         -0.02010086,  0.00377836, -0.05707285,  0.        , -0.39030585,\n",
       "          0.        , -0.38625436, -0.00527545, -0.00679579, -0.01749581,\n",
       "          0.22392075,  0.00560249,  0.00485281, -0.02435215, -0.04347619,\n",
       "         -0.01289373, -0.03665372,  0.32973217,  0.24384859, -0.02561886])),\n",
       " (1.0052012064817915,\n",
       "  array([  4.51373687e-03,   2.20224273e-03,   8.90556498e-02,\n",
       "           1.78715477e-02,  -1.70710262e-02,   0.00000000e+00,\n",
       "           1.80168187e-02,  -1.18279377e-03,  -3.22024808e-04,\n",
       "           3.22024808e-04,   9.26675889e-02,  -5.37441406e-01,\n",
       "           1.58044563e-02,  -3.37541300e-02,   0.00000000e+00,\n",
       "           3.91042854e-01,   6.19884396e-02,  -1.09864541e-02,\n",
       "           4.47240729e-02,   4.45764442e-02,   4.45764442e-02,\n",
       "           2.19635500e-02,  -4.28249433e-02,   0.00000000e+00,\n",
       "           1.85852916e-01,   0.00000000e+00,  -5.65014949e-01,\n",
       "           2.31926874e-03,  -2.41240285e-02,  -1.70581349e-02,\n",
       "           2.57927002e-01,  -1.71532320e-03,   4.23735087e-04,\n",
       "           7.07259498e-03,  -6.20346663e-02,   1.08544144e-02,\n",
       "          -4.59495806e-03,   2.12742475e-02,   3.18296910e-01,\n",
       "          -1.11758939e-02])),\n",
       " (1.0029751277319321,\n",
       "  array([-0.00077453, -0.01125276,  0.01769198,  0.00191503,  0.00258324,\n",
       "          0.        ,  0.01073054, -0.00446479, -0.0059897 ,  0.0059897 ,\n",
       "         -0.12831995,  0.16819676, -0.61831838, -0.02478079,  0.        ,\n",
       "         -0.11289916,  0.03982067,  0.01618257, -0.00861262,  0.18290901,\n",
       "          0.18290901,  0.01126373,  0.01905867,  0.        ,  0.15533594,\n",
       "          0.        , -0.4143723 , -0.00203492, -0.02272461,  0.00171576,\n",
       "          0.12324649,  0.00586125,  0.00769094,  0.00495385,  0.0735291 ,\n",
       "          0.09302604, -0.08453278, -0.16387474, -0.47928165,  0.01218066])),\n",
       " (1.0028149176789978,\n",
       "  array([  3.14079408e-15,   6.70874616e-14,  -1.66500708e-13,\n",
       "          -3.12353078e-14,   3.05406563e-14,   0.00000000e+00,\n",
       "          -7.15769634e-14,   5.61730624e-14,   4.23187237e-14,\n",
       "          -4.23355288e-14,   5.62467617e-13,  -6.44424656e-13,\n",
       "           3.55150926e-12,  -7.81935014e-14,   0.00000000e+00,\n",
       "           4.11002002e-13,  -2.45932512e-13,  -6.27859481e-14,\n",
       "           2.88803208e-14,   7.07106781e-01,  -7.07106781e-01,\n",
       "          -7.53680354e-14,  -8.64431308e-14,   0.00000000e+00,\n",
       "          -8.40455419e-13,   0.00000000e+00,   2.59307728e-12,\n",
       "          -1.00097969e-14,   1.74697340e-13,  -9.60765237e-15,\n",
       "          -7.86665137e-13,  -3.38011026e-14,  -5.88051010e-14,\n",
       "          -6.04362508e-15,  -4.82720634e-13,  -6.40533000e-13,\n",
       "           4.54040631e-13,   9.32880038e-13,   3.38568718e-12,\n",
       "          -4.92117750e-14])),\n",
       " (1.0017921088232342,\n",
       "  array([ 0.00445203,  0.00438642,  0.05295605,  0.01952703, -0.05042911,\n",
       "          0.        ,  0.00863615, -0.04485451, -0.00541763,  0.00541763,\n",
       "          0.19954565, -0.28399443,  0.23491513,  0.33524459,  0.        ,\n",
       "          0.21408324, -0.03070006, -0.03816382,  0.0241115 , -0.18059108,\n",
       "         -0.18059108,  0.00807937, -0.01705947,  0.        , -0.25272035,\n",
       "          0.        , -0.02156507,  0.0127623 , -0.04912614,  0.00945878,\n",
       "          0.09130519,  0.00081727,  0.01005028, -0.02766908,  0.07712412,\n",
       "          0.05913311,  0.10784326,  0.00993323, -0.70132797, -0.02025416])),\n",
       " (0.98395678458727331,\n",
       "  array([ -4.04780422e-02,  -4.23713655e-02,   5.73828534e-03,\n",
       "          -2.09534395e-02,   2.94692434e-02,   0.00000000e+00,\n",
       "           5.37821126e-06,   6.88460240e-02,  -6.34596953e-02,\n",
       "           6.34596953e-02,  -1.67291557e-01,  -1.14235022e-02,\n",
       "           8.05895400e-02,  -1.77614093e-01,   0.00000000e+00,\n",
       "          -5.47268475e-02,   2.91413568e-02,   3.50841677e-02,\n",
       "           3.76861982e-02,  -1.52068858e-01,  -1.52068858e-01,\n",
       "           2.82330785e-02,  -1.03658300e-01,   0.00000000e+00,\n",
       "           3.13915815e-01,   0.00000000e+00,   1.12298815e-01,\n",
       "          -3.19999333e-02,   9.14458716e-02,  -6.53857168e-02,\n",
       "           2.95858356e-01,   2.74704232e-02,   2.08723419e-02,\n",
       "          -2.60501265e-02,   9.36984221e-02,   1.66509215e-01,\n",
       "          -4.46841032e-01,   6.09502099e-01,  -1.63119191e-01,\n",
       "          -5.91334838e-02])),\n",
       " (0.95068025399924461,\n",
       "  array([-0.01951375, -0.02509535,  0.07282329, -0.0193661 , -0.00096691,\n",
       "          0.        , -0.04157247, -0.00382587,  0.01547851, -0.01547851,\n",
       "          0.24939338,  0.02864894, -0.08402013, -0.17661866,  0.        ,\n",
       "         -0.0688648 , -0.6001814 , -0.13317621,  0.10896193, -0.07698446,\n",
       "         -0.07698446,  0.07428705, -0.08815858,  0.        ,  0.26805683,\n",
       "          0.        ,  0.07257081,  0.06679544, -0.11920309,  0.0007605 ,\n",
       "          0.14586223, -0.00892708, -0.04213119,  0.37321634, -0.37078692,\n",
       "         -0.16137257,  0.19311676,  0.02534391, -0.09931529, -0.02380965])),\n",
       " (0.90731096785618104,\n",
       "  array([-0.03119634, -0.01903408,  0.24560792,  0.0650979 , -0.10731306,\n",
       "          0.        , -0.11156341,  0.0224504 , -0.01319397,  0.01319397,\n",
       "          0.20063255,  0.00181301, -0.43550437,  0.10791111,  0.        ,\n",
       "         -0.00778017,  0.2498926 ,  0.05673473,  0.02437865, -0.39446156,\n",
       "         -0.39446156, -0.04896911,  0.02618292,  0.        ,  0.06163428,\n",
       "          0.        ,  0.12329023,  0.34008147, -0.16903475, -0.18137639,\n",
       "         -0.05302195, -0.09164344,  0.01321866, -0.10512778, -0.08174055,\n",
       "          0.17361805,  0.02457211, -0.04136693,  0.16840476,  0.03253853])),\n",
       " (0.74801189263623913,\n",
       "  array([ 0.27141322,  0.27776835,  0.37161595,  0.18891097,  0.0299083 ,\n",
       "          0.        ,  0.29032305,  0.2782829 , -0.03345333,  0.03345333,\n",
       "         -0.25812367,  0.03585911, -0.05745749, -0.13211423,  0.        ,\n",
       "          0.16409094,  0.00042743, -0.07567788,  0.18185506,  0.09218532,\n",
       "          0.09218532,  0.13403203, -0.30285475,  0.        , -0.16198494,\n",
       "          0.        ,  0.09655816,  0.07228856,  0.11789412, -0.13534421,\n",
       "         -0.02189384, -0.26027737, -0.00792696, -0.05932656, -0.04724173,\n",
       "          0.04060675,  0.24956218,  0.12348182, -0.04452447,  0.03539948])),\n",
       " (0.72069528899088076,\n",
       "  array([-0.03548358, -0.02955721,  0.37783265,  0.04171199, -0.13186823,\n",
       "          0.        , -0.08828922, -0.30138926,  0.00558128, -0.00558128,\n",
       "          0.21489909,  0.17909704, -0.01774888, -0.09904562,  0.        ,\n",
       "          0.27971386, -0.04209898,  0.30582386, -0.17302193,  0.11418441,\n",
       "          0.11418441, -0.12194766,  0.13988927,  0.        , -0.1467564 ,\n",
       "          0.        ,  0.11548814, -0.08924799,  0.22538378, -0.08330056,\n",
       "          0.1455083 , -0.26936385, -0.21687749,  0.29517988,  0.15589693,\n",
       "          0.02287881, -0.1761763 , -0.00900908,  0.0200231 , -0.0095424 ])),\n",
       " (0.66843320511304749,\n",
       "  array([-0.08893481, -0.09721143, -0.41807899,  0.00819424,  0.07608313,\n",
       "          0.        ,  0.25104537, -0.13524281, -0.01464139,  0.01464139,\n",
       "          0.07420821,  0.34527888,  0.02796346,  0.0718411 ,  0.        ,\n",
       "          0.38251479,  0.08634454, -0.24679371, -0.03162227,  0.01936102,\n",
       "          0.01936102,  0.02788161, -0.03312361,  0.        ,  0.14006005,\n",
       "          0.        ,  0.04008243,  0.0853214 , -0.27548917,  0.08543776,\n",
       "          0.13606724, -0.44586472, -0.02602095, -0.01402906,  0.04929403,\n",
       "          0.15718609,  0.09402485,  0.05445041,  0.03606891,  0.03399056])),\n",
       " (0.60917455358525674,\n",
       "  array([-0.14356989, -0.13775189,  0.13976954, -0.10060547,  0.00732925,\n",
       "          0.        , -0.17679841,  0.12253199, -0.01781094,  0.01781094,\n",
       "         -0.16607195,  0.19371046,  0.05430186, -0.07122309,  0.        ,\n",
       "          0.23990382, -0.14712988, -0.17394902, -0.08157918, -0.21424283,\n",
       "         -0.21424283,  0.1001204 ,  0.11527542,  0.        ,  0.03392244,\n",
       "          0.        , -0.23718187, -0.18049793,  0.2934411 ,  0.00460009,\n",
       "         -0.29561655, -0.23531649,  0.4839262 , -0.0080161 , -0.01258245,\n",
       "         -0.06164185, -0.05641269, -0.08876418, -0.0245617 , -0.10341293])),\n",
       " (0.53223388578493325,\n",
       "  array([  2.09498281e-01,   2.22698707e-01,  -3.19404386e-01,\n",
       "          -7.80639488e-02,  -9.53008481e-02,   0.00000000e+00,\n",
       "          -3.14479767e-01,   4.75236037e-02,   5.05786256e-04,\n",
       "          -5.05786256e-04,  -1.41523868e-01,  -2.49645399e-02,\n",
       "          -4.76616592e-02,  -3.57319403e-02,   0.00000000e+00,\n",
       "           1.26790179e-01,  -1.45631835e-01,   5.62501844e-01,\n",
       "           1.60006432e-01,  -3.90489935e-02,  -3.90489935e-02,\n",
       "          -1.82079287e-01,  -1.80575892e-01,   0.00000000e+00,\n",
       "          -9.46329095e-02,   0.00000000e+00,  -7.61018421e-02,\n",
       "           6.12173932e-02,  -2.42436817e-01,   1.16732242e-01,\n",
       "          -1.30394024e-01,  -2.41112412e-01,   1.47583656e-01,\n",
       "           5.06229088e-02,  -2.33322813e-02,  -1.05416357e-01,\n",
       "          -6.80735549e-02,   8.47401995e-02,  -2.72413031e-02,\n",
       "           3.55861957e-02])),\n",
       " (0.48876350521431078,\n",
       "  array([-0.03956539, -0.05293287, -0.08865996,  0.08024746, -0.06119439,\n",
       "          0.        , -0.49209736,  0.70106215, -0.0282316 ,  0.0282316 ,\n",
       "          0.08866477,  0.06077122,  0.02997319,  0.14395139,  0.        ,\n",
       "          0.10176976,  0.0604228 , -0.12760895, -0.05663506,  0.10054007,\n",
       "          0.10054007,  0.02454041, -0.01714698,  0.        ,  0.05895099,\n",
       "          0.        ,  0.10484793, -0.02415685,  0.03199006, -0.0188614 ,\n",
       "          0.16493703, -0.03091865, -0.22415353,  0.13667193,  0.14486462,\n",
       "          0.0745709 ,  0.0224346 , -0.10608243,  0.02167806, -0.04764236])),\n",
       " (0.34022162408358797,\n",
       "  array([  5.28778385e-02,   4.84005238e-02,  -5.83741788e-02,\n",
       "           4.91099495e-01,  -4.90424893e-01,   0.00000000e+00,\n",
       "           2.56265772e-01,   4.57441565e-02,   1.76553058e-02,\n",
       "          -1.76553058e-02,  -4.31650800e-02,   3.74907705e-02,\n",
       "           8.30885388e-02,   3.61702435e-02,   0.00000000e+00,\n",
       "          -3.48027938e-02,  -4.45794889e-02,   3.60602667e-04,\n",
       "           4.59433495e-03,  -8.73306273e-03,  -8.73306273e-03,\n",
       "          -3.63182521e-02,   2.54131730e-02,   0.00000000e+00,\n",
       "           6.31507479e-02,   0.00000000e+00,  -8.94860345e-03,\n",
       "           6.25339995e-02,  -1.38477252e-01,   3.62394777e-02,\n",
       "          -1.94179020e-02,   1.49952373e-01,   2.60312249e-01,\n",
       "           2.69509646e-01,   1.66333833e-01,   8.57069388e-02,\n",
       "          -1.29801999e-01,  -1.31366141e-01,   5.25842362e-02,\n",
       "          -4.01173982e-01])),\n",
       " (0.12252263520854323,\n",
       "  array([ -1.58792996e-04,  -2.51509540e-02,  -9.62585575e-03,\n",
       "          -6.69224141e-01,  -6.62195456e-01,   0.00000000e+00,\n",
       "           2.54547162e-01,   1.74490185e-01,   2.46255419e-03,\n",
       "          -2.46255419e-03,   4.68828858e-03,  -5.92940776e-03,\n",
       "          -2.04574384e-02,  -2.68372258e-02,   0.00000000e+00,\n",
       "           2.57929923e-03,   1.48593413e-03,  -3.19075808e-02,\n",
       "          -1.18213443e-02,   2.11888714e-02,   2.11888714e-02,\n",
       "           2.22087341e-02,   9.31972944e-03,   0.00000000e+00,\n",
       "          -2.93122131e-02,   0.00000000e+00,   2.63651622e-02,\n",
       "           1.12958981e-02,   2.56559262e-02,  -3.02929403e-02,\n",
       "           3.50169913e-02,  -1.57106823e-02,  -5.34401404e-02,\n",
       "          -4.05068318e-02,  -1.23726246e-02,  -1.33230417e-02,\n",
       "           9.37001245e-03,   5.72246873e-03,   5.56828272e-03,\n",
       "           6.40901395e-02])),\n",
       " (0.0078222249936149551,\n",
       "  array([ -7.10098040e-01,   7.03491911e-01,  -7.30299391e-03,\n",
       "          -1.04674512e-02,  -1.09819589e-02,   0.00000000e+00,\n",
       "           5.56337078e-03,   7.19222277e-03,  -3.98469792e-04,\n",
       "           3.98469792e-04,   3.87597365e-03,   7.23239909e-04,\n",
       "          -4.53139874e-03,   3.74950979e-03,   0.00000000e+00,\n",
       "           1.24052929e-03,  -9.27296839e-04,  -1.09355265e-02,\n",
       "          -2.47767040e-03,   7.47127460e-03,   7.47127460e-03,\n",
       "           3.40426187e-03,   6.30090625e-04,   0.00000000e+00,\n",
       "           5.97928105e-03,   0.00000000e+00,  -5.52794817e-04,\n",
       "          -1.07270660e-03,   5.80164123e-04,  -9.31861329e-06,\n",
       "           4.84321662e-03,   5.66473891e-03,  -3.61354309e-03,\n",
       "           3.04959363e-03,   5.00765921e-03,  -4.08228407e-03,\n",
       "           1.57833798e-03,   3.27813461e-03,  -3.50817231e-03,\n",
       "          -2.96309928e-03])),\n",
       " (3.498966577511283e-15,\n",
       "  array([  2.38930698e-14,  -2.33557047e-14,   1.43221002e-16,\n",
       "           2.93670970e-16,  -6.10032603e-16,   0.00000000e+00,\n",
       "           1.16899267e-16,  -1.83195717e-16,  -3.75185948e-01,\n",
       "           3.76339239e-01,  -2.00355264e-04,  -2.83145804e-04,\n",
       "          -2.00355264e-04,  -4.46745994e-04,   0.00000000e+00,\n",
       "           5.88181453e-02,  -2.83145804e-04,  -1.10839716e-03,\n",
       "           6.30858471e-01,   5.88181453e-02,   5.88181453e-02,\n",
       "          -2.63796015e-03,   5.47971306e-01,   0.00000000e+00,\n",
       "          -4.46745994e-04,   0.00000000e+00,   5.88181453e-02,\n",
       "           3.94922713e-02,   2.89817429e-02,   4.54707618e-02,\n",
       "           5.36279483e-03,   6.72251579e-03,   1.08555023e-02,\n",
       "           1.29481400e-02,   9.41825184e-03,   9.06194469e-03,\n",
       "           6.46340262e-03,   3.25241018e-03,   1.88042652e-03,\n",
       "           2.11864017e-02])),\n",
       " (1.5553639652855189e-15,\n",
       "  array([  5.46720428e-15,  -5.29821578e-15,  -7.67659245e-17,\n",
       "          -3.71958079e-15,  -1.14486148e-15,   0.00000000e+00,\n",
       "           4.88505369e-16,   4.52262448e-16,  -2.30062117e-02,\n",
       "           2.69382560e-02,  -9.46839515e-03,  -1.33809130e-02,\n",
       "          -9.46839515e-03,  -2.11123357e-02,   0.00000000e+00,\n",
       "          -5.54617453e-03,  -1.33809130e-02,  -5.23806664e-02,\n",
       "          -5.94859149e-02,  -5.54617453e-03,  -5.54617453e-03,\n",
       "          -1.24664801e-01,  -5.16701858e-02,   0.00000000e+00,\n",
       "          -2.11123357e-02,   0.00000000e+00,  -5.54617453e-03,\n",
       "           1.87486995e-01,   1.37588944e-01,   2.15869491e-01,\n",
       "           2.54595204e-02,   1.97823136e-01,   3.19444323e-01,\n",
       "           3.81024267e-01,   2.77150426e-01,   2.66665393e-01,\n",
       "           1.90198226e-01,   9.57085118e-02,   5.53352172e-02,\n",
       "           6.23451184e-01])),\n",
       " (5.0707468116503359e-16,\n",
       "  array([ -2.08116457e-14,   2.05784652e-14,  -8.53563222e-17,\n",
       "          -2.78461305e-15,  -2.65517106e-15,   0.00000000e+00,\n",
       "           1.11340060e-15,   1.71228142e-15,  -2.63586519e-01,\n",
       "           2.36250399e-01,  -5.85168462e-02,  -8.26971006e-02,\n",
       "          -5.85168462e-02,  -1.30479060e-01,   0.00000000e+00,\n",
       "          -1.92638365e-02,  -8.26971006e-02,  -3.23724491e-01,\n",
       "          -2.06615738e-01,  -1.92638365e-02,  -1.92638365e-02,\n",
       "          -7.70456962e-01,  -1.79468931e-01,   0.00000000e+00,\n",
       "          -1.30479060e-01,   0.00000000e+00,  -1.92638365e-02,\n",
       "          -8.57666751e-02,  -6.29406120e-02,  -9.87503611e-02,\n",
       "          -1.16465593e-02,  -3.29281379e-02,  -5.31722777e-02,\n",
       "          -6.34224077e-02,  -4.61323565e-02,  -4.43870975e-02,\n",
       "          -3.16589532e-02,  -1.59309125e-02,  -9.21068029e-03,\n",
       "          -1.03774952e-01])),\n",
       " (3.1272706387265692e-16,\n",
       "  array([ -7.10276747e-15,   7.23432356e-15,   6.84523147e-16,\n",
       "           4.49610701e-15,   1.89812392e-15,   0.00000000e+00,\n",
       "          -4.24654887e-16,  -3.17871304e-16,  -5.21717433e-02,\n",
       "           4.81383260e-02,  -1.38718079e-02,  -1.96038981e-02,\n",
       "          -1.38718079e-02,  -3.09309297e-02,   0.00000000e+00,\n",
       "          -5.99429427e-03,  -1.96038981e-02,  -7.67410452e-02,\n",
       "          -6.42922571e-02,  -5.99429427e-03,  -5.99429427e-03,\n",
       "          -1.82641951e-01,  -5.58450329e-02,   0.00000000e+00,\n",
       "          -3.09309297e-02,   0.00000000e+00,  -5.99429427e-03,\n",
       "           5.45220585e-01,   4.00114815e-01,   6.27758154e-01,\n",
       "           7.40374264e-02,  -6.29845051e-02,  -1.01707227e-01,\n",
       "          -1.21313540e-01,  -8.82413592e-02,  -8.49030511e-02,\n",
       "          -6.05568255e-02,  -3.04724380e-02,  -1.76180670e-02,\n",
       "          -1.98499352e-01])),\n",
       " (3.9999879788480961e-18,\n",
       "  array([ -7.97037094e-15,   7.79765778e-15,  -4.19727855e-16,\n",
       "          -3.51002120e-15,  -2.16024228e-15,   0.00000000e+00,\n",
       "           7.06595057e-16,   9.55214999e-16,  -7.33500467e-01,\n",
       "          -5.31401463e-01,  -1.71523828e-02,  -2.42400679e-02,\n",
       "          -1.71523828e-02,  -3.82458545e-02,   0.00000000e+00,\n",
       "          -1.28121792e-03,  -2.42400679e-02,  -9.48897069e-02,\n",
       "          -1.37417998e-02,  -1.28121792e-03,  -1.28121792e-03,\n",
       "          -2.25835355e-01,  -1.19362937e-02,   0.00000000e+00,\n",
       "          -3.82458545e-02,   0.00000000e+00,  -1.28121792e-03,\n",
       "          -1.95804488e-01,  -1.43692807e-01,  -2.25446117e-01,\n",
       "          -2.65889821e-02,   1.34649659e-02,   2.17431945e-02,\n",
       "           2.59346752e-02,   1.88644317e-02,   1.81507609e-02,\n",
       "           1.29459712e-02,   6.51446477e-03,   3.76642909e-03,\n",
       "           4.24356277e-02])),\n",
       " (0.0, array([ 0.,  0.,  0.,  0.,  0.,  1.,  0.,  0.,  0.,  0.,  0.,  0.,  0.,\n",
       "          0.,  0.,  0.,  0.,  0.,  0.,  0.,  0.,  0.,  0.,  0.,  0.,  0.,\n",
       "          0.,  0.,  0.,  0.,  0.,  0.,  0.,  0.,  0.,  0.,  0.,  0.,  0.,  0.])),\n",
       " (0.0, array([ 0.,  0.,  0.,  0.,  0.,  0.,  0.,  0.,  0.,  0.,  0.,  0.,  0.,\n",
       "          0.,  1.,  0.,  0.,  0.,  0.,  0.,  0.,  0.,  0.,  0.,  0.,  0.,\n",
       "          0.,  0.,  0.,  0.,  0.,  0.,  0.,  0.,  0.,  0.,  0.,  0.,  0.,  0.])),\n",
       " (0.0, array([ 0.,  0.,  0.,  0.,  0.,  0.,  0.,  0.,  0.,  0.,  0.,  0.,  0.,\n",
       "          0.,  0.,  0.,  0.,  0.,  0.,  0.,  0.,  0.,  0.,  1.,  0.,  0.,\n",
       "          0.,  0.,  0.,  0.,  0.,  0.,  0.,  0.,  0.,  0.,  0.,  0.,  0.,  0.])),\n",
       " (0.0, array([ 0.,  0.,  0.,  0.,  0.,  0.,  0.,  0.,  0.,  0.,  0.,  0.,  0.,\n",
       "          0.,  0.,  0.,  0.,  0.,  0.,  0.,  0.,  0.,  0.,  0.,  0.,  1.,\n",
       "          0.,  0.,  0.,  0.,  0.,  0.,  0.,  0.,  0.,  0.,  0.,  0.,  0.,  0.]))]"
      ]
     },
     "execution_count": 11,
     "metadata": {},
     "output_type": "execute_result"
    }
   ],
   "source": [
    "eigen_pairs"
   ]
  },
  {
   "cell_type": "code",
   "execution_count": 12,
   "metadata": {
    "collapsed": false
   },
   "outputs": [
    {
     "name": "stdout",
     "output_type": "stream",
     "text": [
      "('Matrix W:\\n', array([[ 0.02933826,  0.40059748],\n",
      "       [ 0.02858363,  0.3973978 ],\n",
      "       [ 0.07068511,  0.05430106],\n",
      "       [-0.26899236, -0.3429792 ],\n",
      "       [ 0.32720879,  0.18131862],\n",
      "       [ 0.        ,  0.        ],\n",
      "       [ 0.14716766, -0.16724284],\n",
      "       [ 0.18550107, -0.17230173],\n",
      "       [ 0.39248585, -0.20240705],\n",
      "       [-0.39248585,  0.20240705],\n",
      "       [ 0.0224851 ,  0.06295993],\n",
      "       [ 0.00968865,  0.07629982],\n",
      "       [ 0.00413458,  0.02704839],\n",
      "       [ 0.01105302,  0.05170644],\n",
      "       [ 0.        ,  0.        ],\n",
      "       [ 0.03658184,  0.04700295],\n",
      "       [ 0.01751977,  0.0688546 ],\n",
      "       [ 0.00104547, -0.16977402],\n",
      "       [ 0.23059266, -0.25205078],\n",
      "       [ 0.03991491,  0.02033853],\n",
      "       [ 0.03991491,  0.02033853],\n",
      "       [-0.38360894,  0.23054912],\n",
      "       [ 0.25485708,  0.00153063],\n",
      "       [ 0.        ,  0.        ],\n",
      "       [-0.01908379,  0.03169402],\n",
      "       [ 0.        ,  0.        ],\n",
      "       [ 0.03381341,  0.02405472],\n",
      "       [ 0.13889215,  0.12765392],\n",
      "       [-0.02731735, -0.11822397],\n",
      "       [-0.110645  , -0.04145249],\n",
      "       [ 0.06296165,  0.05032261],\n",
      "       [ 0.01857297,  0.15174708],\n",
      "       [ 0.1589269 ,  0.14519494],\n",
      "       [ 0.14808816,  0.16978384],\n",
      "       [ 0.10452739,  0.11024428],\n",
      "       [ 0.08106099,  0.08523832],\n",
      "       [ 0.02220841, -0.03993905],\n",
      "       [ 0.04103724, -0.04937272],\n",
      "       [-0.00157447,  0.04448584],\n",
      "       [-0.27190276, -0.29596032]]))\n"
     ]
    }
   ],
   "source": [
    "# collect the first two biggist eigenvectors\n",
    "w = np.hstack((eigen_pairs[0][1][:, np.newaxis],\n",
    "               eigen_pairs[1][1][:, np.newaxis]))\n",
    "print('Matrix W:\\n', w)"
   ]
  },
  {
   "cell_type": "code",
   "execution_count": 13,
   "metadata": {
    "collapsed": false
   },
   "outputs": [
    {
     "data": {
      "image/png": "[encoded data removed]",
      "text/plain": [
       "<matplotlib.figure.Figure at 0x115a023d0>"
      ]
     },
     "metadata": {},
     "output_type": "display_data"
    }
   ],
   "source": [
    "X_train_pca = X_train_std.dot(w)\n",
    "colors = ['r', 'b', 'g']\n",
    "markers = ['s', 'x', 'o']\n",
    "\n",
    "for l, c, m in zip(np.unique(y_train), colors, markers):\n",
    "    plt.scatter(X_train_pca[y_train==l, 0], \n",
    "                X_train_pca[y_train==l, 1], \n",
    "                c=c, label=l, marker=m)\n",
    "\n",
    "plt.xlabel('PC 1')\n",
    "plt.ylabel('PC 2')\n",
    "plt.legend(loc='lower left')\n",
    "plt.tight_layout()\n",
    "# plt.savefig('./figures/pca2.png', dpi=300)\n",
    "plt.show()"
   ]
  },
  {
   "cell_type": "markdown",
   "metadata": {},
   "source": [
    "## Principal component analysis in scikit-learn"
   ]
  },
  {
   "cell_type": "code",
   "execution_count": 14,
   "metadata": {
    "collapsed": false
   },
   "outputs": [
    {
     "data": {
      "text/plain": [
       "array([  1.22558415e-01,   9.58934600e-02,   6.58632869e-02,\n",
       "         5.48435410e-02,   3.93540772e-02,   3.78645899e-02,\n",
       "         3.66543770e-02,   3.51286050e-02,   3.14057795e-02,\n",
       "         3.02001725e-02,   2.97478883e-02,   2.86115159e-02,\n",
       "         2.81684461e-02,   2.80878654e-02,   2.79226842e-02,\n",
       "         2.78830391e-02,   2.78212904e-02,   2.78168464e-02,\n",
       "         2.77884749e-02,   2.72937451e-02,   2.63706952e-02,\n",
       "         2.51676849e-02,   2.07489254e-02,   1.99911966e-02,\n",
       "         1.85415110e-02,   1.68977492e-02,   1.47635102e-02,\n",
       "         1.35576955e-02,   9.43732735e-03,   3.39862647e-03,\n",
       "         2.16978853e-04,   2.41703855e-32,   6.20595501e-33,\n",
       "         5.63911349e-33,   2.81129436e-33,   1.83338313e-33,\n",
       "         1.45046493e-33,   5.61834271e-34,   2.10550499e-34,\n",
       "         7.00214604e-35])"
      ]
     },
     "execution_count": 14,
     "metadata": {},
     "output_type": "execute_result"
    }
   ],
   "source": [
    "from sklearn.decomposition import PCA\n",
    "\n",
    "pca = PCA()\n",
    "X_train_pca = pca.fit_transform(X_train_std)\n",
    "pca.explained_variance_ratio_"
   ]
  },
  {
   "cell_type": "code",
   "execution_count": 15,
   "metadata": {
    "collapsed": false
   },
   "outputs": [
    {
     "data": {
      "image/png": "[encoded data removed]",
      "text/plain": [
       "<matplotlib.figure.Figure at 0x116afd0d0>"
      ]
     },
     "metadata": {},
     "output_type": "display_data"
    }
   ],
   "source": [
    "\n",
    "plt.bar(range(1, 41), pca.explained_variance_ratio_, alpha=0.5, align='center',label='individual explained variance')\n",
    "plt.step(range(1, 41), np.cumsum(pca.explained_variance_ratio_), where='mid',label='cumulative explained variance')\n",
    "plt.ylabel('Explained variance ratio')\n",
    "plt.xlabel('Principal components')\n",
    "plt.legend(loc='best')\n",
    "plt.show()"
   ]
  },
  {
   "cell_type": "markdown",
   "metadata": {},
   "source": [
    "## PCA with sklearn"
   ]
  },
  {
   "cell_type": "code",
   "execution_count": 16,
   "metadata": {
    "collapsed": true
   },
   "outputs": [],
   "source": [
    "pca = PCA(n_components=2)\n",
    "X_train_pca = pca.fit_transform(X_train_std)\n",
    "X_test_pca = pca.transform(X_test_std)"
   ]
  },
  {
   "cell_type": "code",
   "execution_count": 17,
   "metadata": {
    "collapsed": false
   },
   "outputs": [
    {
     "data": {
      "image/png": "[encoded data removed]",
      "text/plain": [
       "<matplotlib.figure.Figure at 0x116af5710>"
      ]
     },
     "metadata": {},
     "output_type": "display_data"
    }
   ],
   "source": [
    "plt.scatter(X_train_pca[:,0], X_train_pca[:,1])\n",
    "plt.xlabel('PC 1')\n",
    "plt.ylabel('PC 2')\n",
    "plt.show()"
   ]
  },
  {
   "cell_type": "code",
   "execution_count": 18,
   "metadata": {
    "collapsed": true
   },
   "outputs": [],
   "source": [
    "from matplotlib.colors import ListedColormap\n",
    "\n",
    "def plot_decision_regions(X, y, classifier, resolution=0.02):\n",
    "\n",
    "    # setup marker generator and color map\n",
    "    markers = ('s', 'x', 'o', '^', 'v')\n",
    "    colors = ('red', 'blue', 'lightgreen', 'gray', 'cyan')\n",
    "    cmap = ListedColormap(colors[:len(np.unique(y))])\n",
    "\n",
    "    # plot the decision surface\n",
    "    x1_min, x1_max = X[:, 0].min() - 1, X[:, 0].max() + 1\n",
    "    x2_min, x2_max = X[:, 1].min() - 1, X[:, 1].max() + 1\n",
    "    xx1, xx2 = np.meshgrid(np.arange(x1_min, x1_max, resolution),\n",
    "                         np.arange(x2_min, x2_max, resolution))\n",
    "    Z = classifier.predict(np.array([xx1.ravel(), xx2.ravel()]).T)\n",
    "    Z = Z.reshape(xx1.shape)\n",
    "    plt.contourf(xx1, xx2, Z, alpha=0.4, cmap=cmap)\n",
    "    plt.xlim(xx1.min(), xx1.max())\n",
    "    plt.ylim(xx2.min(), xx2.max())\n",
    "\n",
    "    # plot class samples\n",
    "    for idx, cl in enumerate(np.unique(y)):\n",
    "        plt.scatter(x=X[y == cl, 0], y=X[y == cl, 1],\n",
    "                    alpha=0.8, c=cmap(idx),\n",
    "                    marker=markers[idx], label=cl)"
   ]
  },
  {
   "cell_type": "code",
   "execution_count": 19,
   "metadata": {
    "collapsed": true
   },
   "outputs": [],
   "source": [
    "from sklearn.linear_model import LogisticRegression\n",
    "\n",
    "lr = LogisticRegression()\n",
    "lr = lr.fit(X_train_pca, y_train)"
   ]
  },
  {
   "cell_type": "code",
   "execution_count": 20,
   "metadata": {
    "collapsed": false
   },
   "outputs": [
    {
     "data": {
      "image/png": "[encoded data removed]",
      "text/plain": [
       "<matplotlib.figure.Figure at 0x11851f790>"
      ]
     },
     "metadata": {},
     "output_type": "display_data"
    }
   ],
   "source": [
    "# Train data:\n",
    "\n",
    "plot_decision_regions(X_train_pca, y_train, classifier=lr)\n",
    "plt.xlabel('PC 1')\n",
    "plt.ylabel('PC 2')\n",
    "plt.legend(loc='lower left')\n",
    "plt.tight_layout()\n",
    "# plt.savefig('./figures/pca3.png', dpi=300)\n",
    "plt.show()"
   ]
  },
  {
   "cell_type": "code",
   "execution_count": 21,
   "metadata": {
    "collapsed": false
   },
   "outputs": [
    {
     "data": {
      "image/png": "[encoded data removed]",
      "text/plain": [
       "<matplotlib.figure.Figure at 0x1187c1e90>"
      ]
     },
     "metadata": {},
     "output_type": "display_data"
    }
   ],
   "source": [
    "# Test data:\n",
    "\n",
    "plot_decision_regions(X_test_pca, y_test, classifier=lr)\n",
    "plt.xlabel('PC 1')\n",
    "plt.ylabel('PC 2')\n",
    "plt.legend(loc='lower left')\n",
    "plt.tight_layout()\n",
    "# plt.savefig('./figures/pca4.png', dpi=300)\n",
    "plt.show()"
   ]
  },
  {
   "cell_type": "code",
   "execution_count": 22,
   "metadata": {
    "collapsed": false
   },
   "outputs": [
    {
     "name": "stdout",
     "output_type": "stream",
     "text": [
      "0.776536312849\n",
      "0.796348314607\n",
      "0.698630136986\n"
     ]
    }
   ],
   "source": [
    "from sklearn.metrics import accuracy_score, precision_score\n",
    "\n",
    "print accuracy_score(lr.predict(X_test_pca), y_test)\n",
    "print accuracy_score(lr.predict(X_train_pca), y_train)\n",
    "print precision_score(lr.predict(X_test_pca), y_test)"
   ]
  },
  {
   "cell_type": "markdown",
   "metadata": {},
   "source": [
    "# View the explained variance ratio for all components:"
   ]
  },
  {
   "cell_type": "code",
   "execution_count": 23,
   "metadata": {
    "collapsed": false
   },
   "outputs": [
    {
     "data": {
      "text/plain": [
       "array([  1.22558415e-01,   9.58934600e-02,   6.58632869e-02,\n",
       "         5.48435410e-02,   3.93540772e-02,   3.78645899e-02,\n",
       "         3.66543770e-02,   3.51286050e-02,   3.14057795e-02,\n",
       "         3.02001725e-02,   2.97478883e-02,   2.86115159e-02,\n",
       "         2.81684461e-02,   2.80878654e-02,   2.79226842e-02,\n",
       "         2.78830391e-02,   2.78212904e-02,   2.78168464e-02,\n",
       "         2.77884749e-02,   2.72937451e-02,   2.63706952e-02,\n",
       "         2.51676849e-02,   2.07489254e-02,   1.99911966e-02,\n",
       "         1.85415110e-02,   1.68977492e-02,   1.47635102e-02,\n",
       "         1.35576955e-02,   9.43732735e-03,   3.39862647e-03,\n",
       "         2.16978853e-04,   2.41703855e-32,   6.20595501e-33,\n",
       "         5.63911349e-33,   2.81129436e-33,   1.83338313e-33,\n",
       "         1.45046493e-33,   5.61834271e-34,   2.10550499e-34,\n",
       "         7.00214604e-35])"
      ]
     },
     "execution_count": 23,
     "metadata": {},
     "output_type": "execute_result"
    }
   ],
   "source": [
    "pca = PCA(n_components=None)\n",
    "X_train_pca = pca.fit_transform(X_train_std)\n",
    "pca.explained_variance_ratio_"
   ]
  },
  {
   "cell_type": "code",
   "execution_count": null,
   "metadata": {
    "collapsed": true
   },
   "outputs": [],
   "source": []
  },
  {
   "cell_type": "markdown",
   "metadata": {},
   "source": [
    "## Using a kernel principal component anaysis in Python"
   ]
  },
  {
   "cell_type": "code",
   "execution_count": 24,
   "metadata": {
    "collapsed": true
   },
   "outputs": [],
   "source": [
    "from sklearn.decomposition import KernelPCA\n",
    "\n",
    "scikit_kpca = KernelPCA(n_components=2, kernel='rbf', gamma=0.12)"
   ]
  },
  {
   "cell_type": "code",
   "execution_count": 25,
   "metadata": {
    "collapsed": true
   },
   "outputs": [],
   "source": [
    "X_train_kpca = scikit_kpca.fit_transform(X_train_std)\n",
    "X_test_kpca = scikit_kpca.transform(X_test_std)"
   ]
  },
  {
   "cell_type": "code",
   "execution_count": 26,
   "metadata": {
    "collapsed": false
   },
   "outputs": [
    {
     "data": {
      "image/png": "[encoded data removed]",
      "text/plain": [
       "<matplotlib.figure.Figure at 0x119bb6610>"
      ]
     },
     "metadata": {},
     "output_type": "display_data"
    }
   ],
   "source": [
    "plt.scatter(X_train_kpca[:,0], X_train_kpca[:,1])\n",
    "plt.xlabel('PC 1')\n",
    "plt.ylabel('PC 2')\n",
    "plt.show()"
   ]
  },
  {
   "cell_type": "code",
   "execution_count": 27,
   "metadata": {
    "collapsed": true
   },
   "outputs": [],
   "source": [
    "lr_k = LogisticRegression()\n",
    "lr_k = lr_k.fit(X_train_kpca, y_train)"
   ]
  },
  {
   "cell_type": "code",
   "execution_count": 28,
   "metadata": {
    "collapsed": false
   },
   "outputs": [
    {
     "data": {
      "image/png": "[encoded data removed]",
      "text/plain": [
       "<matplotlib.figure.Figure at 0x115bd4290>"
      ]
     },
     "metadata": {},
     "output_type": "display_data"
    }
   ],
   "source": [
    "# Train data:\n",
    "\n",
    "plot_decision_regions(X_train_kpca, y_train, classifier=lr_k)\n",
    "plt.xlabel('PC 1')\n",
    "plt.ylabel('PC 2')\n",
    "plt.legend(loc='lower left')\n",
    "plt.tight_layout()\n",
    "# plt.savefig('./figures/pca3.png', dpi=300)\n",
    "plt.show()"
   ]
  },
  {
   "cell_type": "code",
   "execution_count": 29,
   "metadata": {
    "collapsed": false
   },
   "outputs": [
    {
     "data": {
      "image/png": "[encoded data removed]",
      "text/plain": [
       "<matplotlib.figure.Figure at 0x11a62d7d0>"
      ]
     },
     "metadata": {},
     "output_type": "display_data"
    }
   ],
   "source": [
    "# Test data:\n",
    "\n",
    "plot_decision_regions(X_test_kpca, y_test, classifier=lr_k)\n",
    "plt.xlabel('PC 1')\n",
    "plt.ylabel('PC 2')\n",
    "plt.legend(loc='lower left')\n",
    "plt.tight_layout()\n",
    "# plt.savefig('./figures/pca4.png', dpi=300)\n",
    "plt.show()"
   ]
  },
  {
   "cell_type": "code",
   "execution_count": 30,
   "metadata": {
    "collapsed": false
   },
   "outputs": [
    {
     "name": "stdout",
     "output_type": "stream",
     "text": [
      "0.72625698324\n",
      "0.765449438202\n",
      "0.794520547945\n"
     ]
    }
   ],
   "source": [
    "print accuracy_score(lr_k.predict(X_test_kpca), y_test)\n",
    "print accuracy_score(lr_k.predict(X_train_kpca), y_train)\n",
    "print precision_score(lr_k.predict(X_test_kpca), y_test)"
   ]
  },
  {
   "cell_type": "markdown",
   "metadata": {},
   "source": [
    "## Use KernelPCA"
   ]
  },
  {
   "cell_type": "code",
   "execution_count": 48,
   "metadata": {
    "collapsed": false
   },
   "outputs": [],
   "source": [
    "from sklearn.metrics import accuracy_score, precision_score, f1_score\n",
    "from sklearn.svm import SVC\n",
    "\n",
    "scores = [[],[],[],[]]\n",
    "gammas = []\n",
    "\n",
    "for i in np.linspace(0.001, 0.3, 100):\n",
    "    gammas.append(i)\n",
    "    scikit_kpca = KernelPCA(n_components=8, kernel='rbf', gamma=i)\n",
    "    X_train_kpca = scikit_kpca.fit_transform(X_train_std)\n",
    "    X_test_kpca = scikit_kpca.transform(X_test_std)\n",
    "    lr_k = SVC(kernel='rbf', gamma=1.0, C=1.0)\n",
    "    lr_k = lr_k.fit(X_train_kpca, y_train)\n",
    "    scores[0].append(accuracy_score(lr_k.predict(X_test_kpca), y_test))\n",
    "    scores[1].append(accuracy_score(lr_k.predict(X_train_kpca), y_train))\n",
    "    scores[2].append(precision_score(lr_k.predict(X_test_kpca), y_test))\n",
    "    scores[3].append(f1_score(lr_k.predict(X_test_kpca), y_test))\n"
   ]
  },
  {
   "cell_type": "code",
   "execution_count": 49,
   "metadata": {
    "collapsed": false
   },
   "outputs": [
    {
     "data": {
      "text/plain": [
       "<matplotlib.text.Text at 0x1184e1910>"
      ]
     },
     "execution_count": 49,
     "metadata": {},
     "output_type": "execute_result"
    },
    {
     "data": {
      "image/png": "[encoded data removed]",
      "text/plain": [
       "<matplotlib.figure.Figure at 0x1197d9190>"
      ]
     },
     "metadata": {},
     "output_type": "display_data"
    }
   ],
   "source": [
    "plt.plot(gammas, scores[0], marker='.', label='acc')\n",
    "plt.plot(gammas, scores[1], label='acc_train')\n",
    "plt.plot(gammas, scores[2], c='red', label='pre')\n",
    "plt.plot(gammas, scores[3], c='cyan', label='f1')\n",
    "plt.legend()\n",
    "plt.xlabel('Kernel PCA gamma')"
   ]
  },
  {
   "cell_type": "markdown",
   "metadata": {},
   "source": [
    "### set gamma=0.1, change SVM's gamma"
   ]
  },
  {
   "cell_type": "code",
   "execution_count": 52,
   "metadata": {
    "collapsed": false
   },
   "outputs": [
    {
     "data": {
      "text/plain": [
       "<matplotlib.text.Text at 0x11ace17d0>"
      ]
     },
     "execution_count": 52,
     "metadata": {},
     "output_type": "execute_result"
    },
    {
     "data": {
      "image/png": "[encoded data removed]",
      "text/plain": [
       "<matplotlib.figure.Figure at 0x11ab3ced0>"
      ]
     },
     "metadata": {},
     "output_type": "display_data"
    }
   ],
   "source": [
    "from sklearn.svm import SVC\n",
    "\n",
    "scores = [[],[],[],[]]\n",
    "gammas = []\n",
    "\n",
    "for i in np.linspace(0.1, 5,100):\n",
    "    gammas.append(i)\n",
    "    pca = KernelPCA(n_components=8, kernel='rbf', gamma=0.05)\n",
    "    X_train_kpca = pca.fit_transform(X_train_std)\n",
    "    X_test_kpca = pca.transform(X_test_std)\n",
    "    lr_k = SVC(kernel='rbf', gamma=i, C=1.0,random_state=0)\n",
    "    lr_k = lr_k.fit(X_train_kpca, y_train)\n",
    "    scores[0].append(accuracy_score(lr_k.predict(X_test_kpca), y_test))\n",
    "    scores[1].append(accuracy_score(lr_k.predict(X_train_kpca), y_train))\n",
    "    scores[2].append(precision_score(lr_k.predict(X_test_kpca), y_test))\n",
    "    scores[3].append(f1_score(lr_k.predict(X_test_kpca), y_test))\n",
    "    \n",
    "plt.plot(gammas, scores[0], marker='.', label='acc')\n",
    "plt.plot(gammas, scores[1], label='acc_train')\n",
    "plt.plot(gammas, scores[2], c='red', label='pre')\n",
    "plt.plot(gammas, scores[3], c='cyan', label='f1')\n",
    "plt.legend()\n",
    "plt.xlabel('SVC gamma')"
   ]
  },
  {
   "cell_type": "markdown",
   "metadata": {},
   "source": [
    "## Normal PCA"
   ]
  },
  {
   "cell_type": "code",
   "execution_count": 45,
   "metadata": {
    "collapsed": false
   },
   "outputs": [
    {
     "data": {
      "text/plain": [
       "<matplotlib.text.Text at 0x119b99c50>"
      ]
     },
     "execution_count": 45,
     "metadata": {},
     "output_type": "execute_result"
    },
    {
     "data": {
      "image/png": "[encoded data removed]",
      "text/plain": [
       "<matplotlib.figure.Figure at 0x1184e1950>"
      ]
     },
     "metadata": {},
     "output_type": "display_data"
    }
   ],
   "source": [
    "from sklearn.svm import SVC\n",
    "\n",
    "scores = [[],[],[],[]]\n",
    "gammas = []\n",
    "\n",
    "for i in np.linspace(0.01, 2.5,100):\n",
    "    gammas.append(i)\n",
    "    pca = PCA(n_components=18) # change this from 2 to 30 to see under fitting and over fitting\n",
    "    X_train_kpca = pca.fit_transform(X_train_std)\n",
    "    X_test_kpca = pca.transform(X_test_std)\n",
    "    lr_k = SVC(kernel='rbf', gamma=i, random_state=0, C=1.0)\n",
    "    lr_k = lr_k.fit(X_train_kpca, y_train)\n",
    "    scores[0].append(accuracy_score(lr_k.predict(X_test_kpca), y_test))\n",
    "    scores[1].append(accuracy_score(lr_k.predict(X_train_kpca), y_train))\n",
    "    scores[2].append(precision_score(lr_k.predict(X_test_kpca), y_test))\n",
    "    scores[3].append(f1_score(lr_k.predict(X_test_kpca), y_test))\n",
    "    \n",
    "plt.plot(gammas, scores[0], marker='.', label='acc')\n",
    "plt.plot(gammas, scores[1], label='acc_train')\n",
    "plt.plot(gammas, scores[2], c='red', label='pre')\n",
    "plt.plot(gammas, scores[3], c='cyan', label='f1')\n",
    "plt.legend()\n",
    "plt.xlabel('SVC gamma')"
   ]
  },
  {
   "cell_type": "markdown",
   "metadata": {},
   "source": [
    "## Over fitting"
   ]
  },
  {
   "cell_type": "markdown",
   "metadata": {},
   "source": [
    "## Without PCA"
   ]
  },
  {
   "cell_type": "code",
   "execution_count": 47,
   "metadata": {
    "collapsed": false
   },
   "outputs": [
    {
     "data": {
      "text/plain": [
       "<matplotlib.text.Text at 0x119ea2450>"
      ]
     },
     "execution_count": 47,
     "metadata": {},
     "output_type": "execute_result"
    },
    {
     "data": {
      "image/png": "[encoded data removed]",
      "text/plain": [
       "<matplotlib.figure.Figure at 0x119e592d0>"
      ]
     },
     "metadata": {},
     "output_type": "display_data"
    }
   ],
   "source": [
    "from sklearn.svm import SVC\n",
    "\n",
    "scores = [[],[],[],[]]\n",
    "gammas = []\n",
    "\n",
    "for i in np.linspace(0.005, 2.5,100):\n",
    "    gammas.append(i)\n",
    "\n",
    "    X_train_kpca = X_train_std\n",
    "    X_test_kpca = X_test_std\n",
    "    \n",
    "    lr_k = SVC(kernel='rbf', gamma=i, random_state=0)\n",
    "    lr_k = lr_k.fit(X_train_kpca, y_train)\n",
    "    scores[0].append(accuracy_score(lr_k.predict(X_test_kpca), y_test))\n",
    "    scores[1].append(accuracy_score(lr_k.predict(X_train_kpca), y_train))\n",
    "    scores[2].append(precision_score(lr_k.predict(X_test_kpca), y_test))\n",
    "    scores[3].append(f1_score(lr_k.predict(X_test_kpca), y_test))\n",
    "    \n",
    "plt.plot(gammas, scores[0], marker='.', label='acc')\n",
    "plt.plot(gammas, scores[1], label='acc_train')\n",
    "plt.plot(gammas, scores[2], c='red', label='pre')\n",
    "plt.plot(gammas, scores[3], c='cyan', label='f1')\n",
    "plt.legend()\n",
    "plt.xlabel('SVC gamma')"
   ]
  },
  {
   "cell_type": "markdown",
   "metadata": {},
   "source": [
    "## Assessing Feature Importances with Random Forests"
   ]
  },
  {
   "cell_type": "code",
   "execution_count": null,
   "metadata": {
    "collapsed": true
   },
   "outputs": [],
   "source": []
  }
 ],
 "metadata": {
  "kernelspec": {
   "display_name": "Python 2",
   "language": "python",
   "name": "python2"
  },
  "language_info": {
   "codemirror_mode": {
    "name": "ipython",
    "version": 2
   },
   "file_extension": ".py",
   "mimetype": "text/x-python",
   "name": "python",
   "nbconvert_exporter": "python",
   "pygments_lexer": "ipython2",
   "version": "2.7.11"
  }
 },
 "nbformat": 4,
 "nbformat_minor": 0
}

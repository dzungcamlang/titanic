{
 "cells": [
  {
   "cell_type": "markdown",
   "metadata": {},
   "source": [
    "# Step 2 - Feature Engineering"
   ]
  },
  {
   "cell_type": "code",
   "execution_count": 1,
   "metadata": {
    "collapsed": false
   },
   "outputs": [
    {
     "name": "stderr",
     "output_type": "stream",
     "text": [
      "Vendor:  Continuum Analytics, Inc.\n",
      "Package: mkl\n",
      "Message: trial mode expires in 28 days\n"
     ]
    }
   ],
   "source": [
    "import numpy as np\n",
    "import pandas as pd\n",
    "\n",
    "from sklearn.preprocessing import Imputer\n",
    "\n",
    "def feature_engineering(_df, get_dummies=False):\n",
    "    \n",
    "    imputer_age = Imputer(missing_values='NaN', strategy='mean', axis=0)\n",
    "    \n",
    "    imputer_age.fit(_df[['Age']])\n",
    "    \n",
    "    _df['Title_'] = _df['Name'].apply(lambda x: x.replace('.',',').split(',')[1].strip())\n",
    "    \n",
    "    _df['Fare_'] = _df['Fare'].fillna(10)\n",
    "    _df['Fare_'] = _df['Fare'].apply(lambda x: 40 if x > 40 else x)\n",
    "    _df['HasFare'] = _df['Fare_'].apply(lambda x: 0 if np.isnan(x) else 1)\n",
    "\n",
    "    _df['SibSp_'] = _df['SibSp'].apply(lambda x: 3 if x > 3 else x)\n",
    "    _df['Parch_'] = _df['Parch'].apply(lambda x: 3 if x > 3 else x)\n",
    "    \n",
    "    \n",
    "    # Age\n",
    "    _df['HasAge'] = _df['Age'].apply(lambda x: 0 if np.isnan(x) else 1)\n",
    "    #_df['Age_'] = _df['Age'].fillna(29)\n",
    "    \n",
    "    \n",
    "    _df['Age_'] = imputer_age.transform(_df['Age'].reshape(-1, 1))\n",
    "    \n",
    "    # or\n",
    "    #_df['Age_'] = _df[\"Age\"].fillna(_df[\"Age\"].mean())\n",
    "    # http://stackoverflow.com/questions/21050426/pandas-impute-nans\n",
    "    \n",
    "    _df['Age_b'] = np.digitize(_df['Age_'], [0,5,10,15,20,25,28,30,35,40,45,50,55,60,65,70])\n",
    "\n",
    "    _df['Title_'] = _df['Name'].apply(lambda x: x.replace('.',',').split(',')[1].strip())\n",
    "\n",
    "    # Cabin:\n",
    "    _df['Cabin_'] = _df['Cabin'].apply(lambda x: np.NaN if isinstance(x, float) else x[0]) # NaN is no problem for get_dummies\n",
    "    \n",
    "    df_return = _df[['Age_','Age_b','HasAge','Sex','Pclass','Fare_','HasFare','Title_','Embarked','Cabin_','SibSp_','Parch_']]\n",
    "\n",
    "    \n",
    "    if get_dummies:\n",
    "        return pd.get_dummies(df_return)\n",
    "    else:\n",
    "        return df_return"
   ]
  },
  {
   "cell_type": "code",
   "execution_count": 2,
   "metadata": {
    "collapsed": false
   },
   "outputs": [],
   "source": [
    "\n",
    "import pylab as plt\n",
    "%matplotlib inline\n",
    "import numpy as np\n",
    "import math\n",
    "\n",
    "df=pd.read_csv('data/train.csv', sep=',')\n",
    "\n",
    "df_ = feature_engineering(df)"
   ]
  },
  {
   "cell_type": "code",
   "execution_count": 14,
   "metadata": {
    "collapsed": false
   },
   "outputs": [
    {
     "data": {
      "text/html": [
       "<div>\n",
       "<table border=\"1\" class=\"dataframe\">\n",
       "  <thead>\n",
       "    <tr style=\"text-align: right;\">\n",
       "      <th></th>\n",
       "      <th>Age_</th>\n",
       "      <th>Age_b</th>\n",
       "      <th>HasAge</th>\n",
       "      <th>Pclass</th>\n",
       "      <th>Fare_</th>\n",
       "      <th>HasFare</th>\n",
       "      <th>SibSp_</th>\n",
       "      <th>Parch_</th>\n",
       "      <th>Sex_female</th>\n",
       "      <th>Sex_male</th>\n",
       "      <th>...</th>\n",
       "      <th>Embarked_Q</th>\n",
       "      <th>Embarked_S</th>\n",
       "      <th>Cabin__A</th>\n",
       "      <th>Cabin__B</th>\n",
       "      <th>Cabin__C</th>\n",
       "      <th>Cabin__D</th>\n",
       "      <th>Cabin__E</th>\n",
       "      <th>Cabin__F</th>\n",
       "      <th>Cabin__G</th>\n",
       "      <th>Cabin__T</th>\n",
       "    </tr>\n",
       "  </thead>\n",
       "  <tbody>\n",
       "    <tr>\n",
       "      <th>0</th>\n",
       "      <td>22</td>\n",
       "      <td>5</td>\n",
       "      <td>1</td>\n",
       "      <td>3</td>\n",
       "      <td>7.250</td>\n",
       "      <td>1</td>\n",
       "      <td>1</td>\n",
       "      <td>0</td>\n",
       "      <td>0</td>\n",
       "      <td>1</td>\n",
       "      <td>...</td>\n",
       "      <td>0</td>\n",
       "      <td>1</td>\n",
       "      <td>0</td>\n",
       "      <td>0</td>\n",
       "      <td>0</td>\n",
       "      <td>0</td>\n",
       "      <td>0</td>\n",
       "      <td>0</td>\n",
       "      <td>0</td>\n",
       "      <td>0</td>\n",
       "    </tr>\n",
       "    <tr>\n",
       "      <th>1</th>\n",
       "      <td>38</td>\n",
       "      <td>9</td>\n",
       "      <td>1</td>\n",
       "      <td>1</td>\n",
       "      <td>40.000</td>\n",
       "      <td>1</td>\n",
       "      <td>1</td>\n",
       "      <td>0</td>\n",
       "      <td>1</td>\n",
       "      <td>0</td>\n",
       "      <td>...</td>\n",
       "      <td>0</td>\n",
       "      <td>0</td>\n",
       "      <td>0</td>\n",
       "      <td>0</td>\n",
       "      <td>1</td>\n",
       "      <td>0</td>\n",
       "      <td>0</td>\n",
       "      <td>0</td>\n",
       "      <td>0</td>\n",
       "      <td>0</td>\n",
       "    </tr>\n",
       "    <tr>\n",
       "      <th>2</th>\n",
       "      <td>26</td>\n",
       "      <td>6</td>\n",
       "      <td>1</td>\n",
       "      <td>3</td>\n",
       "      <td>7.925</td>\n",
       "      <td>1</td>\n",
       "      <td>0</td>\n",
       "      <td>0</td>\n",
       "      <td>1</td>\n",
       "      <td>0</td>\n",
       "      <td>...</td>\n",
       "      <td>0</td>\n",
       "      <td>1</td>\n",
       "      <td>0</td>\n",
       "      <td>0</td>\n",
       "      <td>0</td>\n",
       "      <td>0</td>\n",
       "      <td>0</td>\n",
       "      <td>0</td>\n",
       "      <td>0</td>\n",
       "      <td>0</td>\n",
       "    </tr>\n",
       "    <tr>\n",
       "      <th>3</th>\n",
       "      <td>35</td>\n",
       "      <td>9</td>\n",
       "      <td>1</td>\n",
       "      <td>1</td>\n",
       "      <td>40.000</td>\n",
       "      <td>1</td>\n",
       "      <td>1</td>\n",
       "      <td>0</td>\n",
       "      <td>1</td>\n",
       "      <td>0</td>\n",
       "      <td>...</td>\n",
       "      <td>0</td>\n",
       "      <td>1</td>\n",
       "      <td>0</td>\n",
       "      <td>0</td>\n",
       "      <td>1</td>\n",
       "      <td>0</td>\n",
       "      <td>0</td>\n",
       "      <td>0</td>\n",
       "      <td>0</td>\n",
       "      <td>0</td>\n",
       "    </tr>\n",
       "    <tr>\n",
       "      <th>4</th>\n",
       "      <td>35</td>\n",
       "      <td>9</td>\n",
       "      <td>1</td>\n",
       "      <td>3</td>\n",
       "      <td>8.050</td>\n",
       "      <td>1</td>\n",
       "      <td>0</td>\n",
       "      <td>0</td>\n",
       "      <td>0</td>\n",
       "      <td>1</td>\n",
       "      <td>...</td>\n",
       "      <td>0</td>\n",
       "      <td>1</td>\n",
       "      <td>0</td>\n",
       "      <td>0</td>\n",
       "      <td>0</td>\n",
       "      <td>0</td>\n",
       "      <td>0</td>\n",
       "      <td>0</td>\n",
       "      <td>0</td>\n",
       "      <td>0</td>\n",
       "    </tr>\n",
       "  </tbody>\n",
       "</table>\n",
       "<p>5 rows × 38 columns</p>\n",
       "</div>"
      ],
      "text/plain": [
       "   Age_  Age_b  HasAge  Pclass   Fare_  HasFare  SibSp_  Parch_  Sex_female  \\\n",
       "0    22      5       1       3   7.250        1       1       0           0   \n",
       "1    38      9       1       1  40.000        1       1       0           1   \n",
       "2    26      6       1       3   7.925        1       0       0           1   \n",
       "3    35      9       1       1  40.000        1       1       0           1   \n",
       "4    35      9       1       3   8.050        1       0       0           0   \n",
       "\n",
       "   Sex_male    ...     Embarked_Q  Embarked_S  Cabin__A  Cabin__B  Cabin__C  \\\n",
       "0         1    ...              0           1         0         0         0   \n",
       "1         0    ...              0           0         0         0         1   \n",
       "2         0    ...              0           1         0         0         0   \n",
       "3         0    ...              0           1         0         0         1   \n",
       "4         1    ...              0           1         0         0         0   \n",
       "\n",
       "   Cabin__D  Cabin__E  Cabin__F  Cabin__G  Cabin__T  \n",
       "0         0         0         0         0         0  \n",
       "1         0         0         0         0         0  \n",
       "2         0         0         0         0         0  \n",
       "3         0         0         0         0         0  \n",
       "4         0         0         0         0         0  \n",
       "\n",
       "[5 rows x 38 columns]"
      ]
     },
     "execution_count": 14,
     "metadata": {},
     "output_type": "execute_result"
    }
   ],
   "source": [
    "df_.head()"
   ]
  },
  {
   "cell_type": "code",
   "execution_count": 4,
   "metadata": {
    "collapsed": false
   },
   "outputs": [
    {
     "data": {
      "text/plain": [
       "(array([  54.,   46.,  177.,  346.,  118.,   70.,   45.,   24.,    9.,    2.]),\n",
       " array([  0.42 ,   8.378,  16.336,  24.294,  32.252,  40.21 ,  48.168,\n",
       "         56.126,  64.084,  72.042,  80.   ]),\n",
       " <a list of 10 Patch objects>)"
      ]
     },
     "execution_count": 4,
     "metadata": {},
     "output_type": "execute_result"
    },
    {
     "data": {
      "image/png": "[encoded data removed]",
      "text/plain": [
       "<matplotlib.figure.Figure at 0x1124d2b90>"
      ]
     },
     "metadata": {},
     "output_type": "display_data"
    }
   ],
   "source": [
    "plt.hist(df['Age_'])"
   ]
  },
  {
   "cell_type": "code",
   "execution_count": 5,
   "metadata": {
    "collapsed": true
   },
   "outputs": [],
   "source": [
    "df_ = feature_engineering(df,get_dummies=True)"
   ]
  },
  {
   "cell_type": "code",
   "execution_count": 6,
   "metadata": {
    "collapsed": false
   },
   "outputs": [
    {
     "name": "stdout",
     "output_type": "stream",
     "text": [
      "Index([u'Age_', u'Age_b', u'HasAge', u'Pclass', u'Fare_', u'HasFare',\n",
      "       u'SibSp_', u'Parch_', u'Sex_female', u'Sex_male', u'Title__Capt',\n",
      "       u'Title__Col', u'Title__Don', u'Title__Dr', u'Title__Jonkheer',\n",
      "       u'Title__Lady', u'Title__Major', u'Title__Master', u'Title__Miss',\n",
      "       u'Title__Mlle', u'Title__Mme', u'Title__Mr', u'Title__Mrs',\n",
      "       u'Title__Ms', u'Title__Rev', u'Title__Sir', u'Title__the Countess',\n",
      "       u'Embarked_C', u'Embarked_Q', u'Embarked_S', u'Cabin__A', u'Cabin__B',\n",
      "       u'Cabin__C', u'Cabin__D', u'Cabin__E', u'Cabin__F', u'Cabin__G',\n",
      "       u'Cabin__T'],\n",
      "      dtype='object')\n"
     ]
    }
   ],
   "source": [
    "print df_.columns"
   ]
  },
  {
   "cell_type": "code",
   "execution_count": 15,
   "metadata": {
    "collapsed": false
   },
   "outputs": [
    {
     "data": {
      "text/html": [
       "<div>\n",
       "<table border=\"1\" class=\"dataframe\">\n",
       "  <thead>\n",
       "    <tr style=\"text-align: right;\">\n",
       "      <th></th>\n",
       "      <th>Age_</th>\n",
       "      <th>Age_b</th>\n",
       "      <th>HasAge</th>\n",
       "      <th>Pclass</th>\n",
       "      <th>Fare_</th>\n",
       "      <th>HasFare</th>\n",
       "      <th>SibSp_</th>\n",
       "      <th>Parch_</th>\n",
       "      <th>Sex_female</th>\n",
       "      <th>Sex_male</th>\n",
       "      <th>...</th>\n",
       "      <th>Embarked_Q</th>\n",
       "      <th>Embarked_S</th>\n",
       "      <th>Cabin__A</th>\n",
       "      <th>Cabin__B</th>\n",
       "      <th>Cabin__C</th>\n",
       "      <th>Cabin__D</th>\n",
       "      <th>Cabin__E</th>\n",
       "      <th>Cabin__F</th>\n",
       "      <th>Cabin__G</th>\n",
       "      <th>Cabin__T</th>\n",
       "    </tr>\n",
       "  </thead>\n",
       "  <tbody>\n",
       "    <tr>\n",
       "      <th>0</th>\n",
       "      <td>22</td>\n",
       "      <td>5</td>\n",
       "      <td>1</td>\n",
       "      <td>3</td>\n",
       "      <td>7.250</td>\n",
       "      <td>1</td>\n",
       "      <td>1</td>\n",
       "      <td>0</td>\n",
       "      <td>0</td>\n",
       "      <td>1</td>\n",
       "      <td>...</td>\n",
       "      <td>0</td>\n",
       "      <td>1</td>\n",
       "      <td>0</td>\n",
       "      <td>0</td>\n",
       "      <td>0</td>\n",
       "      <td>0</td>\n",
       "      <td>0</td>\n",
       "      <td>0</td>\n",
       "      <td>0</td>\n",
       "      <td>0</td>\n",
       "    </tr>\n",
       "    <tr>\n",
       "      <th>1</th>\n",
       "      <td>38</td>\n",
       "      <td>9</td>\n",
       "      <td>1</td>\n",
       "      <td>1</td>\n",
       "      <td>40.000</td>\n",
       "      <td>1</td>\n",
       "      <td>1</td>\n",
       "      <td>0</td>\n",
       "      <td>1</td>\n",
       "      <td>0</td>\n",
       "      <td>...</td>\n",
       "      <td>0</td>\n",
       "      <td>0</td>\n",
       "      <td>0</td>\n",
       "      <td>0</td>\n",
       "      <td>1</td>\n",
       "      <td>0</td>\n",
       "      <td>0</td>\n",
       "      <td>0</td>\n",
       "      <td>0</td>\n",
       "      <td>0</td>\n",
       "    </tr>\n",
       "    <tr>\n",
       "      <th>2</th>\n",
       "      <td>26</td>\n",
       "      <td>6</td>\n",
       "      <td>1</td>\n",
       "      <td>3</td>\n",
       "      <td>7.925</td>\n",
       "      <td>1</td>\n",
       "      <td>0</td>\n",
       "      <td>0</td>\n",
       "      <td>1</td>\n",
       "      <td>0</td>\n",
       "      <td>...</td>\n",
       "      <td>0</td>\n",
       "      <td>1</td>\n",
       "      <td>0</td>\n",
       "      <td>0</td>\n",
       "      <td>0</td>\n",
       "      <td>0</td>\n",
       "      <td>0</td>\n",
       "      <td>0</td>\n",
       "      <td>0</td>\n",
       "      <td>0</td>\n",
       "    </tr>\n",
       "    <tr>\n",
       "      <th>3</th>\n",
       "      <td>35</td>\n",
       "      <td>9</td>\n",
       "      <td>1</td>\n",
       "      <td>1</td>\n",
       "      <td>40.000</td>\n",
       "      <td>1</td>\n",
       "      <td>1</td>\n",
       "      <td>0</td>\n",
       "      <td>1</td>\n",
       "      <td>0</td>\n",
       "      <td>...</td>\n",
       "      <td>0</td>\n",
       "      <td>1</td>\n",
       "      <td>0</td>\n",
       "      <td>0</td>\n",
       "      <td>1</td>\n",
       "      <td>0</td>\n",
       "      <td>0</td>\n",
       "      <td>0</td>\n",
       "      <td>0</td>\n",
       "      <td>0</td>\n",
       "    </tr>\n",
       "    <tr>\n",
       "      <th>4</th>\n",
       "      <td>35</td>\n",
       "      <td>9</td>\n",
       "      <td>1</td>\n",
       "      <td>3</td>\n",
       "      <td>8.050</td>\n",
       "      <td>1</td>\n",
       "      <td>0</td>\n",
       "      <td>0</td>\n",
       "      <td>0</td>\n",
       "      <td>1</td>\n",
       "      <td>...</td>\n",
       "      <td>0</td>\n",
       "      <td>1</td>\n",
       "      <td>0</td>\n",
       "      <td>0</td>\n",
       "      <td>0</td>\n",
       "      <td>0</td>\n",
       "      <td>0</td>\n",
       "      <td>0</td>\n",
       "      <td>0</td>\n",
       "      <td>0</td>\n",
       "    </tr>\n",
       "  </tbody>\n",
       "</table>\n",
       "<p>5 rows × 38 columns</p>\n",
       "</div>"
      ],
      "text/plain": [
       "   Age_  Age_b  HasAge  Pclass   Fare_  HasFare  SibSp_  Parch_  Sex_female  \\\n",
       "0    22      5       1       3   7.250        1       1       0           0   \n",
       "1    38      9       1       1  40.000        1       1       0           1   \n",
       "2    26      6       1       3   7.925        1       0       0           1   \n",
       "3    35      9       1       1  40.000        1       1       0           1   \n",
       "4    35      9       1       3   8.050        1       0       0           0   \n",
       "\n",
       "   Sex_male    ...     Embarked_Q  Embarked_S  Cabin__A  Cabin__B  Cabin__C  \\\n",
       "0         1    ...              0           1         0         0         0   \n",
       "1         0    ...              0           0         0         0         1   \n",
       "2         0    ...              0           1         0         0         0   \n",
       "3         0    ...              0           1         0         0         1   \n",
       "4         1    ...              0           1         0         0         0   \n",
       "\n",
       "   Cabin__D  Cabin__E  Cabin__F  Cabin__G  Cabin__T  \n",
       "0         0         0         0         0         0  \n",
       "1         0         0         0         0         0  \n",
       "2         0         0         0         0         0  \n",
       "3         0         0         0         0         0  \n",
       "4         0         0         0         0         0  \n",
       "\n",
       "[5 rows x 38 columns]"
      ]
     },
     "execution_count": 15,
     "metadata": {},
     "output_type": "execute_result"
    }
   ],
   "source": [
    "df_.head()"
   ]
  },
  {
   "cell_type": "markdown",
   "metadata": {},
   "source": [
    "## Remeber Feature Scaler - both on train and on test:"
   ]
  },
  {
   "cell_type": "code",
   "execution_count": 8,
   "metadata": {
    "collapsed": false
   },
   "outputs": [],
   "source": [
    "from sklearn.preprocessing import StandardScaler\n",
    "\n",
    "stdsc = StandardScaler()\n",
    "\n",
    "X_train_std = stdsc.fit_transform(df_)\n",
    "\n",
    "# X_test_std = std.transform(test_df)"
   ]
  },
  {
   "cell_type": "code",
   "execution_count": 9,
   "metadata": {
    "collapsed": false
   },
   "outputs": [
    {
     "data": {
      "text/plain": [
       "array([-0.5924806 , -0.68661155,  0.49789473,  0.82737724, -0.97149905,\n",
       "        0.        ,  0.69538815, -0.50678655, -0.73769513,  0.73769513,\n",
       "       -0.03352008, -0.0474312 , -0.03352008, -0.08898625, -0.03352008,\n",
       "       -0.03352008, -0.0474312 , -0.21680296, -0.50665528, -0.0474312 ,\n",
       "       -0.03352008,  0.85053175, -0.4039621 , -0.03352008, -0.0823387 ,\n",
       "       -0.03352008, -0.03352008, -0.48204268, -0.30756234,  0.61930636,\n",
       "       -0.13085598, -0.23598136, -0.26629582, -0.19611614, -0.19300938,\n",
       "       -0.12168146, -0.06715343, -0.03352008])"
      ]
     },
     "execution_count": 9,
     "metadata": {},
     "output_type": "execute_result"
    }
   ],
   "source": [
    "X_train_std[0]"
   ]
  },
  {
   "cell_type": "code",
   "execution_count": 10,
   "metadata": {
    "collapsed": false
   },
   "outputs": [
    {
     "data": {
      "text/plain": [
       "array([ 0.63878901,  0.65352183,  0.49789473, -1.56610693,  1.55704733,\n",
       "        0.        ,  0.69538815, -0.50678655,  1.35557354, -1.35557354,\n",
       "       -0.03352008, -0.0474312 , -0.03352008, -0.08898625, -0.03352008,\n",
       "       -0.03352008, -0.0474312 , -0.21680296, -0.50665528, -0.0474312 ,\n",
       "       -0.03352008, -1.17573506,  2.47547975, -0.03352008, -0.0823387 ,\n",
       "       -0.03352008, -0.03352008,  2.0745051 , -0.30756234, -1.61470971,\n",
       "       -0.13085598, -0.23598136,  3.75522235, -0.19611614, -0.19300938,\n",
       "       -0.12168146, -0.06715343, -0.03352008])"
      ]
     },
     "execution_count": 10,
     "metadata": {},
     "output_type": "execute_result"
    }
   ],
   "source": [
    "X_train_std[1]"
   ]
  },
  {
   "cell_type": "code",
   "execution_count": 11,
   "metadata": {
    "collapsed": false
   },
   "outputs": [
    {
     "data": {
      "text/plain": [
       "array([ 1.87005862,  1.65862187,  0.49789473, -1.56610693,  1.55704733,\n",
       "        0.        , -0.57426522, -0.50678655, -0.73769513,  0.73769513,\n",
       "       -0.03352008, -0.0474312 , -0.03352008, -0.08898625, -0.03352008,\n",
       "       -0.03352008, -0.0474312 , -0.21680296, -0.50665528, -0.0474312 ,\n",
       "       -0.03352008,  0.85053175, -0.4039621 , -0.03352008, -0.0823387 ,\n",
       "       -0.03352008, -0.03352008, -0.48204268, -0.30756234,  0.61930636,\n",
       "       -0.13085598, -0.23598136, -0.26629582, -0.19611614,  5.18109544,\n",
       "       -0.12168146, -0.06715343, -0.03352008])"
      ]
     },
     "execution_count": 11,
     "metadata": {},
     "output_type": "execute_result"
    }
   ],
   "source": [
    "X_train_std[6]"
   ]
  },
  {
   "cell_type": "code",
   "execution_count": 12,
   "metadata": {
    "collapsed": false
   },
   "outputs": [
    {
     "name": "stdout",
     "output_type": "stream",
     "text": [
      "Index([u'Age_', u'Age_b', u'HasAge', u'Pclass', u'Fare_', u'HasFare',\n",
      "       u'SibSp_', u'Parch_', u'Sex_female', u'Sex_male', u'Title__Capt',\n",
      "       u'Title__Col', u'Title__Don', u'Title__Dr', u'Title__Jonkheer',\n",
      "       u'Title__Lady', u'Title__Major', u'Title__Master', u'Title__Miss',\n",
      "       u'Title__Mlle', u'Title__Mme', u'Title__Mr', u'Title__Mrs',\n",
      "       u'Title__Ms', u'Title__Rev', u'Title__Sir', u'Title__the Countess',\n",
      "       u'Embarked_C', u'Embarked_Q', u'Embarked_S', u'Cabin__A', u'Cabin__B',\n",
      "       u'Cabin__C', u'Cabin__D', u'Cabin__E', u'Cabin__F', u'Cabin__G',\n",
      "       u'Cabin__T'],\n",
      "      dtype='object')\n"
     ]
    }
   ],
   "source": [
    "print df_.columns"
   ]
  },
  {
   "cell_type": "code",
   "execution_count": 13,
   "metadata": {
    "collapsed": false
   },
   "outputs": [
    {
     "name": "stdout",
     "output_type": "stream",
     "text": [
      "Age_\n"
     ]
    },
    {
     "data": {
      "text/plain": [
       "(array([  54.,   46.,  177.,  346.,  118.,   70.,   45.,   24.,    9.,    2.]),\n",
       " array([-2.25315549, -1.64075277, -1.02835004, -0.41594732,  0.1964554 ,\n",
       "         0.80885813,  1.42126085,  2.03366357,  2.6460663 ,  3.25846902,\n",
       "         3.87087174]),\n",
       " <a list of 10 Patch objects>)"
      ]
     },
     "execution_count": 13,
     "metadata": {},
     "output_type": "execute_result"
    },
    {
     "data": {
      "image/png": "[encoded data removed]",
      "text/plain": [
       "<matplotlib.figure.Figure at 0x105eb6690>"
      ]
     },
     "metadata": {},
     "output_type": "display_data"
    }
   ],
   "source": [
    "n=0\n",
    "print df_.columns[n]\n",
    "plt.hist(X_train_std[:,n])"
   ]
  },
  {
   "cell_type": "code",
   "execution_count": null,
   "metadata": {
    "collapsed": true
   },
   "outputs": [],
   "source": []
  }
 ],
 "metadata": {
  "kernelspec": {
   "display_name": "Python 2",
   "language": "python",
   "name": "python2"
  },
  "language_info": {
   "codemirror_mode": {
    "name": "ipython",
    "version": 2
   },
   "file_extension": ".py",
   "mimetype": "text/x-python",
   "name": "python",
   "nbconvert_exporter": "python",
   "pygments_lexer": "ipython2",
   "version": "2.7.11"
  }
 },
 "nbformat": 4,
 "nbformat_minor": 0
}

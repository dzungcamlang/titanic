{
 "cells": [
  {
   "cell_type": "code",
   "execution_count": 4,
   "metadata": {
    "collapsed": false
   },
   "outputs": [],
   "source": [
    "import pylab as plt\n",
    "%matplotlib inline\n",
    "import numpy as np\n",
    "import pandas as pd\n",
    "import math\n",
    "\n",
    "from featureEngineering4 import feature_engineering\n",
    "\n",
    "df=pd.read_csv('../data/train.csv', sep=',')\n",
    "df_test=pd.read_csv('../data/test.csv', sep=',')\n",
    "\n",
    "df_d, df_d_test = feature_engineering(df, df_test)\n",
    "\n",
    "features=['IsChild', 'Age_', 'Sex_', 'Pclass', 'Fare_', 'Title_s', 'Cabin_s', 'HasFamily', 'Embarked__C', 'Embarked__Q', 'Embarked__S']\n",
    "\n",
    "df_d = df_d[features]\n",
    "df_d_test = df_d_test[features]\n"
   ]
  },
  {
   "cell_type": "code",
   "execution_count": 5,
   "metadata": {
    "collapsed": false
   },
   "outputs": [],
   "source": [
    "from sklearn.ensemble import RandomForestClassifier\n",
    "\n",
    "feat_labels = df_d.columns\n",
    "X_train = df_d\n",
    "y_train = df['Survived']\n"
   ]
  },
  {
   "cell_type": "code",
   "execution_count": 7,
   "metadata": {
    "collapsed": false
   },
   "outputs": [
    {
     "data": {
      "text/html": [
       "<div>\n",
       "<table border=\"1\" class=\"dataframe\">\n",
       "  <thead>\n",
       "    <tr style=\"text-align: right;\">\n",
       "      <th></th>\n",
       "      <th>IsChild</th>\n",
       "      <th>Age_</th>\n",
       "      <th>Sex_</th>\n",
       "      <th>Pclass</th>\n",
       "      <th>Fare_</th>\n",
       "      <th>Title_s</th>\n",
       "      <th>Cabin_s</th>\n",
       "      <th>HasFamily</th>\n",
       "      <th>Embarked__C</th>\n",
       "      <th>Embarked__Q</th>\n",
       "      <th>Embarked__S</th>\n",
       "    </tr>\n",
       "  </thead>\n",
       "  <tbody>\n",
       "    <tr>\n",
       "      <th>7</th>\n",
       "      <td>1</td>\n",
       "      <td>2</td>\n",
       "      <td>0</td>\n",
       "      <td>3</td>\n",
       "      <td>21.0750</td>\n",
       "      <td>0.5</td>\n",
       "      <td>0.3</td>\n",
       "      <td>1</td>\n",
       "      <td>0</td>\n",
       "      <td>0</td>\n",
       "      <td>1</td>\n",
       "    </tr>\n",
       "    <tr>\n",
       "      <th>9</th>\n",
       "      <td>1</td>\n",
       "      <td>14</td>\n",
       "      <td>1</td>\n",
       "      <td>2</td>\n",
       "      <td>30.0708</td>\n",
       "      <td>0.8</td>\n",
       "      <td>0.3</td>\n",
       "      <td>1</td>\n",
       "      <td>1</td>\n",
       "      <td>0</td>\n",
       "      <td>0</td>\n",
       "    </tr>\n",
       "    <tr>\n",
       "      <th>10</th>\n",
       "      <td>1</td>\n",
       "      <td>4</td>\n",
       "      <td>1</td>\n",
       "      <td>3</td>\n",
       "      <td>16.7000</td>\n",
       "      <td>0.8</td>\n",
       "      <td>0.5</td>\n",
       "      <td>1</td>\n",
       "      <td>0</td>\n",
       "      <td>0</td>\n",
       "      <td>1</td>\n",
       "    </tr>\n",
       "    <tr>\n",
       "      <th>14</th>\n",
       "      <td>1</td>\n",
       "      <td>14</td>\n",
       "      <td>1</td>\n",
       "      <td>3</td>\n",
       "      <td>7.8542</td>\n",
       "      <td>0.8</td>\n",
       "      <td>0.3</td>\n",
       "      <td>0</td>\n",
       "      <td>0</td>\n",
       "      <td>0</td>\n",
       "      <td>1</td>\n",
       "    </tr>\n",
       "    <tr>\n",
       "      <th>16</th>\n",
       "      <td>1</td>\n",
       "      <td>2</td>\n",
       "      <td>0</td>\n",
       "      <td>3</td>\n",
       "      <td>29.1250</td>\n",
       "      <td>0.5</td>\n",
       "      <td>0.3</td>\n",
       "      <td>1</td>\n",
       "      <td>0</td>\n",
       "      <td>1</td>\n",
       "      <td>0</td>\n",
       "    </tr>\n",
       "  </tbody>\n",
       "</table>\n",
       "</div>"
      ],
      "text/plain": [
       "    IsChild  Age_  Sex_  Pclass    Fare_  Title_s  Cabin_s  HasFamily  \\\n",
       "7         1     2     0       3  21.0750      0.5      0.3          1   \n",
       "9         1    14     1       2  30.0708      0.8      0.3          1   \n",
       "10        1     4     1       3  16.7000      0.8      0.5          1   \n",
       "14        1    14     1       3   7.8542      0.8      0.3          0   \n",
       "16        1     2     0       3  29.1250      0.5      0.3          1   \n",
       "\n",
       "    Embarked__C  Embarked__Q  Embarked__S  \n",
       "7             0            0            1  \n",
       "9             1            0            0  \n",
       "10            0            0            1  \n",
       "14            0            0            1  \n",
       "16            0            1            0  "
      ]
     },
     "execution_count": 7,
     "metadata": {},
     "output_type": "execute_result"
    }
   ],
   "source": [
    "df_d[df_d['IsChild']==1].head()"
   ]
  },
  {
   "cell_type": "code",
   "execution_count": 8,
   "metadata": {
    "collapsed": false
   },
   "outputs": [
    {
     "data": {
      "text/plain": [
       "Pipeline(steps=[('scaler', StandardScaler(copy=True, with_mean=True, with_std=True)), ('pca', KernelPCA(alpha=1.0, coef0=1, degree=3, eigen_solver='auto',\n",
       "     fit_inverse_transform=False, gamma=0.05, kernel='rbf',\n",
       "     kernel_params=None, max_iter=None, n_components=8,\n",
       "     remove_zero_eig=False, tol=0)), ('clf', KNeighborsClassifier(algorithm='auto', leaf_size=30, metric='minkowski',\n",
       "           metric_params=None, n_jobs=1, n_neighbors=7, p=2,\n",
       "           weights='uniform'))])"
      ]
     },
     "execution_count": 8,
     "metadata": {},
     "output_type": "execute_result"
    }
   ],
   "source": [
    "from sklearn.cross_validation import train_test_split\n",
    "X, y = df_d.iloc[:].values, df['Survived'].values\n",
    "\n",
    "X_train, X_test, y_train, y_test = train_test_split(X, y, test_size=0.2, random_state=1)\n",
    "\n",
    "######################################\n",
    "\n",
    "from sklearn.pipeline import Pipeline\n",
    "\n",
    "from sklearn.feature_selection import SelectFromModel\n",
    "from sklearn.preprocessing import StandardScaler\n",
    "from sklearn.decomposition import PCA\n",
    "from sklearn.decomposition import KernelPCA\n",
    "from sklearn.ensemble import RandomForestClassifier\n",
    "from sklearn.neighbors import KNeighborsClassifier\n",
    "\n",
    "from sklearn.linear_model import LogisticRegression\n",
    "from sklearn.svm import SVC\n",
    "\n",
    "pipe = Pipeline([\n",
    "        ('scaler', StandardScaler()),\n",
    "        ('pca', KernelPCA(n_components=8, kernel='rbf', gamma=0.05)),\n",
    "        #('clf', LogisticRegression(random_state=1))\n",
    "        ('clf', KNeighborsClassifier(n_neighbors=7))\n",
    "        #('clf', RandomForestClassifier(n_estimators=100,\n",
    "                                      # criterion='entropy',\n",
    "                                       #random_state=0,\n",
    "                                       #max_depth=4,\n",
    "                                       ##max_features=4,\n",
    "                                       #n_jobs=-1))\n",
    "    ])\n",
    "\n",
    "pipe.fit(X_train, y_train)\n"
   ]
  },
  {
   "cell_type": "code",
   "execution_count": 9,
   "metadata": {
    "collapsed": false
   },
   "outputs": [
    {
     "name": "stdout",
     "output_type": "stream",
     "text": [
      "0.748603351955\n",
      "0.851123595506\n",
      "0.58904109589\n",
      "0.656488549618\n"
     ]
    }
   ],
   "source": [
    "from sklearn.metrics import accuracy_score, precision_score, f1_score\n",
    "\n",
    "print accuracy_score(pipe.predict(X_test), y_test)\n",
    "print accuracy_score(pipe.predict(X_train), y_train)\n",
    "print precision_score(pipe.predict(X_test), y_test)\n",
    "print f1_score(pipe.predict(X_test), y_test)"
   ]
  },
  {
   "cell_type": "code",
   "execution_count": 10,
   "metadata": {
    "collapsed": false
   },
   "outputs": [
    {
     "name": "stdout",
     "output_type": "stream",
     "text": [
      "F1: 0.728 +/- 0.049\n"
     ]
    }
   ],
   "source": [
    "from sklearn import svm, cross_validation, datasets\n",
    "\n",
    "X, y = df_d.iloc[:].values, df['Survived'].values\n",
    "\n",
    "scores = cross_validation.cross_val_score(pipe, X, y, scoring='f1', cv=8)\n",
    "\n",
    "print('F1: %.3f +/- %.3f' % (np.mean(scores), np.std(scores)))"
   ]
  },
  {
   "cell_type": "markdown",
   "metadata": {
    "collapsed": false
   },
   "source": [
    "## Tuning hyperparameters via grid search"
   ]
  },
  {
   "cell_type": "code",
   "execution_count": null,
   "metadata": {
    "collapsed": false
   },
   "outputs": [],
   "source": [
    "from sklearn.grid_search import GridSearchCV\n",
    "\n",
    "pipe = Pipeline([\n",
    "        ('scaler', StandardScaler()),\n",
    "        ('pca', KernelPCA(kernel='rbf')),\n",
    "        #('clf', LogisticRegression(random_state=1))\n",
    "        ('clf', KNeighborsClassifier())\n",
    "        #('clf', RandomForestClassifier(n_estimators=100,\n",
    "                                      # criterion='entropy',\n",
    "                                       #random_state=0,\n",
    "                                       #max_depth=4,\n",
    "                                       ##max_features=4,\n",
    "                                       #n_jobs=-1))\n",
    "    ])\n",
    "\n",
    "pca_gamma_range = np.linspace(0.001, 0.1, 10)\n",
    "pca_n_range = range(5,14)\n",
    "knn_n_neighbor_range = range(4,10)\n",
    "\n",
    "param_grid = [\n",
    "    {'pca__n_components': pca_n_range,\n",
    "     'pca__gamma': pca_gamma_range,\n",
    "     'clf__n_neighbors': knn_n_neighbor_range\n",
    "    }\n",
    "]\n",
    "\n",
    "gs = GridSearchCV(estimator=pipe,\n",
    "                  param_grid=param_grid,\n",
    "                  scoring='f1',\n",
    "                  cv=8,\n",
    "                  n_jobs=-1)\n",
    "\n",
    "gs = gs.fit(X, y)\n",
    "\n",
    "print gs.best_score_\n",
    "\n",
    "print gs.best_params_\n",
    "\n",
    "\n"
   ]
  },
  {
   "cell_type": "code",
   "execution_count": null,
   "metadata": {
    "collapsed": false
   },
   "outputs": [],
   "source": [
    "X.shape"
   ]
  },
  {
   "cell_type": "code",
   "execution_count": null,
   "metadata": {
    "collapsed": false
   },
   "outputs": [],
   "source": [
    "scores = cross_validation.cross_val_score(gs, X, y, scoring='f1', cv=5)\n",
    "print('F1: %.3f +/- %.3f' % (np.mean(scores), np.std(scores)))"
   ]
  },
  {
   "cell_type": "code",
   "execution_count": null,
   "metadata": {
    "collapsed": false
   },
   "outputs": [],
   "source": [
    "scores"
   ]
  },
  {
   "cell_type": "markdown",
   "metadata": {
    "collapsed": true
   },
   "source": [
    "## SVM"
   ]
  },
  {
   "cell_type": "code",
   "execution_count": 11,
   "metadata": {
    "collapsed": false
   },
   "outputs": [
    {
     "name": "stdout",
     "output_type": "stream",
     "text": [
      "0.761567077225\n",
      "{'clf__gamma': 0.55000000000000004, 'clf__C': 5.0}\n"
     ]
    }
   ],
   "source": [
    "from sklearn.grid_search import GridSearchCV\n",
    "\n",
    "pipe = Pipeline([\n",
    "        ('scaler', StandardScaler()),\n",
    "        #('pca', KernelPCA(kernel='rbf')),\n",
    "        #('clf', LogisticRegression(random_state=1))\n",
    "        #('clf', KNeighborsClassifier())\n",
    "        #('clf', RandomForestClassifier(n_estimators=100,\n",
    "                                      # criterion='entropy',\n",
    "                                       #random_state=0,\n",
    "                                       #max_depth=4,\n",
    "                                       ##max_features=4,\n",
    "                                       #n_jobs=-1))\n",
    "        ('clf', SVC(kernel='rbf', random_state=2))\n",
    "    ])\n",
    "\n",
    "pca_gamma_range = np.linspace(0.001, 0.1, 10)\n",
    "pca_n_range = range(5,14)\n",
    "\n",
    "clf_C_range = np.linspace(1, 5, 5)\n",
    "clf_gamma_range = np.linspace(0.1,1, 5)\n",
    "\n",
    "param_grid = [\n",
    "    {\n",
    "        #'pca__n_components': pca_n_range,\n",
    "        #'pca__gamma': pca_gamma_range,\n",
    "        'clf__C': clf_C_range,\n",
    "        'clf__gamma': clf_gamma_range\n",
    "    }\n",
    "]\n",
    "\n",
    "gs = GridSearchCV(estimator=pipe,\n",
    "                  param_grid=param_grid,\n",
    "                  scoring='f1',\n",
    "                  cv=8,\n",
    "                  n_jobs=-1)\n",
    "\n",
    "gs = gs.fit(X, y)\n",
    "\n",
    "print gs.best_score_\n",
    "\n",
    "print gs.best_params_\n"
   ]
  },
  {
   "cell_type": "code",
   "execution_count": null,
   "metadata": {
    "collapsed": false
   },
   "outputs": [],
   "source": [
    "scores = cross_validation.cross_val_score(gs, X, y, scoring='f1', cv=10)\n",
    "print('F1: %.3f +/- %.3f' % (np.mean(scores), np.std(scores)))"
   ]
  },
  {
   "cell_type": "code",
   "execution_count": null,
   "metadata": {
    "collapsed": false
   },
   "outputs": [],
   "source": []
  },
  {
   "cell_type": "markdown",
   "metadata": {},
   "source": [
    "## RandomRorest"
   ]
  },
  {
   "cell_type": "code",
   "execution_count": 19,
   "metadata": {
    "collapsed": false
   },
   "outputs": [
    {
     "name": "stdout",
     "output_type": "stream",
     "text": [
      "0.79461981226\n",
      "{'clf__max_features': 9, 'clf__max_depth': 10}\n"
     ]
    }
   ],
   "source": [
    "from sklearn.grid_search import GridSearchCV\n",
    "\n",
    "pipe = Pipeline([\n",
    "        ('scaler', StandardScaler()),\n",
    "        #('pca', KernelPCA(kernel='rbf')),\n",
    "        #('clf', LogisticRegression(random_state=1))\n",
    "        #('clf', KNeighborsClassifier())\n",
    "        ('clf', RandomForestClassifier(n_estimators=2000,\n",
    "                                       criterion='entropy',\n",
    "                                       random_state=0,\n",
    "                                       #max_depth=4,\n",
    "                                      #max_features=4,\n",
    "                                       n_jobs=-1))\n",
    "    ])\n",
    "\n",
    "pca_gamma_range = np.linspace(0.001, 0.1, 5)\n",
    "pca_n_range = range(5,14)\n",
    "\n",
    "clf_max_depth_range = range(10,11)\n",
    "clf_max_features_range = range(9, 10)\n",
    "\n",
    "param_grid = [\n",
    "    {\n",
    "        #'pca__n_components': pca_n_range,\n",
    "     #'pca__gamma': pca_gamma_range,\n",
    "     'clf__max_depth': clf_max_depth_range,\n",
    "     'clf__max_features': clf_max_features_range\n",
    "    }\n",
    "]\n",
    "\n",
    "gs = GridSearchCV(estimator=pipe,\n",
    "                  param_grid=param_grid,\n",
    "                  scoring='f1',\n",
    "                  cv=8,\n",
    "                  n_jobs=-1)\n",
    "\n",
    "gs = gs.fit(X, y)\n",
    "\n",
    "print gs.best_score_\n",
    "\n",
    "print gs.best_params_"
   ]
  },
  {
   "cell_type": "code",
   "execution_count": 20,
   "metadata": {
    "collapsed": false
   },
   "outputs": [
    {
     "name": "stdout",
     "output_type": "stream",
     "text": [
      "F1: 0.801 +/- 0.061\n"
     ]
    }
   ],
   "source": [
    "scores = cross_validation.cross_val_score(gs, X, y, scoring='f1', cv=10)\n",
    "print('F1: %.3f +/- %.3f' % (np.mean(scores), np.std(scores)))"
   ]
  },
  {
   "cell_type": "code",
   "execution_count": 21,
   "metadata": {
    "collapsed": false
   },
   "outputs": [
    {
     "name": "stdout",
     "output_type": "stream",
     "text": [
      "Acc: 0.854 +/- 0.040\n"
     ]
    }
   ],
   "source": [
    "scores = cross_validation.cross_val_score(gs, X, y, scoring='accuracy', cv=10)\n",
    "print('Acc: %.3f +/- %.3f' % (np.mean(scores), np.std(scores)))"
   ]
  },
  {
   "cell_type": "markdown",
   "metadata": {
    "collapsed": true
   },
   "source": [
    "### A try: use simple RandomeRorest to make a prediction"
   ]
  },
  {
   "cell_type": "code",
   "execution_count": 25,
   "metadata": {
    "collapsed": true
   },
   "outputs": [],
   "source": [
    "import pylab as plt\n",
    "%matplotlib inline\n",
    "import numpy as np\n",
    "import pandas as pd\n",
    "\n",
    "from sklearn.pipeline import Pipeline\n",
    "from sklearn.feature_selection import SelectFromModel\n",
    "from sklearn.preprocessing import StandardScaler\n",
    "from sklearn.decomposition import PCA\n",
    "from sklearn.decomposition import KernelPCA\n",
    "from sklearn.ensemble import RandomForestClassifier\n",
    "from sklearn.neighbors import KNeighborsClassifier\n",
    "from sklearn.linear_model import LogisticRegression\n",
    "from sklearn.svm import SVC\n",
    "\n",
    "from featureEngineering4 import feature_engineering\n",
    "\n",
    "df=pd.read_csv('../data/train.csv', sep=',')\n",
    "df_test=pd.read_csv('../data/test.csv', sep=',')\n",
    "\n",
    "df_d, df_d_test = feature_engineering(df, df_test)\n",
    "\n",
    "features=['IsChild', 'Age_', 'Sex_', 'Pclass', 'Fare_', 'Title_s', 'Cabin_s', 'HasFamily', 'Embarked__C', 'Embarked__Q', 'Embarked__S']\n",
    "\n",
    "df_d = df_d[features]\n",
    "df_d_test = df_d_test[features]\n",
    "\n",
    "\n",
    "forest = RandomForestClassifier(n_estimators=2000,\n",
    "                                       criterion='entropy',\n",
    "                                       random_state=0,\n",
    "                                       max_depth=10,\n",
    "                                       max_features=9,\n",
    "                                       n_jobs=-1)\n",
    "forest.fit(df_d, df['Survived'])\n",
    "\n",
    "df_test['Survived'] = forest.predict(df_d_test)\n"
   ]
  },
  {
   "cell_type": "code",
   "execution_count": 27,
   "metadata": {
    "collapsed": false
   },
   "outputs": [
    {
     "data": {
      "text/plain": [
       "(array([ 270.,    0.,    0.,    0.,    0.,    0.,    0.,    0.,    0.,  148.]),\n",
       " array([ 0. ,  0.1,  0.2,  0.3,  0.4,  0.5,  0.6,  0.7,  0.8,  0.9,  1. ]),\n",
       " <a list of 10 Patch objects>)"
      ]
     },
     "execution_count": 27,
     "metadata": {},
     "output_type": "execute_result"
    },
    {
     "data": {
      "image/png": "[encoded data removed]",
      "text/plain": [
       "<matplotlib.figure.Figure at 0x1131c6bd0>"
      ]
     },
     "metadata": {},
     "output_type": "display_data"
    }
   ],
   "source": [
    "plt.hist(df_test['Survived'] )"
   ]
  },
  {
   "cell_type": "code",
   "execution_count": 29,
   "metadata": {
    "collapsed": false
   },
   "outputs": [],
   "source": [
    "import csv as csv\n",
    "predictions_file = open(\"RandomForest-FE4-max_d=10-max_f=9.csv\", \"wb\")\n",
    "predictions_file_object = csv.writer(predictions_file)\n",
    "predictions_file_object.writerow([\"PassengerId\", \"Survived\"])\t# write the column headers\n",
    "for index, row in df_test.iterrows():\t\t\t\t\t\t\t\t\t# For each row in test file,\n",
    "    predictions_file_object.writerow([row['PassengerId'], row['Survived']])\t\t\t# write the PassengerId, and predict 1\n",
    "predictions_file.close()"
   ]
  },
  {
   "cell_type": "code",
   "execution_count": null,
   "metadata": {
    "collapsed": true
   },
   "outputs": [],
   "source": []
  }
 ],
 "metadata": {
  "kernelspec": {
   "display_name": "Python 2",
   "language": "python",
   "name": "python2"
  },
  "language_info": {
   "codemirror_mode": {
    "name": "ipython",
    "version": 2
   },
   "file_extension": ".py",
   "mimetype": "text/x-python",
   "name": "python",
   "nbconvert_exporter": "python",
   "pygments_lexer": "ipython2",
   "version": "2.7.11"
  }
 },
 "nbformat": 4,
 "nbformat_minor": 0
}

{
 "cells": [
  {
   "cell_type": "code",
   "execution_count": 108,
   "metadata": {
    "collapsed": true
   },
   "outputs": [],
   "source": [
    "import pandas as pd\n",
    "import pylab as plt\n",
    "%matplotlib inline\n",
    "import numpy as np\n",
    "import math\n",
    "\n",
    "df=pd.read_csv('data/train.csv', sep=',')\n",
    "\n",
    "features = ['Fare_s','Age_with_Sex', 'Pclass_s','SibSp_s','Parch_s']\n",
    "#features = ['Sex_', 'Age_s_e']\n",
    "\n",
    "from sklearn.linear_model import LogisticRegression\n",
    "lr_model = LogisticRegression(C=5, random_state=0)\n",
    "\n",
    "from sklearn.preprocessing import PolynomialFeatures\n",
    "poly = PolynomialFeatures(9,include_bias=False)\n",
    "\n",
    "from sklearn.metrics import accuracy_score"
   ]
  },
  {
   "cell_type": "code",
   "execution_count": 109,
   "metadata": {
    "collapsed": false
   },
   "outputs": [],
   "source": [
    "def feature_engineering(df):\n",
    "    df['Sex_'] = df['Sex'].apply(lambda x: -1 if x=='female' else 1)\n",
    "    \n",
    "    df['Fare'] = df['Fare'].fillna(10)\n",
    "    fareMax=df['Fare'].max()\n",
    "    fareMin=df['Fare'].min()\n",
    "\n",
    "    df['Fare_s'] = (df['Fare']-fareMin)/(fareMax-fareMin)\n",
    "    \n",
    "    df['Pclass_s'] = df['Pclass']/3\n",
    "    \n",
    "    df['SibSp'] = df['SibSp'].apply(lambda x: 3 if x > 3 else x)\n",
    "    df['SibSp_s'] = df['SibSp']/df['SibSp'].max()\n",
    "    \n",
    "    df['Parch'] = df['Parch'].apply(lambda x: 3 if x > 3 else x)\n",
    "    df['Parch_s'] = df['Parch']/df['Parch'].max()\n",
    "\n",
    "    df['HasAge'] = df['Age'].apply(lambda x: 0 if np.isnan(x) else 1)\n",
    "\n",
    "    df['Age_'] = df['Age'].fillna(30)\n",
    "    df['Age_'] = df['Age_'].apply(lambda x: 0 if x <= 16 else x)\n",
    "    df['Age_'] = df['Age_'].apply(lambda x: 22 if x >12 and x <= 29 else x)\n",
    "    df['Age_'] = df['Age_'].apply(lambda x: 40 if x >29 and x <= 46 else x)\n",
    "    df['Age_'] = df['Age_'].apply(lambda x: 60 if x >46 else x)\n",
    "    ageMax=df['Age_'].max()\n",
    "    ageMin=df['Age_'].min()\n",
    "\n",
    "    df['Age_s'] = (df['Age_']-ageMin)/(ageMax-ageMin)\n",
    "    \n",
    "    \n",
    "    df['Age_with_Sex'] = df['Age_s'] + df['Sex_']\n",
    "\n",
    "feature_engineering(df)"
   ]
  },
  {
   "cell_type": "code",
   "execution_count": 110,
   "metadata": {
    "collapsed": false
   },
   "outputs": [
    {
     "data": {
      "text/plain": [
       "(array([  15.,    0.,    0.,    0.,    0.,    1.,    1.,    1.,   25.,\n",
       "         198.,   69.,   21.,    6.,   30.,    6.,   12.,   48.,    5.,\n",
       "          23.,   23.,   12.,    1.,    5.,    5.,    8.,    9.,   10.,\n",
       "           4.,    5.,    4.,   10.,    5.,   45.,   17.,   15.,    2.,\n",
       "           7.,   11.,   10.,   11.,    2.,    4.,    5.,    2.,    4.,\n",
       "           2.,    2.,    0.,    5.,  185.]),\n",
       " array([  0. ,   0.8,   1.6,   2.4,   3.2,   4. ,   4.8,   5.6,   6.4,\n",
       "          7.2,   8. ,   8.8,   9.6,  10.4,  11.2,  12. ,  12.8,  13.6,\n",
       "         14.4,  15.2,  16. ,  16.8,  17.6,  18.4,  19.2,  20. ,  20.8,\n",
       "         21.6,  22.4,  23.2,  24. ,  24.8,  25.6,  26.4,  27.2,  28. ,\n",
       "         28.8,  29.6,  30.4,  31.2,  32. ,  32.8,  33.6,  34.4,  35.2,\n",
       "         36. ,  36.8,  37.6,  38.4,  39.2,  40. ]),\n",
       " <a list of 50 Patch objects>)"
      ]
     },
     "execution_count": 110,
     "metadata": {},
     "output_type": "execute_result"
    },
    {
     "data": {
      "image/png": "[encoded data removed]",
      "text/plain": [
       "<matplotlib.figure.Figure at 0x116cd2510>"
      ]
     },
     "metadata": {},
     "output_type": "display_data"
    }
   ],
   "source": [
    "df['Fare'] = df['Fare'].apply(lambda x: 40 if x > 40 else x)\n",
    "\n",
    "plt.hist(df[['Fare']].values, 50)"
   ]
  },
  {
   "cell_type": "code",
   "execution_count": 111,
   "metadata": {
    "collapsed": false
   },
   "outputs": [
    {
     "data": {
      "text/plain": [
       "(array([ 678.,    0.,    0.,    0.,    0.,    0.,    0.,    0.,    0.,\n",
       "           0.,    0.,    0.,    0.,    0.,    0.,    0.,  118.,    0.,\n",
       "           0.,    0.,    0.,    0.,    0.,    0.,    0.,    0.,    0.,\n",
       "           0.,    0.,    0.,    0.,    0.,    0.,   80.,    0.,    0.,\n",
       "           0.,    0.,    0.,    0.,    0.,    0.,    0.,    0.,    0.,\n",
       "           0.,    0.,    0.,    0.,   15.]),\n",
       " array([ 0.  ,  0.02,  0.04,  0.06,  0.08,  0.1 ,  0.12,  0.14,  0.16,\n",
       "         0.18,  0.2 ,  0.22,  0.24,  0.26,  0.28,  0.3 ,  0.32,  0.34,\n",
       "         0.36,  0.38,  0.4 ,  0.42,  0.44,  0.46,  0.48,  0.5 ,  0.52,\n",
       "         0.54,  0.56,  0.58,  0.6 ,  0.62,  0.64,  0.66,  0.68,  0.7 ,\n",
       "         0.72,  0.74,  0.76,  0.78,  0.8 ,  0.82,  0.84,  0.86,  0.88,\n",
       "         0.9 ,  0.92,  0.94,  0.96,  0.98,  1.  ]),\n",
       " <a list of 50 Patch objects>)"
      ]
     },
     "execution_count": 111,
     "metadata": {},
     "output_type": "execute_result"
    },
    {
     "data": {
      "image/png": "[encoded data removed]",
      "text/plain": [
       "<matplotlib.figure.Figure at 0x118973c10>"
      ]
     },
     "metadata": {},
     "output_type": "display_data"
    }
   ],
   "source": [
    "plt.hist(df[['Parch_s']].values, 50)"
   ]
  },
  {
   "cell_type": "code",
   "execution_count": 112,
   "metadata": {
    "collapsed": false
   },
   "outputs": [
    {
     "data": {
      "text/plain": [
       "(array([ 608.,    0.,    0.,    0.,    0.,    0.,    0.,    0.,    0.,\n",
       "           0.,    0.,    0.,    0.,    0.,    0.,    0.,  209.,    0.,\n",
       "           0.,    0.,    0.,    0.,    0.,    0.,    0.,    0.,    0.,\n",
       "           0.,    0.,    0.,    0.,    0.,    0.,   28.,    0.,    0.,\n",
       "           0.,    0.,    0.,    0.,    0.,    0.,    0.,    0.,    0.,\n",
       "           0.,    0.,    0.,    0.,   46.]),\n",
       " array([ 0.  ,  0.06,  0.12,  0.18,  0.24,  0.3 ,  0.36,  0.42,  0.48,\n",
       "         0.54,  0.6 ,  0.66,  0.72,  0.78,  0.84,  0.9 ,  0.96,  1.02,\n",
       "         1.08,  1.14,  1.2 ,  1.26,  1.32,  1.38,  1.44,  1.5 ,  1.56,\n",
       "         1.62,  1.68,  1.74,  1.8 ,  1.86,  1.92,  1.98,  2.04,  2.1 ,\n",
       "         2.16,  2.22,  2.28,  2.34,  2.4 ,  2.46,  2.52,  2.58,  2.64,\n",
       "         2.7 ,  2.76,  2.82,  2.88,  2.94,  3.  ]),\n",
       " <a list of 50 Patch objects>)"
      ]
     },
     "execution_count": 112,
     "metadata": {},
     "output_type": "execute_result"
    },
    {
     "data": {
      "image/png": "[encoded data removed]",
      "text/plain": [
       "<matplotlib.figure.Figure at 0x119fb9250>"
      ]
     },
     "metadata": {},
     "output_type": "display_data"
    }
   ],
   "source": [
    "plt.hist(df[['SibSp']].values, 50)"
   ]
  },
  {
   "cell_type": "code",
   "execution_count": 113,
   "metadata": {
    "collapsed": false
   },
   "outputs": [
    {
     "data": {
      "text/plain": [
       "(array([  49.,    0.,    0.,    0.,    0.,    0.,   98.,    0.,    0.,\n",
       "           0.,    0.,  137.,    0.,    0.,    0.,    0.,   30.,    0.,\n",
       "           0.,    0.,    0.,    0.,    0.,    0.,    0.,    0.,    0.,\n",
       "           0.,    0.,    0.,    0.,    0.,    0.,   51.,    0.,    0.,\n",
       "           0.,    0.,    0.,  186.,    0.,    0.,    0.,    0.,  272.,\n",
       "           0.,    0.,    0.,    0.,   68.]),\n",
       " array([-1.  , -0.94, -0.88, -0.82, -0.76, -0.7 , -0.64, -0.58, -0.52,\n",
       "        -0.46, -0.4 , -0.34, -0.28, -0.22, -0.16, -0.1 , -0.04,  0.02,\n",
       "         0.08,  0.14,  0.2 ,  0.26,  0.32,  0.38,  0.44,  0.5 ,  0.56,\n",
       "         0.62,  0.68,  0.74,  0.8 ,  0.86,  0.92,  0.98,  1.04,  1.1 ,\n",
       "         1.16,  1.22,  1.28,  1.34,  1.4 ,  1.46,  1.52,  1.58,  1.64,\n",
       "         1.7 ,  1.76,  1.82,  1.88,  1.94,  2.  ]),\n",
       " <a list of 50 Patch objects>)"
      ]
     },
     "execution_count": 113,
     "metadata": {},
     "output_type": "execute_result"
    },
    {
     "data": {
      "image/png": "[encoded data removed]",
      "text/plain": [
       "<matplotlib.figure.Figure at 0x11a8c0f50>"
      ]
     },
     "metadata": {},
     "output_type": "display_data"
    }
   ],
   "source": [
    "plt.hist(df[['Age_with_Sex']].values, 50)"
   ]
  },
  {
   "cell_type": "code",
   "execution_count": null,
   "metadata": {
    "collapsed": true
   },
   "outputs": [],
   "source": []
  },
  {
   "cell_type": "code",
   "execution_count": 114,
   "metadata": {
    "collapsed": true
   },
   "outputs": [],
   "source": [
    "str = 'Chronopoulos, Mr. Apostolos'"
   ]
  },
  {
   "cell_type": "code",
   "execution_count": 148,
   "metadata": {
    "collapsed": false
   },
   "outputs": [
    {
     "name": "stdout",
     "output_type": "stream",
     "text": [
      "['Capt' 'Col' 'Don' 'Dr' 'Jonkheer' 'Lady' 'Major' 'Master' 'Miss' 'Mlle'\n",
      " 'Mme' 'Mr' 'Mrs' 'Ms' 'Rev' 'Sir' 'the Countess']\n"
     ]
    }
   ],
   "source": [
    "df['Title'] = df['Name'].apply(lambda x: x.replace('.',',').split(',')[1].strip())\n",
    "uniq_title = np.unique(df['Title'])\n",
    "print uniq_title"
   ]
  },
  {
   "cell_type": "code",
   "execution_count": null,
   "metadata": {
    "collapsed": false
   },
   "outputs": [],
   "source": []
  },
  {
   "cell_type": "code",
   "execution_count": 149,
   "metadata": {
    "collapsed": false
   },
   "outputs": [
    {
     "data": {
      "text/plain": [
       "{'Capt': 1.0,\n",
       " 'Col': 0.5,\n",
       " 'Don': 1.0,\n",
       " 'Dr': 0.5714285714285714,\n",
       " 'Jonkheer': 1.0,\n",
       " 'Lady': 0.0,\n",
       " 'Major': 0.5,\n",
       " 'Master': 0.42500000000000004,\n",
       " 'Miss': 0.30219780219780223,\n",
       " 'Mlle': 0.0,\n",
       " 'Mme': 0.0,\n",
       " 'Mr': 0.8433268858800773,\n",
       " 'Mrs': 0.20799999999999996,\n",
       " 'Ms': 0.0,\n",
       " 'Rev': 1.0,\n",
       " 'Sir': 0.0,\n",
       " 'the Countess': 0.0}"
      ]
     },
     "execution_count": 149,
     "metadata": {},
     "output_type": "execute_result"
    }
   ],
   "source": [
    "title_mapping = {}\n",
    "\n",
    "for t in uniq_title:\n",
    "    x = df[df['Title'] == t]\n",
    "    title_mapping[t] = 1 - x['Survived'].sum()/float(len(x['Survived']))\n",
    "\n",
    "title_mapping"
   ]
  },
  {
   "cell_type": "code",
   "execution_count": 150,
   "metadata": {
    "collapsed": true
   },
   "outputs": [],
   "source": [
    "df['Title_s'] = df['Title'].map(title_mapping)"
   ]
  },
  {
   "cell_type": "code",
   "execution_count": 152,
   "metadata": {
    "collapsed": false
   },
   "outputs": [
    {
     "data": {
      "text/plain": [
       "0      0.843327\n",
       "1      0.208000\n",
       "2      0.302198\n",
       "3      0.208000\n",
       "4      0.843327\n",
       "5      0.843327\n",
       "6      0.843327\n",
       "7      0.425000\n",
       "8      0.208000\n",
       "9      0.208000\n",
       "10     0.302198\n",
       "11     0.302198\n",
       "12     0.843327\n",
       "13     0.843327\n",
       "14     0.302198\n",
       "15     0.208000\n",
       "16     0.425000\n",
       "17     0.843327\n",
       "18     0.208000\n",
       "19     0.208000\n",
       "20     0.843327\n",
       "21     0.843327\n",
       "22     0.302198\n",
       "23     0.843327\n",
       "24     0.302198\n",
       "25     0.208000\n",
       "26     0.843327\n",
       "27     0.843327\n",
       "28     0.302198\n",
       "29     0.843327\n",
       "         ...   \n",
       "861    0.843327\n",
       "862    0.208000\n",
       "863    0.302198\n",
       "864    0.843327\n",
       "865    0.208000\n",
       "866    0.302198\n",
       "867    0.843327\n",
       "868    0.843327\n",
       "869    0.425000\n",
       "870    0.843327\n",
       "871    0.208000\n",
       "872    0.843327\n",
       "873    0.843327\n",
       "874    0.208000\n",
       "875    0.302198\n",
       "876    0.843327\n",
       "877    0.843327\n",
       "878    0.843327\n",
       "879    0.208000\n",
       "880    0.208000\n",
       "881    0.843327\n",
       "882    0.302198\n",
       "883    0.843327\n",
       "884    0.843327\n",
       "885    0.208000\n",
       "886    1.000000\n",
       "887    0.302198\n",
       "888    0.302198\n",
       "889    0.843327\n",
       "890    0.843327\n",
       "Name: Title_s, dtype: float64"
      ]
     },
     "execution_count": 152,
     "metadata": {},
     "output_type": "execute_result"
    }
   ],
   "source": [
    "df['Title_s']"
   ]
  },
  {
   "cell_type": "code",
   "execution_count": null,
   "metadata": {
    "collapsed": true
   },
   "outputs": [],
   "source": []
  }
 ],
 "metadata": {
  "kernelspec": {
   "display_name": "Python 2",
   "language": "python",
   "name": "python2"
  },
  "language_info": {
   "codemirror_mode": {
    "name": "ipython",
    "version": 2
   },
   "file_extension": ".py",
   "mimetype": "text/x-python",
   "name": "python",
   "nbconvert_exporter": "python",
   "pygments_lexer": "ipython2",
   "version": "2.7.11"
  }
 },
 "nbformat": 4,
 "nbformat_minor": 0
}

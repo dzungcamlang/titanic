{
 "cells": [
  {
   "cell_type": "markdown",
   "metadata": {},
   "source": [
    "# Kaggle Titanic Demo1.2 SVM"
   ]
  },
  {
   "cell_type": "code",
   "execution_count": 1,
   "metadata": {
    "collapsed": false
   },
   "outputs": [
    {
     "name": "stderr",
     "output_type": "stream",
     "text": [
      "Vendor:  Continuum Analytics, Inc.\n",
      "Package: mkl\n",
      "Message: trial mode expires in 25 days\n"
     ]
    }
   ],
   "source": [
    "import pylab as plt\n",
    "%matplotlib inline\n",
    "import numpy as np\n",
    "import pandas as pd\n",
    "import math\n",
    "\n",
    "from featureEngineering6 import feature_engineering\n",
    "from plot_learning_curve import plot_learning_curve\n",
    "\n",
    "Kaggle_train=pd.read_csv('data/train.csv', sep=',')\n",
    "Kaggle_test=pd.read_csv('data/test.csv', sep=',')\n",
    "\n",
    "df_train, df_test = feature_engineering(Kaggle_train, Kaggle_test)\n",
    "\n",
    "feature= ['Pclass','FamilySurvived', 'FamilyDied',\n",
    "           'Title_s_Master', 'Title_s_Miss', 'Title_s_Mr', 'Title_s_Mrs',\n",
    "          ]\n",
    "\n",
    "# Acc: 0.886 +/- 0.017, F1: 0.842 +/- 0.025 # with max_depth = 4\n",
    "# KS-0.81340 by max_depth=3\n",
    "\n",
    "X, y = df_train[feature], Kaggle_train['Survived']"
   ]
  },
  {
   "cell_type": "code",
   "execution_count": 2,
   "metadata": {
    "collapsed": false
   },
   "outputs": [
    {
     "data": {
      "text/html": [
       "<div>\n",
       "<table border=\"1\" class=\"dataframe\">\n",
       "  <thead>\n",
       "    <tr style=\"text-align: right;\">\n",
       "      <th></th>\n",
       "      <th>Pclass</th>\n",
       "      <th>FamilySurvived</th>\n",
       "      <th>FamilyDied</th>\n",
       "      <th>Title_s_Master</th>\n",
       "      <th>Title_s_Miss</th>\n",
       "      <th>Title_s_Mr</th>\n",
       "      <th>Title_s_Mrs</th>\n",
       "    </tr>\n",
       "  </thead>\n",
       "  <tbody>\n",
       "    <tr>\n",
       "      <th>0</th>\n",
       "      <td>3</td>\n",
       "      <td>0</td>\n",
       "      <td>2</td>\n",
       "      <td>0</td>\n",
       "      <td>0</td>\n",
       "      <td>1</td>\n",
       "      <td>0</td>\n",
       "    </tr>\n",
       "    <tr>\n",
       "      <th>1</th>\n",
       "      <td>1</td>\n",
       "      <td>1</td>\n",
       "      <td>0</td>\n",
       "      <td>0</td>\n",
       "      <td>0</td>\n",
       "      <td>0</td>\n",
       "      <td>1</td>\n",
       "    </tr>\n",
       "    <tr>\n",
       "      <th>2</th>\n",
       "      <td>3</td>\n",
       "      <td>0</td>\n",
       "      <td>0</td>\n",
       "      <td>0</td>\n",
       "      <td>1</td>\n",
       "      <td>0</td>\n",
       "      <td>0</td>\n",
       "    </tr>\n",
       "    <tr>\n",
       "      <th>3</th>\n",
       "      <td>1</td>\n",
       "      <td>1</td>\n",
       "      <td>1</td>\n",
       "      <td>0</td>\n",
       "      <td>0</td>\n",
       "      <td>0</td>\n",
       "      <td>1</td>\n",
       "    </tr>\n",
       "    <tr>\n",
       "      <th>4</th>\n",
       "      <td>3</td>\n",
       "      <td>0</td>\n",
       "      <td>0</td>\n",
       "      <td>0</td>\n",
       "      <td>0</td>\n",
       "      <td>1</td>\n",
       "      <td>0</td>\n",
       "    </tr>\n",
       "  </tbody>\n",
       "</table>\n",
       "</div>"
      ],
      "text/plain": [
       "   Pclass  FamilySurvived  FamilyDied  Title_s_Master  Title_s_Miss  \\\n",
       "0       3               0           2               0             0   \n",
       "1       1               1           0               0             0   \n",
       "2       3               0           0               0             1   \n",
       "3       1               1           1               0             0   \n",
       "4       3               0           0               0             0   \n",
       "\n",
       "   Title_s_Mr  Title_s_Mrs  \n",
       "0           1            0  \n",
       "1           0            1  \n",
       "2           0            0  \n",
       "3           0            1  \n",
       "4           1            0  "
      ]
     },
     "execution_count": 2,
     "metadata": {},
     "output_type": "execute_result"
    }
   ],
   "source": [
    "X.head()"
   ]
  },
  {
   "cell_type": "code",
   "execution_count": 3,
   "metadata": {
    "collapsed": true
   },
   "outputs": [],
   "source": [
    "from sklearn.cross_validation import train_test_split\n",
    "from sklearn import cross_validation\n",
    "\n",
    "from sklearn.pipeline import Pipeline\n",
    "\n",
    "from sklearn.feature_selection import SelectFromModel\n",
    "from sklearn.preprocessing import StandardScaler\n",
    "from sklearn.decomposition import PCA\n",
    "from sklearn.decomposition import KernelPCA\n",
    "from sklearn.ensemble import RandomForestClassifier\n",
    "from sklearn.neighbors import KNeighborsClassifier\n",
    "from sklearn.linear_model import LogisticRegression\n",
    "from sklearn.svm import SVC\n",
    "from sklearn.tree import DecisionTreeClassifier\n",
    "\n",
    "from sklearn.ensemble import AdaBoostClassifier\n",
    "from sklearn.ensemble import GradientBoostingClassifier\n",
    "\n",
    "from sklearn.grid_search import GridSearchCV\n",
    "\n",
    "from sklearn.metrics import accuracy_score, precision_score, recall_score, f1_score"
   ]
  },
  {
   "cell_type": "markdown",
   "metadata": {},
   "source": [
    "## Train, Test split"
   ]
  },
  {
   "cell_type": "code",
   "execution_count": 4,
   "metadata": {
    "collapsed": true
   },
   "outputs": [],
   "source": [
    "X_train, X_test, y_train, y_test = train_test_split(X, y, test_size=0.2, random_state=1)"
   ]
  },
  {
   "cell_type": "code",
   "execution_count": 5,
   "metadata": {
    "collapsed": false
   },
   "outputs": [
    {
     "name": "stdout",
     "output_type": "stream",
     "text": [
      "0.891853932584\n",
      "{'clf__gamma': 0.05, 'clf__C': 30}\n"
     ]
    }
   ],
   "source": [
    "pipe = Pipeline([\n",
    "        ('scaler', StandardScaler()),\n",
    "        #('pca', KernelPCA(kernel='rbf')),\n",
    "        ('clf', SVC(random_state=1, class_weight={0:0.5, 1:0.5}))\n",
    "        #('clf', KNeighborsClassifier())\n",
    "    ])\n",
    "\n",
    "\n",
    "C_range = [0.001, 0.01, 0.1, 1.0, 10, 30, 100]\n",
    "gamma_range = [0.05, 0.1, 0.25, 0.5, 1.0, 3.0, 9.0]\n",
    "\n",
    "param_grid = [\n",
    "    {\n",
    "        'clf__C': C_range,\n",
    "        'clf__gamma': gamma_range\n",
    "    }\n",
    "]\n",
    "\n",
    "gs = GridSearchCV(estimator=pipe,\n",
    "                  param_grid=param_grid,\n",
    "                  scoring='accuracy',\n",
    "                  cv=8,\n",
    "                  #verbose=3,\n",
    "                  n_jobs=-1)\n",
    "\n",
    "gs = gs.fit(X_train, y_train)\n",
    "\n",
    "print gs.best_score_\n",
    "\n",
    "print gs.best_params_"
   ]
  },
  {
   "cell_type": "code",
   "execution_count": 6,
   "metadata": {
    "collapsed": true
   },
   "outputs": [],
   "source": [
    "clf = gs.best_estimator_"
   ]
  },
  {
   "cell_type": "code",
   "execution_count": 7,
   "metadata": {
    "collapsed": false
   },
   "outputs": [
    {
     "data": {
      "text/plain": [
       "Pipeline(steps=[('scaler', StandardScaler(copy=True, with_mean=True, with_std=True)), ('clf', SVC(C=30, cache_size=200, class_weight={0: 0.5, 1: 0.5}, coef0=0.0,\n",
       "  decision_function_shape=None, degree=3, gamma=0.05, kernel='rbf',\n",
       "  max_iter=-1, probability=False, random_state=1, shrinking=True,\n",
       "  tol=0.001, verbose=False))])"
      ]
     },
     "execution_count": 7,
     "metadata": {},
     "output_type": "execute_result"
    }
   ],
   "source": [
    "clf.fit(X_train, y_train)"
   ]
  },
  {
   "cell_type": "code",
   "execution_count": 8,
   "metadata": {
    "collapsed": false
   },
   "outputs": [
    {
     "name": "stdout",
     "output_type": "stream",
     "text": [
      "Training Acc: 0.899\n",
      "Training Precision: 0.822\n",
      "Training Recall: 0.902\n",
      "Training F1: 0.860\n"
     ]
    }
   ],
   "source": [
    "print( 'Training Acc: %.3f' % accuracy_score(clf.predict(X_train), y_train))\n",
    "print( 'Training Precision: %.3f' % precision_score(clf.predict(X_train), y_train))\n",
    "print( 'Training Recall: %.3f' % recall_score(clf.predict(X_train), y_train))\n",
    "print( 'Training F1: %.3f' % f1_score(clf.predict(X_train), y_train))"
   ]
  },
  {
   "cell_type": "code",
   "execution_count": 9,
   "metadata": {
    "collapsed": false
   },
   "outputs": [
    {
     "name": "stdout",
     "output_type": "stream",
     "text": [
      "Test Acc: 0.860\n",
      "Test Precision: 0.753\n",
      "Test Recall: 0.887\n",
      "Test F1: 0.815\n"
     ]
    }
   ],
   "source": [
    "print( 'Test Acc: %.3f' % accuracy_score(clf.predict(X_test), y_test))\n",
    "print( 'Test Precision: %.3f' % precision_score(clf.predict(X_test), y_test))\n",
    "print( 'Test Recall: %.3f' % recall_score(clf.predict(X_test), y_test))\n",
    "print( 'Test F1: %.3f' % f1_score(clf.predict(X_test), y_test))"
   ]
  },
  {
   "cell_type": "markdown",
   "metadata": {},
   "source": [
    "## Model evaluation"
   ]
  },
  {
   "cell_type": "code",
   "execution_count": 15,
   "metadata": {
    "collapsed": false
   },
   "outputs": [
    {
     "name": "stdout",
     "output_type": "stream",
     "text": [
      "Cross validation check for Acc: 0.888 +/- 0.015\n"
     ]
    }
   ],
   "source": [
    "scores = cross_validation.cross_val_score(clf, X, y, scoring='accuracy', cv=8, n_jobs=-1)\n",
    "print('Cross validation check for Acc: %.3f +/- %.3f' % (np.mean(scores), np.std(scores)))"
   ]
  },
  {
   "cell_type": "code",
   "execution_count": 16,
   "metadata": {
    "collapsed": false
   },
   "outputs": [
    {
     "name": "stdout",
     "output_type": "stream",
     "text": [
      "Cross validation check for F1: 0.844 +/- 0.024\n"
     ]
    }
   ],
   "source": [
    "scores = cross_validation.cross_val_score(clf, X, y, scoring='f1', cv=8, n_jobs=-1)\n",
    "print('Cross validation check for F1: %.3f +/- %.3f' % (np.mean(scores), np.std(scores)))"
   ]
  },
  {
   "cell_type": "code",
   "execution_count": 17,
   "metadata": {
    "collapsed": true
   },
   "outputs": [],
   "source": [
    "from plot_learning_curve import plot_learning_curve"
   ]
  },
  {
   "cell_type": "code",
   "execution_count": 18,
   "metadata": {
    "collapsed": false
   },
   "outputs": [
    {
     "data": {
      "text/plain": [
       "<module 'matplotlib.pyplot' from '/Users/fuyangliu/anaconda/lib/python2.7/site-packages/matplotlib/pyplot.pyc'>"
      ]
     },
     "execution_count": 18,
     "metadata": {},
     "output_type": "execute_result"
    },
    {
     "data": {
      "image/png": "[encoded data removed]",
      "text/plain": [
       "<matplotlib.figure.Figure at 0x1137e4610>"
      ]
     },
     "metadata": {},
     "output_type": "display_data"
    }
   ],
   "source": [
    "plot_learning_curve(clf, 'Acc', X, y, ylim=(0.6, 0.98), cv=8,\n",
    "                        n_jobs=-1, train_sizes=np.linspace(.1, 1.0, 5), scoring='accuracy')"
   ]
  },
  {
   "cell_type": "code",
   "execution_count": 14,
   "metadata": {
    "collapsed": false
   },
   "outputs": [
    {
     "data": {
      "text/plain": [
       "<module 'matplotlib.pyplot' from '/Users/fuyangliu/anaconda/lib/python2.7/site-packages/matplotlib/pyplot.pyc'>"
      ]
     },
     "execution_count": 14,
     "metadata": {},
     "output_type": "execute_result"
    },
    {
     "data": {
      "image/png": "[encoded data removed]",
      "text/plain": [
       "<matplotlib.figure.Figure at 0x113b29c90>"
      ]
     },
     "metadata": {},
     "output_type": "display_data"
    }
   ],
   "source": [
    "plot_learning_curve(clf, 'F1', X, y, ylim=(0.6, 0.98), cv=8,\n",
    "                        n_jobs=-1, train_sizes=np.linspace(.1, 1.0, 5), scoring='f1')"
   ]
  },
  {
   "cell_type": "markdown",
   "metadata": {},
   "source": [
    "## Prediction"
   ]
  },
  {
   "cell_type": "code",
   "execution_count": null,
   "metadata": {
    "collapsed": false
   },
   "outputs": [],
   "source": [
    "gs = gs.fit(X, y)\n",
    "\n",
    "print gs.best_score_\n",
    "\n",
    "print gs.best_params_"
   ]
  },
  {
   "cell_type": "code",
   "execution_count": null,
   "metadata": {
    "collapsed": true
   },
   "outputs": [],
   "source": [
    "clf = gs.best_estimator_"
   ]
  },
  {
   "cell_type": "code",
   "execution_count": null,
   "metadata": {
    "collapsed": false
   },
   "outputs": [],
   "source": [
    "predictions = clf.predict(df_test[feature])"
   ]
  },
  {
   "cell_type": "code",
   "execution_count": null,
   "metadata": {
    "collapsed": true
   },
   "outputs": [],
   "source": [
    "submission = pd.DataFrame({\n",
    "        \"PassengerId\": Kaggle_test[\"PassengerId\"],\n",
    "        \"Survived\": predictions\n",
    "    })\n",
    "submission.to_csv(\"Demo1.2-SVC.csv\", index=False)"
   ]
  },
  {
   "cell_type": "markdown",
   "metadata": {
    "collapsed": false
   },
   "source": [
    "### This gives Kaggle score: 0.74\n"
   ]
  },
  {
   "cell_type": "code",
   "execution_count": null,
   "metadata": {
    "collapsed": true
   },
   "outputs": [],
   "source": []
  }
 ],
 "metadata": {
  "kernelspec": {
   "display_name": "Python 2",
   "language": "python",
   "name": "python2"
  },
  "language_info": {
   "codemirror_mode": {
    "name": "ipython",
    "version": 2
   },
   "file_extension": ".py",
   "mimetype": "text/x-python",
   "name": "python",
   "nbconvert_exporter": "python",
   "pygments_lexer": "ipython2",
   "version": "2.7.11"
  }
 },
 "nbformat": 4,
 "nbformat_minor": 0
}

{
 "cells": [
  {
   "cell_type": "code",
   "execution_count": 1,
   "metadata": {
    "collapsed": false
   },
   "outputs": [
    {
     "name": "stderr",
     "output_type": "stream",
     "text": [
      "Vendor:  Continuum Analytics, Inc.\n",
      "Package: mkl\n",
      "Message: trial mode expires in 28 days\n"
     ]
    }
   ],
   "source": [
    "import pandas as pd\n",
    "import pylab as plt\n",
    "%matplotlib inline\n",
    "import numpy as np\n",
    "import math\n",
    "\n",
    "df=pd.read_csv('data/train.csv', sep=',')\n",
    "\n",
    "features = ['Fare_s','Sex_', 'Title_s', 'Pclass_s', 'Age_s','HasAge','Parch_s', 'Cabin_s', 'Embarked_s']\n",
    "#features = ['Sex_', 'Title_s', 'Pclass_s', 'Age_s']\n",
    "#features = ['Sex_', 'Age_s_e']\n",
    "\n",
    "from sklearn.linear_model import LogisticRegression\n",
    "lr_model = LogisticRegression(C=0.1, random_state=0, n_jobs=-1, class_weight={0: 0.7, 1: 1-0.7})\n",
    "\n",
    "from sklearn.preprocessing import PolynomialFeatures\n",
    "poly = PolynomialFeatures(5)\n",
    "\n",
    "from sklearn.metrics import accuracy_score\n",
    "from sklearn.cross_validation import StratifiedKFold\n",
    "\n",
    "from sklearn.metrics import confusion_matrix\n",
    "from sklearn.metrics import precision_score, recall_score, f1_score, accuracy_score\n"
   ]
  },
  {
   "cell_type": "code",
   "execution_count": 2,
   "metadata": {
    "collapsed": false
   },
   "outputs": [
    {
     "data": {
      "text/html": [
       "<div>\n",
       "<table border=\"1\" class=\"dataframe\">\n",
       "  <thead>\n",
       "    <tr style=\"text-align: right;\">\n",
       "      <th></th>\n",
       "      <th>PassengerId</th>\n",
       "      <th>Survived</th>\n",
       "      <th>Pclass</th>\n",
       "      <th>Name</th>\n",
       "      <th>Sex</th>\n",
       "      <th>Age</th>\n",
       "      <th>SibSp</th>\n",
       "      <th>Parch</th>\n",
       "      <th>Ticket</th>\n",
       "      <th>Fare</th>\n",
       "      <th>Cabin</th>\n",
       "      <th>Embarked</th>\n",
       "    </tr>\n",
       "  </thead>\n",
       "  <tbody>\n",
       "    <tr>\n",
       "      <th>0</th>\n",
       "      <td>1</td>\n",
       "      <td>0</td>\n",
       "      <td>3</td>\n",
       "      <td>Braund, Mr. Owen Harris</td>\n",
       "      <td>male</td>\n",
       "      <td>22</td>\n",
       "      <td>1</td>\n",
       "      <td>0</td>\n",
       "      <td>A/5 21171</td>\n",
       "      <td>7.2500</td>\n",
       "      <td>NaN</td>\n",
       "      <td>S</td>\n",
       "    </tr>\n",
       "    <tr>\n",
       "      <th>1</th>\n",
       "      <td>2</td>\n",
       "      <td>1</td>\n",
       "      <td>1</td>\n",
       "      <td>Cumings, Mrs. John Bradley (Florence Briggs Th...</td>\n",
       "      <td>female</td>\n",
       "      <td>38</td>\n",
       "      <td>1</td>\n",
       "      <td>0</td>\n",
       "      <td>PC 17599</td>\n",
       "      <td>71.2833</td>\n",
       "      <td>C85</td>\n",
       "      <td>C</td>\n",
       "    </tr>\n",
       "    <tr>\n",
       "      <th>2</th>\n",
       "      <td>3</td>\n",
       "      <td>1</td>\n",
       "      <td>3</td>\n",
       "      <td>Heikkinen, Miss. Laina</td>\n",
       "      <td>female</td>\n",
       "      <td>26</td>\n",
       "      <td>0</td>\n",
       "      <td>0</td>\n",
       "      <td>STON/O2. 3101282</td>\n",
       "      <td>7.9250</td>\n",
       "      <td>NaN</td>\n",
       "      <td>S</td>\n",
       "    </tr>\n",
       "    <tr>\n",
       "      <th>3</th>\n",
       "      <td>4</td>\n",
       "      <td>1</td>\n",
       "      <td>1</td>\n",
       "      <td>Futrelle, Mrs. Jacques Heath (Lily May Peel)</td>\n",
       "      <td>female</td>\n",
       "      <td>35</td>\n",
       "      <td>1</td>\n",
       "      <td>0</td>\n",
       "      <td>113803</td>\n",
       "      <td>53.1000</td>\n",
       "      <td>C123</td>\n",
       "      <td>S</td>\n",
       "    </tr>\n",
       "    <tr>\n",
       "      <th>4</th>\n",
       "      <td>5</td>\n",
       "      <td>0</td>\n",
       "      <td>3</td>\n",
       "      <td>Allen, Mr. William Henry</td>\n",
       "      <td>male</td>\n",
       "      <td>35</td>\n",
       "      <td>0</td>\n",
       "      <td>0</td>\n",
       "      <td>373450</td>\n",
       "      <td>8.0500</td>\n",
       "      <td>NaN</td>\n",
       "      <td>S</td>\n",
       "    </tr>\n",
       "  </tbody>\n",
       "</table>\n",
       "</div>"
      ],
      "text/plain": [
       "   PassengerId  Survived  Pclass  \\\n",
       "0            1         0       3   \n",
       "1            2         1       1   \n",
       "2            3         1       3   \n",
       "3            4         1       1   \n",
       "4            5         0       3   \n",
       "\n",
       "                                                Name     Sex  Age  SibSp  \\\n",
       "0                            Braund, Mr. Owen Harris    male   22      1   \n",
       "1  Cumings, Mrs. John Bradley (Florence Briggs Th...  female   38      1   \n",
       "2                             Heikkinen, Miss. Laina  female   26      0   \n",
       "3       Futrelle, Mrs. Jacques Heath (Lily May Peel)  female   35      1   \n",
       "4                           Allen, Mr. William Henry    male   35      0   \n",
       "\n",
       "   Parch            Ticket     Fare Cabin Embarked  \n",
       "0      0         A/5 21171   7.2500   NaN        S  \n",
       "1      0          PC 17599  71.2833   C85        C  \n",
       "2      0  STON/O2. 3101282   7.9250   NaN        S  \n",
       "3      0            113803  53.1000  C123        S  \n",
       "4      0            373450   8.0500   NaN        S  "
      ]
     },
     "execution_count": 2,
     "metadata": {},
     "output_type": "execute_result"
    }
   ],
   "source": [
    "df.head()"
   ]
  },
  {
   "cell_type": "markdown",
   "metadata": {},
   "source": [
    "## Transform features"
   ]
  },
  {
   "cell_type": "code",
   "execution_count": 3,
   "metadata": {
    "collapsed": false
   },
   "outputs": [],
   "source": [
    "def feature_engineering(_df,title_mapping, cabin_mapping, embarked_mapping):\n",
    "    _df['Sex_'] = _df['Sex'].apply(lambda x: 0 if x=='female' else 1)\n",
    "    \n",
    "    _df['Fare'] = _df['Fare'].fillna(10)\n",
    "    _df['Fare'] = _df['Fare'].apply(lambda x: 40 if x > 40 else x)\n",
    "    \n",
    "    fareMax = _df['Fare'].max()\n",
    "    fareMin = _df['Fare'].min()\n",
    "\n",
    "    _df['Fare_s'] = (_df['Fare']-fareMin)/(fareMax-fareMin)\n",
    "    \n",
    "    _df['Pclass_s'] = _df['Pclass']/3\n",
    "    \n",
    "    _df['SibSp'] = _df['SibSp'].apply(lambda x: 3 if x > 3 else x)\n",
    "    _df['SibSp_s'] = _df['SibSp']/_df['SibSp'].max()\n",
    "    \n",
    "    _df['Parch'] = _df['Parch'].apply(lambda x: 3 if x > 3 else x)\n",
    "    _df['Parch_s'] = _df['Parch']/_df['Parch'].max()\n",
    "\n",
    "    _df['HasAge'] = _df['Age'].apply(lambda x: 0 if np.isnan(x) else 1)\n",
    "\n",
    "    _df['Age_'] = _df['Age'].fillna(24)\n",
    "    _df['Age_'] = _df['Age_'].apply(lambda x: 1 if x <= 8 else x)\n",
    "    _df['Age_'] = _df['Age_'].apply(lambda x: 10 if x >8 and x <= 15 else x)\n",
    "    _df['Age_'] = _df['Age_'].apply(lambda x: 18 if x >15 and x <= 23 else x)\n",
    "    _df['Age_'] = _df['Age_'].apply(lambda x: 24 if x >23 and x <= 24 else x)\n",
    "    _df['Age_'] = _df['Age_'].apply(lambda x: 34 if x >24 and x <= 44 else x)\n",
    "    _df['Age_'] = _df['Age_'].apply(lambda x: 50 if x >44 and x <= 54 else x)\n",
    "    _df['Age_'] = _df['Age_'].apply(lambda x: 60 if x >54 else x)\n",
    "    ageMax = _df['Age_'].max()\n",
    "    ageMin = _df['Age_'].min()\n",
    "\n",
    "    _df['Age_s'] = (_df['Age_']-ageMin)/(ageMax-ageMin)\n",
    "    \n",
    "    \n",
    "    _df['Age_with_Sex'] = _df['Age_s'] + _df['Sex_']\n",
    "    \n",
    "    _df['Title'] = _df['Name'].apply(lambda x: x.replace('.',',').split(',')[1].strip())\n",
    "    _df['Title_s'] = _df['Title'].map(title_mapping)\n",
    "    _df['Title_s'] = _df['Title_s'].fillna(0);\n",
    "    \n",
    "    # Cabin:\n",
    "    _df['Cabin_'] = _df['Cabin'].apply(lambda x: 'X' if isinstance(x, float) else x[0])\n",
    "    _df['Cabin_s'] = _df['Cabin_'].map(cabin_mapping)\n",
    "    \n",
    "    # Embarked:\n",
    "    _df['Embarked_'] = _df['Embarked'].apply(lambda x: 'S' if isinstance(x, float) else x)\n",
    "    _df['Embarked_s'] = _df['Embarked_'].map(embarked_mapping)\n",
    "    \n",
    "########################\n",
    "\n"
   ]
  },
  {
   "cell_type": "markdown",
   "metadata": {},
   "source": [
    "## Feature engineering"
   ]
  },
  {
   "cell_type": "code",
   "execution_count": 4,
   "metadata": {
    "collapsed": false
   },
   "outputs": [],
   "source": [
    "df['Title'] = df['Name'].apply(lambda x: x.replace('.',',').split(',')[1].strip())\n",
    "df['Cabin_'] = df['Cabin'].apply(lambda x: 'X' if isinstance(x, float) else x[0])\n",
    "df['Embarked_'] = df['Embarked'].apply(lambda x: 'S' if isinstance(x, float) else x)\n",
    "\n",
    "title_mapping={}\n",
    "for t in np.unique(df['Title']):\n",
    "    x = df[df['Title'] == t]\n",
    "    title_mapping[t] = 1 - x['Survived'].sum()/float(len(x['Survived']))\n",
    "\n",
    "cabin_mapping={}\n",
    "for t in np.unique(df['Cabin_']):\n",
    "    x = df[df['Cabin_'] == t]\n",
    "    cabin_mapping[t] = 1 - x['Survived'].sum()/float(len(x['Survived']))\n",
    "    \n",
    "embarked_mapping={}\n",
    "for t in np.unique(df['Embarked_']):\n",
    "    x = df[df['Embarked_'] == t]\n",
    "    embarked_mapping[t] = 1 - x['Survived'].sum()/float(1+len(x['Survived']))\n",
    "\n",
    "feature_engineering(df, title_mapping, cabin_mapping, embarked_mapping)\n",
    "\n"
   ]
  },
  {
   "cell_type": "code",
   "execution_count": 5,
   "metadata": {
    "collapsed": false
   },
   "outputs": [
    {
     "data": {
      "text/plain": [
       "{'Capt': 1.0,\n",
       " 'Col': 0.5,\n",
       " 'Don': 1.0,\n",
       " 'Dr': 0.5714285714285714,\n",
       " 'Jonkheer': 1.0,\n",
       " 'Lady': 0.0,\n",
       " 'Major': 0.5,\n",
       " 'Master': 0.42500000000000004,\n",
       " 'Miss': 0.30219780219780223,\n",
       " 'Mlle': 0.0,\n",
       " 'Mme': 0.0,\n",
       " 'Mr': 0.8433268858800773,\n",
       " 'Mrs': 0.20799999999999996,\n",
       " 'Ms': 0.0,\n",
       " 'Rev': 1.0,\n",
       " 'Sir': 0.0,\n",
       " 'the Countess': 0.0}"
      ]
     },
     "execution_count": 5,
     "metadata": {},
     "output_type": "execute_result"
    }
   ],
   "source": [
    "title_mapping"
   ]
  },
  {
   "cell_type": "code",
   "execution_count": 6,
   "metadata": {
    "collapsed": false
   },
   "outputs": [
    {
     "data": {
      "text/plain": [
       "{'A': 0.5333333333333333,\n",
       " 'B': 0.25531914893617025,\n",
       " 'C': 0.4067796610169492,\n",
       " 'D': 0.24242424242424243,\n",
       " 'E': 0.25,\n",
       " 'F': 0.3846153846153846,\n",
       " 'G': 0.5,\n",
       " 'T': 1.0,\n",
       " 'X': 0.7001455604075691}"
      ]
     },
     "execution_count": 6,
     "metadata": {},
     "output_type": "execute_result"
    }
   ],
   "source": [
    "cabin_mapping"
   ]
  },
  {
   "cell_type": "code",
   "execution_count": 7,
   "metadata": {
    "collapsed": false
   },
   "outputs": [
    {
     "data": {
      "text/plain": [
       "{'C': 0.4497041420118343, 'Q': 0.6153846153846154, 'S': 0.6615146831530139}"
      ]
     },
     "execution_count": 7,
     "metadata": {},
     "output_type": "execute_result"
    }
   ],
   "source": [
    "embarked_mapping"
   ]
  },
  {
   "cell_type": "code",
   "execution_count": 8,
   "metadata": {
    "collapsed": false
   },
   "outputs": [
    {
     "data": {
      "text/html": [
       "<div>\n",
       "<table border=\"1\" class=\"dataframe\">\n",
       "  <thead>\n",
       "    <tr style=\"text-align: right;\">\n",
       "      <th></th>\n",
       "      <th>Fare_s</th>\n",
       "      <th>Sex_</th>\n",
       "      <th>Title_s</th>\n",
       "      <th>Pclass_s</th>\n",
       "      <th>Age_s</th>\n",
       "      <th>HasAge</th>\n",
       "      <th>Parch_s</th>\n",
       "      <th>Cabin_s</th>\n",
       "      <th>Embarked_s</th>\n",
       "    </tr>\n",
       "  </thead>\n",
       "  <tbody>\n",
       "    <tr>\n",
       "      <th>0</th>\n",
       "      <td>0.181250</td>\n",
       "      <td>1</td>\n",
       "      <td>0.843327</td>\n",
       "      <td>1.000000</td>\n",
       "      <td>0.288136</td>\n",
       "      <td>1</td>\n",
       "      <td>0</td>\n",
       "      <td>0.700146</td>\n",
       "      <td>0.661515</td>\n",
       "    </tr>\n",
       "    <tr>\n",
       "      <th>1</th>\n",
       "      <td>1.000000</td>\n",
       "      <td>0</td>\n",
       "      <td>0.208000</td>\n",
       "      <td>0.333333</td>\n",
       "      <td>0.559322</td>\n",
       "      <td>1</td>\n",
       "      <td>0</td>\n",
       "      <td>0.406780</td>\n",
       "      <td>0.449704</td>\n",
       "    </tr>\n",
       "    <tr>\n",
       "      <th>2</th>\n",
       "      <td>0.198125</td>\n",
       "      <td>0</td>\n",
       "      <td>0.302198</td>\n",
       "      <td>1.000000</td>\n",
       "      <td>0.559322</td>\n",
       "      <td>1</td>\n",
       "      <td>0</td>\n",
       "      <td>0.700146</td>\n",
       "      <td>0.661515</td>\n",
       "    </tr>\n",
       "    <tr>\n",
       "      <th>3</th>\n",
       "      <td>1.000000</td>\n",
       "      <td>0</td>\n",
       "      <td>0.208000</td>\n",
       "      <td>0.333333</td>\n",
       "      <td>0.559322</td>\n",
       "      <td>1</td>\n",
       "      <td>0</td>\n",
       "      <td>0.406780</td>\n",
       "      <td>0.661515</td>\n",
       "    </tr>\n",
       "    <tr>\n",
       "      <th>4</th>\n",
       "      <td>0.201250</td>\n",
       "      <td>1</td>\n",
       "      <td>0.843327</td>\n",
       "      <td>1.000000</td>\n",
       "      <td>0.559322</td>\n",
       "      <td>1</td>\n",
       "      <td>0</td>\n",
       "      <td>0.700146</td>\n",
       "      <td>0.661515</td>\n",
       "    </tr>\n",
       "  </tbody>\n",
       "</table>\n",
       "</div>"
      ],
      "text/plain": [
       "     Fare_s  Sex_   Title_s  Pclass_s     Age_s  HasAge  Parch_s   Cabin_s  \\\n",
       "0  0.181250     1  0.843327  1.000000  0.288136       1        0  0.700146   \n",
       "1  1.000000     0  0.208000  0.333333  0.559322       1        0  0.406780   \n",
       "2  0.198125     0  0.302198  1.000000  0.559322       1        0  0.700146   \n",
       "3  1.000000     0  0.208000  0.333333  0.559322       1        0  0.406780   \n",
       "4  0.201250     1  0.843327  1.000000  0.559322       1        0  0.700146   \n",
       "\n",
       "   Embarked_s  \n",
       "0    0.661515  \n",
       "1    0.449704  \n",
       "2    0.661515  \n",
       "3    0.661515  \n",
       "4    0.661515  "
      ]
     },
     "execution_count": 8,
     "metadata": {},
     "output_type": "execute_result"
    }
   ],
   "source": [
    "df[features].head()"
   ]
  },
  {
   "cell_type": "code",
   "execution_count": 9,
   "metadata": {
    "collapsed": false
   },
   "outputs": [
    {
     "data": {
      "text/plain": [
       "<matplotlib.text.Text at 0x11567ef90>"
      ]
     },
     "execution_count": 9,
     "metadata": {},
     "output_type": "execute_result"
    },
    {
     "data": {
      "image/png": "[encoded data removed]",
      "text/plain": [
       "<matplotlib.figure.Figure at 0x1050e5fd0>"
      ]
     },
     "metadata": {},
     "output_type": "display_data"
    }
   ],
   "source": [
    "f, ((ax11, ax12, ax13), (ax21, ax22,ax23), (ax31,ax32,ax33)) = plt.subplots(3, 3,figsize=(15,10))\n",
    "\n",
    "ax11.hist(df['Sex_'])\n",
    "ax11.set_title('Sex_')\n",
    "ax12.hist(df['Fare_s'])\n",
    "ax12.set_title('Fare_s')\n",
    "ax13.hist(df['Title_s'])\n",
    "ax13.set_title('Title_s')\n",
    "\n",
    "ax21.hist(df['Pclass_s'])\n",
    "ax21.set_title('Pclass_s')\n",
    "ax22.hist(df['Age_s'])\n",
    "ax22.set_title('Age_s')\n",
    "ax23.hist(df['Parch_s'])\n",
    "ax23.set_title('Parch_s')\n",
    "\n",
    "ax31.hist(df['Cabin_s'])\n",
    "ax31.set_title('Cabin_s')\n",
    "ax32.hist(df['Embarked_s'])\n",
    "ax32.set_title('Embarked_s')\n",
    "ax33.hist(df['HasAge'])\n",
    "ax33.set_title('HasAge')\n",
    "\n"
   ]
  },
  {
   "cell_type": "code",
   "execution_count": 10,
   "metadata": {
    "collapsed": false
   },
   "outputs": [
    {
     "data": {
      "text/plain": [
       "<matplotlib.text.Text at 0x116809590>"
      ]
     },
     "execution_count": 10,
     "metadata": {},
     "output_type": "execute_result"
    },
    {
     "data": {
      "image/png": "[encoded data removed]",
      "text/plain": [
       "<matplotlib.figure.Figure at 0x1159dda90>"
      ]
     },
     "metadata": {},
     "output_type": "display_data"
    }
   ],
   "source": [
    "plt.figure(figsize=(15,5))\n",
    "\n",
    "feature = 'Pclass'\n",
    "\n",
    "df_1 = df[(df['Survived']==1) & (df['Sex_']==0)]\n",
    "plt.scatter(df_1['Age'], df_1[feature], s=80,marker='o',facecolors='none', edgecolors='g', label='Female, alive')\n",
    "\n",
    "df_1 = df[(df['Survived']==1) & (df['Sex_']==1)]\n",
    "plt.scatter(df_1['Age'], df_1[feature]+0.2*df_1['Sex_'], s=80,marker='v',facecolors='none', edgecolors='g', label='Male, alive')\n",
    "\n",
    "df_0 = df[(df['Survived']==0) & (df['Sex_']==0)]\n",
    "plt.scatter(df_0['Age'], df_0[feature], s=80,marker='o',facecolors='none', edgecolors='r', label='Male, dead')\n",
    "\n",
    "df_0 = df[(df['Survived']==0) & (df['Sex_']==1)]\n",
    "plt.scatter(df_0['Age'], df_0[feature]+0.2*df_0['Sex_'], s=80,marker='v',facecolors='none', edgecolors='r', label='Male, dead')\n",
    "\n",
    "plt.legend(loc='lower right')\n",
    "\n",
    "plt.ylabel(feature)\n",
    "plt.xlabel('Age')\n",
    "plt.title('Titanic survival plot by Pclass, age and gender')"
   ]
  },
  {
   "cell_type": "code",
   "execution_count": 11,
   "metadata": {
    "collapsed": false
   },
   "outputs": [
    {
     "data": {
      "text/plain": [
       "<matplotlib.text.Text at 0x116b8af10>"
      ]
     },
     "execution_count": 11,
     "metadata": {},
     "output_type": "execute_result"
    },
    {
     "data": {
      "image/png": "[encoded data removed]",
      "text/plain": [
       "<matplotlib.figure.Figure at 0x1166ccc90>"
      ]
     },
     "metadata": {},
     "output_type": "display_data"
    }
   ],
   "source": [
    "plt.figure(figsize=(15,5))\n",
    "\n",
    "feature = 'Fare_s'\n",
    "\n",
    "df_1 = df[(df['Survived']==1) & (df['Sex_']==0)]\n",
    "plt.scatter(df_1['Age'], df_1[feature], s=80,marker='o',facecolors='none', edgecolors='g', label='Female, alive')\n",
    "\n",
    "df_1 = df[(df['Survived']==1) & (df['Sex_']==1)]\n",
    "plt.scatter(df_1['Age'], df_1[feature]+1*df_1['Sex_'], s=80,marker='v',facecolors='none', edgecolors='g', label='Male, alive')\n",
    "\n",
    "df_0 = df[(df['Survived']==0) & (df['Sex_']==0)]\n",
    "plt.scatter(df_0['Age'], df_0[feature], s=80,marker='o',facecolors='none', edgecolors='r', label='Male, dead')\n",
    "\n",
    "df_0 = df[(df['Survived']==0) & (df['Sex_']==1)]\n",
    "plt.scatter(df_0['Age'], df_0[feature]+1*df_0['Sex_'], s=80,marker='v',facecolors='none', edgecolors='r', label='Male, dead')\n",
    "\n",
    "plt.legend(loc='lower right')\n",
    "\n",
    "plt.ylabel(feature)\n",
    "plt.xlabel('Age')\n",
    "plt.title('Titanic survival plot by Pclass, age and gender')"
   ]
  },
  {
   "cell_type": "markdown",
   "metadata": {},
   "source": [
    "## Simply remove some outlier"
   ]
  },
  {
   "cell_type": "code",
   "execution_count": 12,
   "metadata": {
    "collapsed": false
   },
   "outputs": [
    {
     "data": {
      "text/html": [
       "<div>\n",
       "<table border=\"1\" class=\"dataframe\">\n",
       "  <thead>\n",
       "    <tr style=\"text-align: right;\">\n",
       "      <th></th>\n",
       "      <th>PassengerId</th>\n",
       "      <th>Survived</th>\n",
       "      <th>Pclass</th>\n",
       "      <th>Name</th>\n",
       "      <th>Sex</th>\n",
       "      <th>Age</th>\n",
       "      <th>SibSp</th>\n",
       "      <th>Parch</th>\n",
       "      <th>Ticket</th>\n",
       "      <th>Fare</th>\n",
       "      <th>...</th>\n",
       "      <th>Pclass_s</th>\n",
       "      <th>SibSp_s</th>\n",
       "      <th>Parch_s</th>\n",
       "      <th>HasAge</th>\n",
       "      <th>Age_</th>\n",
       "      <th>Age_s</th>\n",
       "      <th>Age_with_Sex</th>\n",
       "      <th>Title_s</th>\n",
       "      <th>Cabin_s</th>\n",
       "      <th>Embarked_s</th>\n",
       "    </tr>\n",
       "  </thead>\n",
       "  <tbody>\n",
       "    <tr>\n",
       "      <th>297</th>\n",
       "      <td>298</td>\n",
       "      <td>0</td>\n",
       "      <td>1</td>\n",
       "      <td>Allison, Miss. Helen Loraine</td>\n",
       "      <td>female</td>\n",
       "      <td>2</td>\n",
       "      <td>1</td>\n",
       "      <td>2</td>\n",
       "      <td>113781</td>\n",
       "      <td>40</td>\n",
       "      <td>...</td>\n",
       "      <td>0.333333</td>\n",
       "      <td>0.333333</td>\n",
       "      <td>0.666667</td>\n",
       "      <td>1</td>\n",
       "      <td>1</td>\n",
       "      <td>0</td>\n",
       "      <td>0</td>\n",
       "      <td>0.302198</td>\n",
       "      <td>0.40678</td>\n",
       "      <td>0.661515</td>\n",
       "    </tr>\n",
       "  </tbody>\n",
       "</table>\n",
       "<p>1 rows × 27 columns</p>\n",
       "</div>"
      ],
      "text/plain": [
       "     PassengerId  Survived  Pclass                          Name     Sex  Age  \\\n",
       "297          298         0       1  Allison, Miss. Helen Loraine  female    2   \n",
       "\n",
       "     SibSp  Parch  Ticket  Fare     ...      Pclass_s   SibSp_s   Parch_s  \\\n",
       "297      1      2  113781    40     ...      0.333333  0.333333  0.666667   \n",
       "\n",
       "    HasAge Age_  Age_s  Age_with_Sex   Title_s  Cabin_s  Embarked_s  \n",
       "297      1    1      0             0  0.302198  0.40678    0.661515  \n",
       "\n",
       "[1 rows x 27 columns]"
      ]
     },
     "execution_count": 12,
     "metadata": {},
     "output_type": "execute_result"
    }
   ],
   "source": [
    "df[(df['Survived']==0) & (df['Sex_']==0) &(df['Pclass']==1) &(df['Age']<12)]"
   ]
  },
  {
   "cell_type": "code",
   "execution_count": 13,
   "metadata": {
    "collapsed": false
   },
   "outputs": [],
   "source": [
    "df.loc[297, 'Survived'] = 1"
   ]
  },
  {
   "cell_type": "code",
   "execution_count": 14,
   "metadata": {
    "collapsed": false
   },
   "outputs": [
    {
     "data": {
      "text/html": [
       "<div>\n",
       "<table border=\"1\" class=\"dataframe\">\n",
       "  <thead>\n",
       "    <tr style=\"text-align: right;\">\n",
       "      <th></th>\n",
       "      <th>PassengerId</th>\n",
       "      <th>Survived</th>\n",
       "      <th>Pclass</th>\n",
       "      <th>Name</th>\n",
       "      <th>Sex</th>\n",
       "      <th>Age</th>\n",
       "      <th>SibSp</th>\n",
       "      <th>Parch</th>\n",
       "      <th>Ticket</th>\n",
       "      <th>Fare</th>\n",
       "      <th>...</th>\n",
       "      <th>Pclass_s</th>\n",
       "      <th>SibSp_s</th>\n",
       "      <th>Parch_s</th>\n",
       "      <th>HasAge</th>\n",
       "      <th>Age_</th>\n",
       "      <th>Age_s</th>\n",
       "      <th>Age_with_Sex</th>\n",
       "      <th>Title_s</th>\n",
       "      <th>Cabin_s</th>\n",
       "      <th>Embarked_s</th>\n",
       "    </tr>\n",
       "  </thead>\n",
       "  <tbody>\n",
       "  </tbody>\n",
       "</table>\n",
       "<p>0 rows × 27 columns</p>\n",
       "</div>"
      ],
      "text/plain": [
       "Empty DataFrame\n",
       "Columns: [PassengerId, Survived, Pclass, Name, Sex, Age, SibSp, Parch, Ticket, Fare, Cabin, Embarked, Title, Cabin_, Embarked_, Sex_, Fare_s, Pclass_s, SibSp_s, Parch_s, HasAge, Age_, Age_s, Age_with_Sex, Title_s, Cabin_s, Embarked_s]\n",
       "Index: []\n",
       "\n",
       "[0 rows x 27 columns]"
      ]
     },
     "execution_count": 14,
     "metadata": {},
     "output_type": "execute_result"
    }
   ],
   "source": [
    "df[(df['Survived']==0) & (df['Sex_']==0) &(df['Pclass']==1) &(df['Age']<12)]"
   ]
  },
  {
   "cell_type": "code",
   "execution_count": 15,
   "metadata": {
    "collapsed": false
   },
   "outputs": [
    {
     "data": {
      "text/html": [
       "<div>\n",
       "<table border=\"1\" class=\"dataframe\">\n",
       "  <thead>\n",
       "    <tr style=\"text-align: right;\">\n",
       "      <th></th>\n",
       "      <th>PassengerId</th>\n",
       "      <th>Survived</th>\n",
       "      <th>Pclass</th>\n",
       "      <th>Name</th>\n",
       "      <th>Sex</th>\n",
       "      <th>Age</th>\n",
       "      <th>SibSp</th>\n",
       "      <th>Parch</th>\n",
       "      <th>Ticket</th>\n",
       "      <th>Fare</th>\n",
       "      <th>...</th>\n",
       "      <th>Pclass_s</th>\n",
       "      <th>SibSp_s</th>\n",
       "      <th>Parch_s</th>\n",
       "      <th>HasAge</th>\n",
       "      <th>Age_</th>\n",
       "      <th>Age_s</th>\n",
       "      <th>Age_with_Sex</th>\n",
       "      <th>Title_s</th>\n",
       "      <th>Cabin_s</th>\n",
       "      <th>Embarked_s</th>\n",
       "    </tr>\n",
       "  </thead>\n",
       "  <tbody>\n",
       "    <tr>\n",
       "      <th>483</th>\n",
       "      <td>484</td>\n",
       "      <td>1</td>\n",
       "      <td>3</td>\n",
       "      <td>Turkula, Mrs. (Hedwig)</td>\n",
       "      <td>female</td>\n",
       "      <td>63</td>\n",
       "      <td>0</td>\n",
       "      <td>0</td>\n",
       "      <td>4134</td>\n",
       "      <td>9.5875</td>\n",
       "      <td>...</td>\n",
       "      <td>1.000000</td>\n",
       "      <td>0</td>\n",
       "      <td>0</td>\n",
       "      <td>1</td>\n",
       "      <td>60</td>\n",
       "      <td>1</td>\n",
       "      <td>1</td>\n",
       "      <td>0.208000</td>\n",
       "      <td>0.700146</td>\n",
       "      <td>0.661515</td>\n",
       "    </tr>\n",
       "    <tr>\n",
       "      <th>570</th>\n",
       "      <td>571</td>\n",
       "      <td>1</td>\n",
       "      <td>2</td>\n",
       "      <td>Harris, Mr. George</td>\n",
       "      <td>male</td>\n",
       "      <td>62</td>\n",
       "      <td>0</td>\n",
       "      <td>0</td>\n",
       "      <td>S.W./PP 752</td>\n",
       "      <td>10.5000</td>\n",
       "      <td>...</td>\n",
       "      <td>0.666667</td>\n",
       "      <td>0</td>\n",
       "      <td>0</td>\n",
       "      <td>1</td>\n",
       "      <td>60</td>\n",
       "      <td>1</td>\n",
       "      <td>2</td>\n",
       "      <td>0.843327</td>\n",
       "      <td>0.700146</td>\n",
       "      <td>0.661515</td>\n",
       "    </tr>\n",
       "  </tbody>\n",
       "</table>\n",
       "<p>2 rows × 27 columns</p>\n",
       "</div>"
      ],
      "text/plain": [
       "     PassengerId  Survived  Pclass                    Name     Sex  Age  \\\n",
       "483          484         1       3  Turkula, Mrs. (Hedwig)  female   63   \n",
       "570          571         1       2      Harris, Mr. George    male   62   \n",
       "\n",
       "     SibSp  Parch       Ticket     Fare     ...      Pclass_s SibSp_s Parch_s  \\\n",
       "483      0      0         4134   9.5875     ...      1.000000       0       0   \n",
       "570      0      0  S.W./PP 752  10.5000     ...      0.666667       0       0   \n",
       "\n",
       "    HasAge Age_  Age_s  Age_with_Sex   Title_s   Cabin_s  Embarked_s  \n",
       "483      1   60      1             1  0.208000  0.700146    0.661515  \n",
       "570      1   60      1             2  0.843327  0.700146    0.661515  \n",
       "\n",
       "[2 rows x 27 columns]"
      ]
     },
     "execution_count": 15,
     "metadata": {},
     "output_type": "execute_result"
    }
   ],
   "source": [
    "df[(df['Survived']==1) &(df['Pclass']>1) &(df['Age']>60)]"
   ]
  },
  {
   "cell_type": "code",
   "execution_count": 16,
   "metadata": {
    "collapsed": false
   },
   "outputs": [],
   "source": [
    "df.loc[483,'Survived'] = 0\n",
    "df.loc[570,'Survived'] = 0"
   ]
  },
  {
   "cell_type": "markdown",
   "metadata": {},
   "source": [
    "## Study Model"
   ]
  },
  {
   "cell_type": "markdown",
   "metadata": {},
   "source": [
    "### Random shaffle validation - (don't use this, use the KFold CV below instead)"
   ]
  },
  {
   "cell_type": "code",
   "execution_count": 24,
   "metadata": {
    "collapsed": false
   },
   "outputs": [],
   "source": [
    "def correct_rate(lr_model):\n",
    "    correct_rate = 0.0\n",
    "    correct_rate_train = 0.0\n",
    "\n",
    "    number_run = 1\n",
    "    for i in range(number_run):\n",
    "\n",
    "        msk = np.random.rand(len(df)) < 0.8\n",
    "        _train = df[msk]\n",
    "        _validation = df[~msk]\n",
    "\n",
    "        X_train = _train[features]\n",
    "        print len(X_train)\n",
    "        print X_train.shape\n",
    "        X_train = poly.fit_transform(X_train)\n",
    "\n",
    "\n",
    "        lr_model.fit(X_train ,_train['Survived'])\n",
    "\n",
    "        X_validation = _validation[features]\n",
    "        X_validation = poly.fit_transform(X_validation)\n",
    "\n",
    "        #predict = lr_model.predict(X_validation)\n",
    "\n",
    "        #correct_rate += accuracy_score(_validation['Survived'],predict)\n",
    "        correct_rate += lr_model.score(X_validation, _validation['Survived'])\n",
    "        correct_rate_train += lr_model.score(X_train, _train['Survived'])\n",
    "\n",
    "    correct_rate = correct_rate/number_run\n",
    "    correct_rate_train = correct_rate_train/number_run\n",
    "\n",
    "    return (correct_rate, correct_rate_train)"
   ]
  },
  {
   "cell_type": "code",
   "execution_count": 26,
   "metadata": {
    "collapsed": false
   },
   "outputs": [],
   "source": [
    "# x = correct_rate(lr_model)"
   ]
  },
  {
   "cell_type": "markdown",
   "metadata": {},
   "source": [
    "## K Fold cross validation"
   ]
  },
  {
   "cell_type": "code",
   "execution_count": null,
   "metadata": {
    "collapsed": false
   },
   "outputs": [],
   "source": [
    "def correct_rate_KFold(_df, _lr_model,features, label, quiet=False):\n",
    "    # call it as: correct_rate_KFold(df, lr_model, features, 'Survived')\n",
    "    train_data =  poly.fit_transform(_df[features])\n",
    "    kfold = StratifiedKFold(y=_df[label], n_folds=10, random_state=2)\n",
    "\n",
    "    scores = []\n",
    "\n",
    "    for k, (train, test) in enumerate(kfold):\n",
    "        _lr_model.fit(train_data[train], _df[label][train])\n",
    "        \n",
    "        #score = _lr_model.score(train_data[test], _df[label][test])\n",
    "        score_t = _lr_model.score(train_data[train], _df[label][train])\n",
    "        \n",
    "        prediction_test = _lr_model.predict(train_data[test])\n",
    "        \n",
    "        score = accuracy_score(y_true=_df[label][test], y_pred=prediction_test)\n",
    "        p = precision_score(y_true=_df[label][test], y_pred=prediction_test)\n",
    "        r = recall_score(y_true=_df[label][test], y_pred=prediction_test)\n",
    "        f1 = f1_score(y_true=_df[label][test], y_pred=prediction_test)\n",
    "        \n",
    "        scores.append((score, score_t, p, r, f1))\n",
    "        if not quiet:\n",
    "            print('Fold: %s, Label dist.: %s, Acc: %.3f, Train_acc: %.3f, P: %.3f, R: %.3f, F1: %.3f' % (k+1,\n",
    "                                                          np.bincount(df[label][train]),\n",
    "                                                          score, score_t, p, r, f1\n",
    "                                                         ))\n",
    "    if not quiet:\n",
    "        r = np.array(scores).mean(0)\n",
    "        print('Total accuracy: %.3f Train_acc: %.3f, P: %.3f, R: %.3f, F1: %.3f' % tuple(r))\n",
    "    return np.mean(np.array(scores),axis=0)"
   ]
  },
  {
   "cell_type": "code",
   "execution_count": null,
   "metadata": {
    "collapsed": false
   },
   "outputs": [],
   "source": [
    "correct_rate_KFold(df, lr_model, features, 'Survived')"
   ]
  },
  {
   "cell_type": "markdown",
   "metadata": {
    "collapsed": false
   },
   "source": [
    "## Okay score above, but how can I make the model even better???"
   ]
  },
  {
   "cell_type": "code",
   "execution_count": null,
   "metadata": {
    "collapsed": false
   },
   "outputs": [],
   "source": [
    "plt.hist(df['Survived'], 3)"
   ]
  },
  {
   "cell_type": "markdown",
   "metadata": {},
   "source": [
    "## Precision and Recall evaluation"
   ]
  },
  {
   "cell_type": "code",
   "execution_count": null,
   "metadata": {
    "collapsed": false
   },
   "outputs": [],
   "source": [
    "from sklearn.metrics import confusion_matrix\n",
    "from sklearn.metrics import precision_score, recall_score, f1_score, accuracy_score\n",
    "\n",
    "msk = np.random.rand(len(df)) < 0.8\n",
    "_train = df[msk]\n",
    "_validation = df[~msk]\n",
    "\n",
    "X_train = _train[features]\n",
    "X_train = poly.fit_transform(X_train)\n",
    "\n",
    "\n",
    "lr_model.fit(X_train ,_train['Survived'])\n",
    "\n",
    "X_validation = _validation[features]\n",
    "X_validation = poly.fit_transform(X_validation)\n",
    "predict = lr_model.predict(X_validation)\n",
    "\n",
    "confmat = confusion_matrix(y_true=_validation['Survived'], y_pred=predict)\n",
    "\n",
    "print 'One test on a 8/2 split validation data:'\n",
    "print ''\n",
    "print(confmat)\n",
    "\n",
    "print('Accuracy: %.3f' % accuracy_score(y_true=_validation['Survived'], y_pred=predict))\n",
    "print('Precision: %.3f' % precision_score(y_true=_validation['Survived'], y_pred=predict))\n",
    "print('Recall: %.3f' % recall_score(y_true=_validation['Survived'], y_pred=predict))\n",
    "print('F1: %.3f' % f1_score(y_true=_validation['Survived'], y_pred=predict))"
   ]
  },
  {
   "cell_type": "markdown",
   "metadata": {},
   "source": [
    "## Example - using cross_validation with f1 score"
   ]
  },
  {
   "cell_type": "code",
   "execution_count": null,
   "metadata": {
    "collapsed": false
   },
   "outputs": [],
   "source": [
    "from sklearn import cross_validation\n",
    "from sklearn.metrics import precision_score, recall_score, f1_score, accuracy_score\n",
    "\n",
    "threshold = []\n",
    "scores = []\n",
    "for t in np.linspace(0.3, 0.8, num=20):\n",
    "    \n",
    "    lr_model.class_weight = {0:t, 1:1-t}\n",
    "    #f1_s = cross_validation.cross_val_score(lr_model,\n",
    "    #                             poly.fit_transform(df[features]),\n",
    "    #                             df['Survived'],\n",
    "    #                             scoring='f1',\n",
    "    #                             cv=8)\n",
    "    \n",
    "    predicted = cross_validation.cross_val_predict(lr_model, poly.fit_transform(df[features]),\n",
    "                                                   df['Survived'], cv=8, n_jobs=-1)\n",
    "    acc_s = accuracy_score(df['Survived'], predicted)\n",
    "    p_s = precision_score(df['Survived'], predicted)\n",
    "    r_s = recall_score(df['Survived'], predicted)\n",
    "    f1_s = f1_score(df['Survived'], predicted)\n",
    "    \n",
    "    print('Threshold: %.3f, Acc: %.3f, P: %.3f, R: %.3f, F1: %.3f' % (t, acc_s, p_s, r_s, f1_s))\n",
    "    threshold.append(t)\n",
    "    scores.append(np.mean(f1_s))\n",
    "    \n",
    "    #http://stackoverflow.com/questions/19984957/scikit-predict-default-threshold"
   ]
  },
  {
   "cell_type": "markdown",
   "metadata": {},
   "source": [
    "## Choose Threshold as 0.7"
   ]
  },
  {
   "cell_type": "code",
   "execution_count": null,
   "metadata": {
    "collapsed": false
   },
   "outputs": [],
   "source": [
    "class_weight={0: 0.7,\n",
    "              1: 1-0.7}\n",
    "lr_model.class_weight = class_weight\n",
    "print lr_model"
   ]
  },
  {
   "cell_type": "markdown",
   "metadata": {},
   "source": [
    "## Good results above"
   ]
  },
  {
   "cell_type": "markdown",
   "metadata": {},
   "source": [
    "## Choosing C:"
   ]
  },
  {
   "cell_type": "code",
   "execution_count": null,
   "metadata": {
    "collapsed": false
   },
   "outputs": [],
   "source": [
    "C_para, score = [], []\n",
    "\n",
    "for c in np.arange(-5, 8):\n",
    "    lr = LogisticRegression(C=3**c, random_state=0, n_jobs=-1, class_weight=class_weight)\n",
    "    rate = correct_rate_KFold(df, lr, features, 'Survived', quiet=True)\n",
    "    C_para.append(3**c)\n",
    "    score.append(rate)\n",
    "    \n",
    "    print('C: %f, acc: %.3f' % (3**c, rate[0]))\n",
    "\n",
    "score = np.array(score)\n"
   ]
  },
  {
   "cell_type": "code",
   "execution_count": null,
   "metadata": {
    "collapsed": false
   },
   "outputs": [],
   "source": [
    "plt.plot(C_para, score[:,0], label='validation correct rate')\n",
    "plt.plot(C_para, score[:,1], label='training correct rate')\n",
    "plt.plot(C_para, score[:,2], label='validation precision')\n",
    "plt.plot(C_para, score[:,3], label='validation recall')\n",
    "plt.plot(C_para, score[:,4], label='validation F1')\n",
    "plt.legend(loc='lower right')\n",
    "plt.xlabel('C')\n",
    "plt.xscale('log')\n",
    "print lr.class_weight"
   ]
  },
  {
   "cell_type": "code",
   "execution_count": null,
   "metadata": {
    "collapsed": false
   },
   "outputs": [],
   "source": [
    "n=3\n",
    "print C_para[n]\n",
    "print score[n]"
   ]
  },
  {
   "cell_type": "markdown",
   "metadata": {},
   "source": [
    "## Choose C=0.1"
   ]
  },
  {
   "cell_type": "markdown",
   "metadata": {},
   "source": [
    "## Train Model"
   ]
  },
  {
   "cell_type": "code",
   "execution_count": null,
   "metadata": {
    "collapsed": false
   },
   "outputs": [],
   "source": [
    "# Note, df has already been feature engineered above\n",
    "X = df[features]\n",
    "X = poly.fit_transform(X)\n",
    "\n",
    "lr_model_pro = LogisticRegression(C=0.1, random_state=0, n_jobs=-1, class_weight=class_weight)\n",
    "\n",
    "lr_model_pro.fit(X ,df['Survived'])"
   ]
  },
  {
   "cell_type": "code",
   "execution_count": null,
   "metadata": {
    "collapsed": false
   },
   "outputs": [],
   "source": [
    "pre = lr_model_pro.predict(X)\n",
    "print 1 - (pre != df['Survived']).sum()/float(len(df))\n",
    "\n",
    "#alternativly:\n",
    "\n",
    "from sklearn import cross_validation\n",
    "scores = cross_validation.cross_val_score(lr_model_pro,\n",
    "                                 poly.fit_transform(df[features]),\n",
    "                                 df['Survived'],\n",
    "                                 scoring='accuracy',\n",
    "                                 cv=8)\n",
    "print scores.mean()\n",
    "scores = cross_validation.cross_val_score(lr_model_pro,\n",
    "                                 poly.fit_transform(df[features]),\n",
    "                                 df['Survived'],\n",
    "                                 scoring='precision',\n",
    "                                 cv=8)\n",
    "print scores.mean()"
   ]
  },
  {
   "cell_type": "code",
   "execution_count": null,
   "metadata": {
    "collapsed": false
   },
   "outputs": [],
   "source": [
    "print len(lr_model_pro.coef_[0])"
   ]
  },
  {
   "cell_type": "code",
   "execution_count": null,
   "metadata": {
    "collapsed": false
   },
   "outputs": [],
   "source": [
    "print X.shape"
   ]
  },
  {
   "cell_type": "markdown",
   "metadata": {},
   "source": [
    "## Predict test"
   ]
  },
  {
   "cell_type": "code",
   "execution_count": null,
   "metadata": {
    "collapsed": false
   },
   "outputs": [],
   "source": [
    "test = pd.read_csv('data/test.csv', sep=',')\n",
    "\n",
    "feature_engineering(test, title_mapping, cabin_mapping)\n",
    "\n",
    "X_test = test[features]\n",
    "X_test = poly.fit_transform(X_test)\n",
    "\n",
    "\n",
    "\n",
    "test['Survived'] = lr_model.predict(X_test).astype(int)"
   ]
  },
  {
   "cell_type": "code",
   "execution_count": null,
   "metadata": {
    "collapsed": false
   },
   "outputs": [],
   "source": [
    "plt.hist(test['Survived'] )"
   ]
  },
  {
   "cell_type": "code",
   "execution_count": null,
   "metadata": {
    "collapsed": false
   },
   "outputs": [],
   "source": [
    "test"
   ]
  },
  {
   "cell_type": "code",
   "execution_count": null,
   "metadata": {
    "collapsed": false
   },
   "outputs": [],
   "source": [
    "np.unique(test['Title'])"
   ]
  },
  {
   "cell_type": "code",
   "execution_count": null,
   "metadata": {
    "collapsed": false
   },
   "outputs": [],
   "source": [
    "import csv as csv\n",
    "predictions_file = open(\"LRmodel.rmOutlier.Od5.C0.1-thre0.721-acc0.79-p0.94.csv\", \"wb\")\n",
    "predictions_file_object = csv.writer(predictions_file)\n",
    "predictions_file_object.writerow([\"PassengerId\", \"Survived\"])\t# write the column headers\n",
    "for index, row in test.iterrows():\t\t\t\t\t\t\t\t\t# For each row in test file,\n",
    "    predictions_file_object.writerow([row['PassengerId'], row['Survived']])\t\t\t# write the PassengerId, and predict 1\n",
    "predictions_file.close()"
   ]
  },
  {
   "cell_type": "code",
   "execution_count": null,
   "metadata": {
    "collapsed": true
   },
   "outputs": [],
   "source": []
  }
 ],
 "metadata": {
  "kernelspec": {
   "display_name": "Python 2",
   "language": "python",
   "name": "python2"
  },
  "language_info": {
   "codemirror_mode": {
    "name": "ipython",
    "version": 2
   },
   "file_extension": ".py",
   "mimetype": "text/x-python",
   "name": "python",
   "nbconvert_exporter": "python",
   "pygments_lexer": "ipython2",
   "version": "2.7.11"
  }
 },
 "nbformat": 4,
 "nbformat_minor": 0
}
